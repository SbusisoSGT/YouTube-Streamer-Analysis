{
 "cells": [
  {
   "cell_type": "code",
   "execution_count": null,
   "metadata": {},
   "outputs": [],
   "source": [
    "import numpy as np\n",
    "import pandas as pd\n",
    "import plotly.express as px\n",
    "import matplotlib.pyplot as plt"
   ]
  },
  {
   "cell_type": "code",
   "execution_count": 2,
   "metadata": {},
   "outputs": [
    {
     "data": {
      "text/html": [
       "<div>\n",
       "<style scoped>\n",
       "    .dataframe tbody tr th:only-of-type {\n",
       "        vertical-align: middle;\n",
       "    }\n",
       "\n",
       "    .dataframe tbody tr th {\n",
       "        vertical-align: top;\n",
       "    }\n",
       "\n",
       "    .dataframe thead th {\n",
       "        text-align: right;\n",
       "    }\n",
       "</style>\n",
       "<table border=\"1\" class=\"dataframe\">\n",
       "  <thead>\n",
       "    <tr style=\"text-align: right;\">\n",
       "      <th></th>\n",
       "      <th>Rank</th>\n",
       "      <th>Username</th>\n",
       "      <th>Category</th>\n",
       "      <th>Subscribers</th>\n",
       "      <th>Country</th>\n",
       "      <th>Visits</th>\n",
       "      <th>Likes</th>\n",
       "      <th>Comments</th>\n",
       "      <th>Links</th>\n",
       "    </tr>\n",
       "  </thead>\n",
       "  <tbody>\n",
       "    <tr>\n",
       "      <th>0</th>\n",
       "      <td>1</td>\n",
       "      <td>tseries</td>\n",
       "      <td>Música y baile</td>\n",
       "      <td>249500000.0</td>\n",
       "      <td>India</td>\n",
       "      <td>86200.0</td>\n",
       "      <td>2700.0</td>\n",
       "      <td>78.0</td>\n",
       "      <td>http://youtube.com/channel/UCq-Fj5jknLsUf-MWSy...</td>\n",
       "    </tr>\n",
       "    <tr>\n",
       "      <th>1</th>\n",
       "      <td>2</td>\n",
       "      <td>MrBeast</td>\n",
       "      <td>Videojuegos, Humor</td>\n",
       "      <td>183500000.0</td>\n",
       "      <td>Estados Unidos</td>\n",
       "      <td>117400000.0</td>\n",
       "      <td>5300000.0</td>\n",
       "      <td>18500.0</td>\n",
       "      <td>http://youtube.com/channel/UCX6OQ3DkcsbYNE6H8u...</td>\n",
       "    </tr>\n",
       "    <tr>\n",
       "      <th>2</th>\n",
       "      <td>3</td>\n",
       "      <td>CoComelon</td>\n",
       "      <td>Educación</td>\n",
       "      <td>165500000.0</td>\n",
       "      <td>Unknown</td>\n",
       "      <td>7000000.0</td>\n",
       "      <td>24700.0</td>\n",
       "      <td>0.0</td>\n",
       "      <td>http://youtube.com/channel/UCbCmjCuTUZos6Inko4...</td>\n",
       "    </tr>\n",
       "    <tr>\n",
       "      <th>3</th>\n",
       "      <td>4</td>\n",
       "      <td>SETIndia</td>\n",
       "      <td>NaN</td>\n",
       "      <td>162600000.0</td>\n",
       "      <td>India</td>\n",
       "      <td>15600.0</td>\n",
       "      <td>166.0</td>\n",
       "      <td>9.0</td>\n",
       "      <td>http://youtube.com/channel/UCpEhnqL0y41EpW2TvW...</td>\n",
       "    </tr>\n",
       "    <tr>\n",
       "      <th>4</th>\n",
       "      <td>5</td>\n",
       "      <td>KidsDianaShow</td>\n",
       "      <td>Animación, Juguetes</td>\n",
       "      <td>113500000.0</td>\n",
       "      <td>Unknown</td>\n",
       "      <td>3900000.0</td>\n",
       "      <td>12400.0</td>\n",
       "      <td>0.0</td>\n",
       "      <td>http://youtube.com/channel/UCk8GzjMOrta8yxDcKf...</td>\n",
       "    </tr>\n",
       "  </tbody>\n",
       "</table>\n",
       "</div>"
      ],
      "text/plain": [
       "   Rank       Username             Category  Subscribers         Country  \\\n",
       "0     1        tseries       Música y baile  249500000.0           India   \n",
       "1     2        MrBeast   Videojuegos, Humor  183500000.0  Estados Unidos   \n",
       "2     3      CoComelon            Educación  165500000.0         Unknown   \n",
       "3     4       SETIndia                  NaN  162600000.0           India   \n",
       "4     5  KidsDianaShow  Animación, Juguetes  113500000.0         Unknown   \n",
       "\n",
       "        Visits      Likes  Comments  \\\n",
       "0      86200.0     2700.0      78.0   \n",
       "1  117400000.0  5300000.0   18500.0   \n",
       "2    7000000.0    24700.0       0.0   \n",
       "3      15600.0      166.0       9.0   \n",
       "4    3900000.0    12400.0       0.0   \n",
       "\n",
       "                                               Links  \n",
       "0  http://youtube.com/channel/UCq-Fj5jknLsUf-MWSy...  \n",
       "1  http://youtube.com/channel/UCX6OQ3DkcsbYNE6H8u...  \n",
       "2  http://youtube.com/channel/UCbCmjCuTUZos6Inko4...  \n",
       "3  http://youtube.com/channel/UCpEhnqL0y41EpW2TvW...  \n",
       "4  http://youtube.com/channel/UCk8GzjMOrta8yxDcKf...  "
      ]
     },
     "execution_count": 2,
     "metadata": {},
     "output_type": "execute_result"
    }
   ],
   "source": [
    "yt = pd.read_csv('youtubers_df.csv')\n",
    "\n",
    "yt.head()"
   ]
  },
  {
   "cell_type": "code",
   "execution_count": 3,
   "metadata": {},
   "outputs": [
    {
     "data": {
      "text/html": [
       "<div>\n",
       "<style scoped>\n",
       "    .dataframe tbody tr th:only-of-type {\n",
       "        vertical-align: middle;\n",
       "    }\n",
       "\n",
       "    .dataframe tbody tr th {\n",
       "        vertical-align: top;\n",
       "    }\n",
       "\n",
       "    .dataframe thead th {\n",
       "        text-align: right;\n",
       "    }\n",
       "</style>\n",
       "<table border=\"1\" class=\"dataframe\">\n",
       "  <thead>\n",
       "    <tr style=\"text-align: right;\">\n",
       "      <th></th>\n",
       "      <th>Country(Spanish)</th>\n",
       "      <th>Country(English)</th>\n",
       "      <th>Continent</th>\n",
       "    </tr>\n",
       "  </thead>\n",
       "  <tbody>\n",
       "    <tr>\n",
       "      <th>0</th>\n",
       "      <td>Arabia Saudita</td>\n",
       "      <td>Saudi Arabia</td>\n",
       "      <td>Asia</td>\n",
       "    </tr>\n",
       "    <tr>\n",
       "      <th>1</th>\n",
       "      <td>Argelia</td>\n",
       "      <td>Algeria</td>\n",
       "      <td>Africa</td>\n",
       "    </tr>\n",
       "    <tr>\n",
       "      <th>2</th>\n",
       "      <td>Argentina</td>\n",
       "      <td>Argentina</td>\n",
       "      <td>South America</td>\n",
       "    </tr>\n",
       "    <tr>\n",
       "      <th>3</th>\n",
       "      <td>Bangladesh</td>\n",
       "      <td>Bangladesh</td>\n",
       "      <td>Asia</td>\n",
       "    </tr>\n",
       "    <tr>\n",
       "      <th>4</th>\n",
       "      <td>Brasil</td>\n",
       "      <td>Brazil</td>\n",
       "      <td>South America</td>\n",
       "    </tr>\n",
       "  </tbody>\n",
       "</table>\n",
       "</div>"
      ],
      "text/plain": [
       "  Country(Spanish) Country(English)      Continent\n",
       "0   Arabia Saudita     Saudi Arabia           Asia\n",
       "1          Argelia          Algeria         Africa\n",
       "2        Argentina        Argentina  South America\n",
       "3       Bangladesh       Bangladesh           Asia\n",
       "4           Brasil           Brazil  South America"
      ]
     },
     "execution_count": 3,
     "metadata": {},
     "output_type": "execute_result"
    }
   ],
   "source": [
    "countries = pd.read_csv('countries.csv')\n",
    "countries.head()"
   ]
  },
  {
   "cell_type": "code",
   "execution_count": 4,
   "metadata": {},
   "outputs": [
    {
     "data": {
      "text/html": [
       "<div>\n",
       "<style scoped>\n",
       "    .dataframe tbody tr th:only-of-type {\n",
       "        vertical-align: middle;\n",
       "    }\n",
       "\n",
       "    .dataframe tbody tr th {\n",
       "        vertical-align: top;\n",
       "    }\n",
       "\n",
       "    .dataframe thead th {\n",
       "        text-align: right;\n",
       "    }\n",
       "</style>\n",
       "<table border=\"1\" class=\"dataframe\">\n",
       "  <thead>\n",
       "    <tr style=\"text-align: right;\">\n",
       "      <th></th>\n",
       "      <th>Category(Spanish)</th>\n",
       "      <th>Category(English)</th>\n",
       "    </tr>\n",
       "  </thead>\n",
       "  <tbody>\n",
       "    <tr>\n",
       "      <th>0</th>\n",
       "      <td>Música y baile</td>\n",
       "      <td>Music and dance</td>\n",
       "    </tr>\n",
       "    <tr>\n",
       "      <th>1</th>\n",
       "      <td>Videojuegos, Humor</td>\n",
       "      <td>Video games, Humor</td>\n",
       "    </tr>\n",
       "    <tr>\n",
       "      <th>2</th>\n",
       "      <td>Educación</td>\n",
       "      <td>Education</td>\n",
       "    </tr>\n",
       "    <tr>\n",
       "      <th>3</th>\n",
       "      <td>Animación, Juguetes</td>\n",
       "      <td>Animation, Toys</td>\n",
       "    </tr>\n",
       "    <tr>\n",
       "      <th>4</th>\n",
       "      <td>Películas, Videojuegos</td>\n",
       "      <td>Movies, Video games</td>\n",
       "    </tr>\n",
       "  </tbody>\n",
       "</table>\n",
       "</div>"
      ],
      "text/plain": [
       "        Category(Spanish)    Category(English)\n",
       "0          Música y baile      Music and dance\n",
       "1      Videojuegos, Humor   Video games, Humor\n",
       "2               Educación            Education\n",
       "3     Animación, Juguetes      Animation, Toys\n",
       "4  Películas, Videojuegos  Movies, Video games"
      ]
     },
     "execution_count": 4,
     "metadata": {},
     "output_type": "execute_result"
    }
   ],
   "source": [
    "categories = pd.read_csv('categories.csv', delimiter=';')\n",
    "categories.head()"
   ]
  },
  {
   "cell_type": "code",
   "execution_count": 5,
   "metadata": {},
   "outputs": [],
   "source": [
    "def abbrevNum(num):\n",
    "    sign = +1\n",
    "    num = int(num)\n",
    "\n",
    "    if (num < 0):\n",
    "        sign = -1\n",
    "        num = sign * num\n",
    "                            \n",
    "    if (num < 1e3): return str(sign * num)\n",
    "    if (num >= 1e3 and num < 1e6): return str(round(sign * (num / 1e3), ndigits=2)) + \"K\"\n",
    "    if (num >= 1e6 and num < 1e9): return str(round(sign * (num / 1e6), ndigits=2)) + \"M\"\n",
    "    if (num >= 1e9 and num < 1e12): return str(round(sign * (num / 1e9), ndigits=2)) + \"B\"\n",
    "    if (num >= 1e12): return str(round(sign * (num / 1e12), ndigits=2)) + \"T\""
   ]
  },
  {
   "cell_type": "markdown",
   "metadata": {},
   "source": [
    "## 1. Clean, Prepare, & Explore the data"
   ]
  },
  {
   "cell_type": "markdown",
   "metadata": {},
   "source": [
    "### 1.1 Handle Missing Data"
   ]
  },
  {
   "cell_type": "code",
   "execution_count": 6,
   "metadata": {},
   "outputs": [
    {
     "data": {
      "text/html": [
       "<div>\n",
       "<style scoped>\n",
       "    .dataframe tbody tr th:only-of-type {\n",
       "        vertical-align: middle;\n",
       "    }\n",
       "\n",
       "    .dataframe tbody tr th {\n",
       "        vertical-align: top;\n",
       "    }\n",
       "\n",
       "    .dataframe thead th {\n",
       "        text-align: right;\n",
       "    }\n",
       "</style>\n",
       "<table border=\"1\" class=\"dataframe\">\n",
       "  <thead>\n",
       "    <tr style=\"text-align: right;\">\n",
       "      <th></th>\n",
       "      <th>Rank</th>\n",
       "      <th>Username</th>\n",
       "      <th>Category</th>\n",
       "      <th>Subscribers</th>\n",
       "      <th>Country</th>\n",
       "      <th>Visits</th>\n",
       "      <th>Likes</th>\n",
       "      <th>Comments</th>\n",
       "      <th>Links</th>\n",
       "    </tr>\n",
       "  </thead>\n",
       "  <tbody>\n",
       "    <tr>\n",
       "      <th>0</th>\n",
       "      <td>1</td>\n",
       "      <td>tseries</td>\n",
       "      <td>Música y baile</td>\n",
       "      <td>249500000.0</td>\n",
       "      <td>India</td>\n",
       "      <td>86200.0</td>\n",
       "      <td>2700.0</td>\n",
       "      <td>78.0</td>\n",
       "      <td>http://youtube.com/channel/UCq-Fj5jknLsUf-MWSy...</td>\n",
       "    </tr>\n",
       "    <tr>\n",
       "      <th>1</th>\n",
       "      <td>2</td>\n",
       "      <td>MrBeast</td>\n",
       "      <td>Videojuegos, Humor</td>\n",
       "      <td>183500000.0</td>\n",
       "      <td>Estados Unidos</td>\n",
       "      <td>117400000.0</td>\n",
       "      <td>5300000.0</td>\n",
       "      <td>18500.0</td>\n",
       "      <td>http://youtube.com/channel/UCX6OQ3DkcsbYNE6H8u...</td>\n",
       "    </tr>\n",
       "    <tr>\n",
       "      <th>2</th>\n",
       "      <td>3</td>\n",
       "      <td>CoComelon</td>\n",
       "      <td>Educación</td>\n",
       "      <td>165500000.0</td>\n",
       "      <td>Unknown</td>\n",
       "      <td>7000000.0</td>\n",
       "      <td>24700.0</td>\n",
       "      <td>0.0</td>\n",
       "      <td>http://youtube.com/channel/UCbCmjCuTUZos6Inko4...</td>\n",
       "    </tr>\n",
       "    <tr>\n",
       "      <th>3</th>\n",
       "      <td>4</td>\n",
       "      <td>SETIndia</td>\n",
       "      <td>Unknown</td>\n",
       "      <td>162600000.0</td>\n",
       "      <td>India</td>\n",
       "      <td>15600.0</td>\n",
       "      <td>166.0</td>\n",
       "      <td>9.0</td>\n",
       "      <td>http://youtube.com/channel/UCpEhnqL0y41EpW2TvW...</td>\n",
       "    </tr>\n",
       "    <tr>\n",
       "      <th>4</th>\n",
       "      <td>5</td>\n",
       "      <td>KidsDianaShow</td>\n",
       "      <td>Animación, Juguetes</td>\n",
       "      <td>113500000.0</td>\n",
       "      <td>Unknown</td>\n",
       "      <td>3900000.0</td>\n",
       "      <td>12400.0</td>\n",
       "      <td>0.0</td>\n",
       "      <td>http://youtube.com/channel/UCk8GzjMOrta8yxDcKf...</td>\n",
       "    </tr>\n",
       "  </tbody>\n",
       "</table>\n",
       "</div>"
      ],
      "text/plain": [
       "   Rank       Username             Category  Subscribers         Country  \\\n",
       "0     1        tseries       Música y baile  249500000.0           India   \n",
       "1     2        MrBeast   Videojuegos, Humor  183500000.0  Estados Unidos   \n",
       "2     3      CoComelon            Educación  165500000.0         Unknown   \n",
       "3     4       SETIndia              Unknown  162600000.0           India   \n",
       "4     5  KidsDianaShow  Animación, Juguetes  113500000.0         Unknown   \n",
       "\n",
       "        Visits      Likes  Comments  \\\n",
       "0      86200.0     2700.0      78.0   \n",
       "1  117400000.0  5300000.0   18500.0   \n",
       "2    7000000.0    24700.0       0.0   \n",
       "3      15600.0      166.0       9.0   \n",
       "4    3900000.0    12400.0       0.0   \n",
       "\n",
       "                                               Links  \n",
       "0  http://youtube.com/channel/UCq-Fj5jknLsUf-MWSy...  \n",
       "1  http://youtube.com/channel/UCX6OQ3DkcsbYNE6H8u...  \n",
       "2  http://youtube.com/channel/UCbCmjCuTUZos6Inko4...  \n",
       "3  http://youtube.com/channel/UCpEhnqL0y41EpW2TvW...  \n",
       "4  http://youtube.com/channel/UCk8GzjMOrta8yxDcKf...  "
      ]
     },
     "execution_count": 6,
     "metadata": {},
     "output_type": "execute_result"
    }
   ],
   "source": [
    "# Fill in NaN values in the Category column with 'Unkown'\n",
    "yt['Category'] = yt['Category'].fillna('Unknown')\n",
    "yt.head()"
   ]
  },
  {
   "cell_type": "code",
   "execution_count": 16,
   "metadata": {},
   "outputs": [
    {
     "data": {
      "text/html": [
       "<div>\n",
       "<style scoped>\n",
       "    .dataframe tbody tr th:only-of-type {\n",
       "        vertical-align: middle;\n",
       "    }\n",
       "\n",
       "    .dataframe tbody tr th {\n",
       "        vertical-align: top;\n",
       "    }\n",
       "\n",
       "    .dataframe thead th {\n",
       "        text-align: right;\n",
       "    }\n",
       "</style>\n",
       "<table border=\"1\" class=\"dataframe\">\n",
       "  <thead>\n",
       "    <tr style=\"text-align: right;\">\n",
       "      <th></th>\n",
       "      <th>Rank</th>\n",
       "      <th>Username</th>\n",
       "      <th>Subscribers</th>\n",
       "      <th>Visits</th>\n",
       "      <th>Likes</th>\n",
       "      <th>Comments</th>\n",
       "      <th>Links</th>\n",
       "      <th>Category</th>\n",
       "      <th>Country</th>\n",
       "      <th>Continent</th>\n",
       "    </tr>\n",
       "  </thead>\n",
       "  <tbody>\n",
       "    <tr>\n",
       "      <th>0</th>\n",
       "      <td>1</td>\n",
       "      <td>tseries</td>\n",
       "      <td>249500000.0</td>\n",
       "      <td>86200.0</td>\n",
       "      <td>2700.0</td>\n",
       "      <td>78.0</td>\n",
       "      <td>http://youtube.com/channel/UCq-Fj5jknLsUf-MWSy...</td>\n",
       "      <td>Music and dance</td>\n",
       "      <td>India</td>\n",
       "      <td>Asia</td>\n",
       "    </tr>\n",
       "    <tr>\n",
       "      <th>1</th>\n",
       "      <td>2</td>\n",
       "      <td>MrBeast</td>\n",
       "      <td>183500000.0</td>\n",
       "      <td>117400000.0</td>\n",
       "      <td>5300000.0</td>\n",
       "      <td>18500.0</td>\n",
       "      <td>http://youtube.com/channel/UCX6OQ3DkcsbYNE6H8u...</td>\n",
       "      <td>Video games, Humor</td>\n",
       "      <td>United States</td>\n",
       "      <td>North America</td>\n",
       "    </tr>\n",
       "    <tr>\n",
       "      <th>5</th>\n",
       "      <td>6</td>\n",
       "      <td>PewDiePie</td>\n",
       "      <td>111500000.0</td>\n",
       "      <td>2400000.0</td>\n",
       "      <td>197300.0</td>\n",
       "      <td>4900.0</td>\n",
       "      <td>http://youtube.com/channel/UC-lHJZR3Gqxm24_Vd_...</td>\n",
       "      <td>Movies, Video games</td>\n",
       "      <td>United States</td>\n",
       "      <td>North America</td>\n",
       "    </tr>\n",
       "    <tr>\n",
       "      <th>8</th>\n",
       "      <td>9</td>\n",
       "      <td>zeemusiccompany</td>\n",
       "      <td>99700000.0</td>\n",
       "      <td>74300.0</td>\n",
       "      <td>2600.0</td>\n",
       "      <td>32.0</td>\n",
       "      <td>http://youtube.com/channel/UCFFbwnve3yF62-tVXk...</td>\n",
       "      <td>Music and dance</td>\n",
       "      <td>India</td>\n",
       "      <td>Asia</td>\n",
       "    </tr>\n",
       "    <tr>\n",
       "      <th>9</th>\n",
       "      <td>10</td>\n",
       "      <td>WWE</td>\n",
       "      <td>97200000.0</td>\n",
       "      <td>184500.0</td>\n",
       "      <td>6300.0</td>\n",
       "      <td>214.0</td>\n",
       "      <td>http://youtube.com/channel/UCJ5v_MCY6GNUBTO8-D...</td>\n",
       "      <td>Video games</td>\n",
       "      <td>United States</td>\n",
       "      <td>North America</td>\n",
       "    </tr>\n",
       "  </tbody>\n",
       "</table>\n",
       "</div>"
      ],
      "text/plain": [
       "   Rank         Username  Subscribers       Visits      Likes  Comments  \\\n",
       "0     1          tseries  249500000.0      86200.0     2700.0      78.0   \n",
       "1     2          MrBeast  183500000.0  117400000.0  5300000.0   18500.0   \n",
       "5     6        PewDiePie  111500000.0    2400000.0   197300.0    4900.0   \n",
       "8     9  zeemusiccompany   99700000.0      74300.0     2600.0      32.0   \n",
       "9    10              WWE   97200000.0     184500.0     6300.0     214.0   \n",
       "\n",
       "                                               Links             Category  \\\n",
       "0  http://youtube.com/channel/UCq-Fj5jknLsUf-MWSy...      Music and dance   \n",
       "1  http://youtube.com/channel/UCX6OQ3DkcsbYNE6H8u...   Video games, Humor   \n",
       "5  http://youtube.com/channel/UC-lHJZR3Gqxm24_Vd_...  Movies, Video games   \n",
       "8  http://youtube.com/channel/UCFFbwnve3yF62-tVXk...      Music and dance   \n",
       "9  http://youtube.com/channel/UCJ5v_MCY6GNUBTO8-D...          Video games   \n",
       "\n",
       "         Country      Continent  \n",
       "0          India           Asia  \n",
       "1  United States  North America  \n",
       "5  United States  North America  \n",
       "8          India           Asia  \n",
       "9  United States  North America  "
      ]
     },
     "execution_count": 16,
     "metadata": {},
     "output_type": "execute_result"
    }
   ],
   "source": [
    "# Remove columns with unknown Category & Country\n",
    "\n",
    "yt_filled = yt[(yt['Category'] != 'Unknown') & (yt['Country'] != 'Unknown')]\n",
    "yt_filled.head()"
   ]
  },
  {
   "cell_type": "markdown",
   "metadata": {},
   "source": [
    "### 1.2 Translate Spanish Columns to English"
   ]
  },
  {
   "cell_type": "code",
   "execution_count": 7,
   "metadata": {},
   "outputs": [],
   "source": [
    "# Translate Categories\n",
    "yt_categories = yt.merge(categories, how='inner', left_on='Category', right_on='Category(Spanish)')\n",
    "\n",
    "# Translate Countries\n",
    "yt_clean = yt_categories.merge(countries, how='inner', left_on='Country', right_on='Country(Spanish)')"
   ]
  },
  {
   "cell_type": "code",
   "execution_count": 8,
   "metadata": {},
   "outputs": [],
   "source": [
    "yt = yt_clean[['Rank', 'Username', 'Subscribers', 'Visits', 'Likes', 'Comments', 'Links', 'Category(English)', 'Country(English)', 'Continent']]"
   ]
  },
  {
   "cell_type": "code",
   "execution_count": null,
   "metadata": {},
   "outputs": [],
   "source": [
    "# Rename the column names for consistency\n",
    "yt.rename(columns = {'Category(English)':'Category', 'Country(English)':'Country'}, inplace = True)"
   ]
  },
  {
   "cell_type": "code",
   "execution_count": 10,
   "metadata": {},
   "outputs": [
    {
     "data": {
      "text/html": [
       "<div>\n",
       "<style scoped>\n",
       "    .dataframe tbody tr th:only-of-type {\n",
       "        vertical-align: middle;\n",
       "    }\n",
       "\n",
       "    .dataframe tbody tr th {\n",
       "        vertical-align: top;\n",
       "    }\n",
       "\n",
       "    .dataframe thead th {\n",
       "        text-align: right;\n",
       "    }\n",
       "</style>\n",
       "<table border=\"1\" class=\"dataframe\">\n",
       "  <thead>\n",
       "    <tr style=\"text-align: right;\">\n",
       "      <th></th>\n",
       "      <th>Rank</th>\n",
       "      <th>Username</th>\n",
       "      <th>Subscribers</th>\n",
       "      <th>Visits</th>\n",
       "      <th>Likes</th>\n",
       "      <th>Comments</th>\n",
       "      <th>Links</th>\n",
       "      <th>Category</th>\n",
       "      <th>Country</th>\n",
       "      <th>Continent</th>\n",
       "    </tr>\n",
       "  </thead>\n",
       "  <tbody>\n",
       "    <tr>\n",
       "      <th>0</th>\n",
       "      <td>1</td>\n",
       "      <td>tseries</td>\n",
       "      <td>249500000.0</td>\n",
       "      <td>86200.0</td>\n",
       "      <td>2700.0</td>\n",
       "      <td>78.0</td>\n",
       "      <td>http://youtube.com/channel/UCq-Fj5jknLsUf-MWSy...</td>\n",
       "      <td>Music and dance</td>\n",
       "      <td>India</td>\n",
       "      <td>Asia</td>\n",
       "    </tr>\n",
       "    <tr>\n",
       "      <th>1</th>\n",
       "      <td>2</td>\n",
       "      <td>MrBeast</td>\n",
       "      <td>183500000.0</td>\n",
       "      <td>117400000.0</td>\n",
       "      <td>5300000.0</td>\n",
       "      <td>18500.0</td>\n",
       "      <td>http://youtube.com/channel/UCX6OQ3DkcsbYNE6H8u...</td>\n",
       "      <td>Video games, Humor</td>\n",
       "      <td>United States</td>\n",
       "      <td>North America</td>\n",
       "    </tr>\n",
       "    <tr>\n",
       "      <th>2</th>\n",
       "      <td>3</td>\n",
       "      <td>CoComelon</td>\n",
       "      <td>165500000.0</td>\n",
       "      <td>7000000.0</td>\n",
       "      <td>24700.0</td>\n",
       "      <td>0.0</td>\n",
       "      <td>http://youtube.com/channel/UCbCmjCuTUZos6Inko4...</td>\n",
       "      <td>Education</td>\n",
       "      <td>Unknown</td>\n",
       "      <td>Unknown</td>\n",
       "    </tr>\n",
       "    <tr>\n",
       "      <th>3</th>\n",
       "      <td>4</td>\n",
       "      <td>SETIndia</td>\n",
       "      <td>162600000.0</td>\n",
       "      <td>15600.0</td>\n",
       "      <td>166.0</td>\n",
       "      <td>9.0</td>\n",
       "      <td>http://youtube.com/channel/UCpEhnqL0y41EpW2TvW...</td>\n",
       "      <td>Unknown</td>\n",
       "      <td>India</td>\n",
       "      <td>Asia</td>\n",
       "    </tr>\n",
       "    <tr>\n",
       "      <th>4</th>\n",
       "      <td>5</td>\n",
       "      <td>KidsDianaShow</td>\n",
       "      <td>113500000.0</td>\n",
       "      <td>3900000.0</td>\n",
       "      <td>12400.0</td>\n",
       "      <td>0.0</td>\n",
       "      <td>http://youtube.com/channel/UCk8GzjMOrta8yxDcKf...</td>\n",
       "      <td>Animation, Toys</td>\n",
       "      <td>Unknown</td>\n",
       "      <td>Unknown</td>\n",
       "    </tr>\n",
       "  </tbody>\n",
       "</table>\n",
       "</div>"
      ],
      "text/plain": [
       "   Rank       Username  Subscribers       Visits      Likes  Comments  \\\n",
       "0     1        tseries  249500000.0      86200.0     2700.0      78.0   \n",
       "1     2        MrBeast  183500000.0  117400000.0  5300000.0   18500.0   \n",
       "2     3      CoComelon  165500000.0    7000000.0    24700.0       0.0   \n",
       "3     4       SETIndia  162600000.0      15600.0      166.0       9.0   \n",
       "4     5  KidsDianaShow  113500000.0    3900000.0    12400.0       0.0   \n",
       "\n",
       "                                               Links            Category  \\\n",
       "0  http://youtube.com/channel/UCq-Fj5jknLsUf-MWSy...     Music and dance   \n",
       "1  http://youtube.com/channel/UCX6OQ3DkcsbYNE6H8u...  Video games, Humor   \n",
       "2  http://youtube.com/channel/UCbCmjCuTUZos6Inko4...           Education   \n",
       "3  http://youtube.com/channel/UCpEhnqL0y41EpW2TvW...             Unknown   \n",
       "4  http://youtube.com/channel/UCk8GzjMOrta8yxDcKf...     Animation, Toys   \n",
       "\n",
       "         Country      Continent  \n",
       "0          India           Asia  \n",
       "1  United States  North America  \n",
       "2        Unknown        Unknown  \n",
       "3          India           Asia  \n",
       "4        Unknown        Unknown  "
      ]
     },
     "execution_count": 10,
     "metadata": {},
     "output_type": "execute_result"
    }
   ],
   "source": [
    "yt.head()"
   ]
  },
  {
   "cell_type": "markdown",
   "metadata": {},
   "source": [
    "## 2. Trend Analysis"
   ]
  },
  {
   "cell_type": "markdown",
   "metadata": {},
   "source": [
    "### 2.1 Most Popular Categories"
   ]
  },
  {
   "cell_type": "code",
   "execution_count": 17,
   "metadata": {},
   "outputs": [],
   "source": [
    "popular_categories = yt_filled[['Category', 'Subscribers']].groupby('Category').sum().sort_values(by='Subscribers', ascending=False)[:10]\n"
   ]
  },
  {
   "cell_type": "code",
   "execution_count": 18,
   "metadata": {},
   "outputs": [
    {
     "data": {
      "text/html": [
       "<div>\n",
       "<style scoped>\n",
       "    .dataframe tbody tr th:only-of-type {\n",
       "        vertical-align: middle;\n",
       "    }\n",
       "\n",
       "    .dataframe tbody tr th {\n",
       "        vertical-align: top;\n",
       "    }\n",
       "\n",
       "    .dataframe thead th {\n",
       "        text-align: right;\n",
       "    }\n",
       "</style>\n",
       "<table border=\"1\" class=\"dataframe\">\n",
       "  <thead>\n",
       "    <tr style=\"text-align: right;\">\n",
       "      <th></th>\n",
       "      <th>Category</th>\n",
       "      <th>Subscribers</th>\n",
       "    </tr>\n",
       "  </thead>\n",
       "  <tbody>\n",
       "    <tr>\n",
       "      <th>0</th>\n",
       "      <td>Music and dance</td>\n",
       "      <td>3.84B</td>\n",
       "    </tr>\n",
       "    <tr>\n",
       "      <th>1</th>\n",
       "      <td>Movies, Animation</td>\n",
       "      <td>1.16B</td>\n",
       "    </tr>\n",
       "    <tr>\n",
       "      <th>2</th>\n",
       "      <td>Music and dance, Movies</td>\n",
       "      <td>708.7M</td>\n",
       "    </tr>\n",
       "    <tr>\n",
       "      <th>3</th>\n",
       "      <td>News and Politics</td>\n",
       "      <td>676.1M</td>\n",
       "    </tr>\n",
       "    <tr>\n",
       "      <th>4</th>\n",
       "      <td>Animation, Video games</td>\n",
       "      <td>659.4M</td>\n",
       "    </tr>\n",
       "    <tr>\n",
       "      <th>5</th>\n",
       "      <td>Daily vlogs</td>\n",
       "      <td>535.1M</td>\n",
       "    </tr>\n",
       "    <tr>\n",
       "      <th>6</th>\n",
       "      <td>Movies, Humor</td>\n",
       "      <td>509.1M</td>\n",
       "    </tr>\n",
       "    <tr>\n",
       "      <th>7</th>\n",
       "      <td>Animation, Humor</td>\n",
       "      <td>498.7M</td>\n",
       "    </tr>\n",
       "    <tr>\n",
       "      <th>8</th>\n",
       "      <td>Movies</td>\n",
       "      <td>489.2M</td>\n",
       "    </tr>\n",
       "    <tr>\n",
       "      <th>9</th>\n",
       "      <td>Video games, Humor</td>\n",
       "      <td>489.0M</td>\n",
       "    </tr>\n",
       "  </tbody>\n",
       "</table>\n",
       "</div>"
      ],
      "text/plain": [
       "                  Category Subscribers\n",
       "0          Music and dance       3.84B\n",
       "1        Movies, Animation       1.16B\n",
       "2  Music and dance, Movies      708.7M\n",
       "3        News and Politics      676.1M\n",
       "4   Animation, Video games      659.4M\n",
       "5              Daily vlogs      535.1M\n",
       "6            Movies, Humor      509.1M\n",
       "7         Animation, Humor      498.7M\n",
       "8                   Movies      489.2M\n",
       "9       Video games, Humor      489.0M"
      ]
     },
     "execution_count": 18,
     "metadata": {},
     "output_type": "execute_result"
    }
   ],
   "source": [
    "popular_categories['Subscribers'] = popular_categories['Subscribers'].apply(abbrevNum)\n",
    "popular_categories.reset_index()"
   ]
  },
  {
   "cell_type": "markdown",
   "metadata": {},
   "source": [
    "### 2.2 Correlation Between Subscribers & Likes and Comments"
   ]
  },
  {
   "cell_type": "code",
   "execution_count": 95,
   "metadata": {},
   "outputs": [
    {
     "data": {
      "application/vnd.plotly.v1+json": {
       "config": {
        "plotlyServerURL": "https://plot.ly"
       },
       "data": [
        {
         "hovertemplate": "Subscribers=%{x}<br>Likes=%{y}<extra></extra>",
         "legendgroup": "",
         "marker": {
          "color": "#636efa",
          "symbol": "circle"
         },
         "mode": "markers",
         "name": "",
         "orientation": "v",
         "showlegend": false,
         "type": "scatter",
         "x": [
          249500000,
          183500000,
          165500000,
          162600000,
          113500000,
          111500000,
          107500000,
          101400000,
          99700000,
          97200000,
          91300000,
          89700000,
          85400000,
          80300000,
          76500000,
          72700000,
          72500000,
          69600000,
          67500000,
          66599999.99999999,
          66599999.99999999,
          66400000.00000001,
          62600000,
          60900000,
          59900000,
          59700000,
          59700000,
          58900000,
          58700000,
          57900000,
          56700000,
          55700000,
          55700000,
          54800000,
          54100000,
          53700000,
          53100000,
          52900000,
          48800000,
          48600000,
          48600000,
          48100000,
          47500000,
          47300000,
          47000000,
          46400000,
          46000000,
          45900000,
          45600000,
          45000000,
          45000000,
          44600000,
          44400000,
          44400000,
          44400000,
          44200000,
          44000000,
          43700000,
          43400000,
          42900000,
          42900000,
          42500000,
          42100000,
          42100000,
          41100000,
          41000000,
          40600000,
          40300000,
          40100000,
          39900000,
          39600000,
          39500000,
          39500000,
          39400000,
          39300000,
          39100000,
          39100000,
          39100000,
          38700000,
          38300000,
          38300000,
          38100000,
          38100000,
          38100000,
          37700000,
          37500000,
          37400000,
          37300000,
          37300000,
          37000000,
          36900000,
          36800000,
          36700000,
          36600000,
          36500000,
          36300000,
          36300000,
          35700000,
          35600000,
          35500000,
          35500000,
          35000000,
          35000000,
          34700000,
          34600000,
          34500000,
          34200000,
          34200000,
          34200000,
          34200000,
          34000000,
          34000000,
          33600000,
          33600000,
          33300000,
          33200000.000000004,
          33000000,
          33000000,
          33000000,
          33000000,
          32900000,
          32800000,
          32700000.000000004,
          32600000,
          32600000,
          32400000,
          32200000.000000004,
          32200000.000000004,
          32200000.000000004,
          32200000.000000004,
          32100000,
          32000000,
          31900000,
          31800000,
          31600000,
          31400000,
          31300000,
          31200000,
          31100000,
          31000000,
          31000000,
          30900000,
          30600000,
          30600000,
          30600000,
          30400000,
          30400000,
          30400000,
          30400000,
          30200000,
          30200000,
          30000000,
          29900000,
          29800000,
          29800000,
          29700000,
          29700000,
          29500000,
          29400000,
          29400000,
          29400000,
          29300000,
          29200000,
          29200000,
          29000000,
          28800000,
          28800000,
          28700000,
          28400000,
          28200000,
          28100000,
          28000000,
          28000000,
          27900000,
          27800000,
          27800000,
          27800000,
          27800000,
          27800000,
          27600000,
          27500000,
          27300000,
          27200000,
          27100000,
          27100000,
          27000000,
          26800000,
          26800000,
          26800000,
          26700000,
          26600000,
          26600000,
          26300000,
          26300000,
          26200000,
          26100000,
          26100000,
          26000000,
          25900000,
          25900000,
          25900000,
          25900000,
          25900000,
          25900000,
          25800000,
          25700000,
          25700000,
          25700000,
          25700000,
          25700000,
          25500000,
          25500000,
          25500000,
          25500000,
          25400000,
          25100000,
          25000000,
          25000000,
          24900000,
          24900000,
          24900000,
          24900000,
          24800000,
          24800000,
          24700000,
          24700000,
          24700000,
          24600000,
          24600000,
          24400000,
          24400000,
          24400000,
          24400000,
          24400000,
          24300000,
          24300000,
          24300000,
          24300000,
          24300000,
          24100000,
          24100000,
          24000000,
          23900000,
          23900000,
          23900000,
          23900000,
          23800000,
          23700000,
          23700000,
          23700000,
          23700000,
          23600000,
          23500000,
          23500000,
          23500000,
          23500000,
          23400000,
          23400000,
          23400000,
          23400000,
          23300000,
          23300000,
          23300000,
          23300000,
          23200000,
          23200000,
          23100000,
          23100000,
          23000000,
          23000000,
          23000000,
          23000000,
          22900000,
          22900000,
          22900000,
          22800000,
          22800000,
          22800000,
          22700000,
          22700000,
          22700000,
          22700000,
          22700000,
          22700000,
          22600000,
          22500000,
          22500000,
          22500000,
          22500000,
          22400000,
          22400000,
          22400000,
          22300000,
          22300000,
          22300000,
          22300000,
          22100000,
          22100000,
          21900000,
          21900000,
          21900000,
          21900000,
          21900000,
          21800000,
          21700000,
          21700000,
          21700000,
          21700000,
          21700000,
          21500000,
          21500000,
          21300000,
          21100000,
          21100000,
          21100000,
          21100000,
          21100000,
          21100000,
          21100000,
          21100000,
          21000000,
          20900000,
          20800000,
          20800000,
          20700000,
          20700000,
          20700000,
          20700000,
          20700000,
          20700000,
          20600000,
          20600000,
          20600000,
          20500000,
          20500000,
          20500000,
          20500000,
          20500000,
          20500000,
          20500000,
          20400000,
          20400000,
          20400000,
          20300000,
          20300000,
          20300000,
          20300000,
          20200000,
          20100000,
          20100000,
          20100000,
          20100000,
          20100000,
          20100000,
          20100000,
          20100000,
          20100000,
          20100000,
          20100000,
          20100000,
          20100000,
          20000000,
          19900000,
          19900000,
          19900000,
          19900000,
          19900000,
          19800000,
          19800000,
          19800000,
          19700000,
          19700000,
          19700000,
          19600000,
          19500000,
          19500000,
          19500000,
          19500000,
          19400000,
          19300000,
          19300000,
          19300000,
          19300000,
          19300000,
          19200000,
          19100000,
          19100000,
          19100000,
          19100000,
          19100000,
          19100000,
          19100000,
          19100000,
          19100000,
          19100000,
          19100000,
          19000000,
          19000000,
          19000000,
          18900000,
          18800000,
          18800000,
          18800000,
          18700000,
          18600000,
          18600000,
          18600000,
          18600000,
          18600000,
          18600000,
          18600000,
          18600000,
          18500000,
          18500000,
          18400000,
          18400000,
          18400000,
          18400000,
          18400000,
          18400000,
          18300000,
          18200000,
          18200000,
          18200000,
          18200000,
          18200000,
          18200000,
          18200000,
          18200000,
          18200000,
          18200000,
          18000000,
          18000000,
          18000000,
          18000000,
          18000000,
          18000000,
          18000000,
          18000000,
          18000000,
          18000000,
          18000000,
          18000000,
          18000000,
          17800000,
          17800000,
          17800000,
          17800000,
          17800000,
          17800000,
          17900000,
          17800000,
          17700000,
          17700000,
          17700000,
          17700000,
          17700000,
          17600000,
          17600000,
          17600000,
          17600000,
          17600000,
          17600000,
          17500000,
          17500000,
          17400000,
          17400000,
          17400000,
          17400000,
          17400000,
          17300000,
          17300000,
          17200000,
          17200000,
          17200000,
          17200000,
          17200000,
          17000000,
          17000000,
          17000000,
          17000000,
          17000000,
          17000000,
          17000000,
          17000000,
          17000000,
          17000000,
          16900000,
          16900000,
          16900000,
          16800000,
          16800000,
          16800000,
          16800000,
          16800000,
          16800000,
          16800000,
          16800000,
          16800000,
          16800000,
          16700000,
          16700000,
          16700000,
          16700000,
          16700000,
          16600000.000000002,
          16600000.000000002,
          16600000.000000002,
          16600000.000000002,
          16600000.000000002,
          16500000,
          16500000,
          16500000,
          16500000,
          16500000,
          16500000,
          16399999.999999998,
          16399999.999999998,
          16399999.999999998,
          16399999.999999998,
          16399999.999999998,
          16399999.999999998,
          16399999.999999998,
          16399999.999999998,
          16399999.999999998,
          16399999.999999998,
          16399999.999999998,
          16300000,
          16300000,
          16300000,
          16300000,
          16200000,
          16200000,
          16200000,
          16200000,
          16200000,
          16100000.000000002,
          16100000.000000002,
          16100000.000000002,
          16000000,
          16000000,
          16000000,
          16000000,
          16000000,
          16000000,
          16000000,
          16000000,
          16000000,
          16000000,
          16000000,
          16000000,
          16000000,
          15900000,
          15900000,
          15900000,
          15900000,
          15900000,
          15800000,
          15800000,
          15800000,
          15800000,
          15800000,
          15800000,
          15700000,
          15700000,
          15600000,
          15600000,
          15600000,
          15600000,
          15600000,
          15600000,
          15600000,
          15600000,
          15600000,
          15600000,
          15600000,
          15600000,
          15500000,
          15500000,
          15500000,
          15400000,
          15400000,
          15400000,
          15400000,
          15400000,
          15400000,
          15400000,
          15400000,
          15400000,
          15400000,
          15400000,
          15400000,
          15400000,
          15400000,
          15300000,
          15300000,
          15200000,
          15200000,
          15200000,
          15200000,
          15200000,
          15200000,
          15200000,
          15200000,
          15200000,
          15200000,
          15200000,
          15200000,
          15200000,
          15100000,
          15100000,
          15100000,
          15100000,
          15000000,
          15000000,
          15000000,
          15000000,
          15000000,
          15000000,
          15000000,
          15000000,
          15000000,
          15000000,
          15000000,
          15000000,
          14900000,
          14900000,
          14900000,
          14900000,
          14900000,
          14900000,
          14900000,
          14800000,
          14800000,
          14800000,
          14800000,
          14800000,
          14800000,
          14800000,
          14800000,
          14800000,
          14800000,
          14800000,
          14800000,
          14800000,
          14800000,
          14800000,
          14800000,
          14800000,
          14800000,
          14700000,
          14700000,
          14700000,
          14700000,
          14700000,
          14700000,
          14700000,
          14700000,
          14700000,
          14700000,
          14600000,
          14600000,
          14600000,
          14600000,
          14600000,
          14600000,
          14600000,
          14600000,
          14600000,
          14600000,
          14600000,
          14600000,
          14600000,
          14600000,
          14600000,
          14500000,
          14500000,
          14500000,
          14400000,
          14400000,
          14400000,
          14400000,
          14400000,
          14400000,
          14400000,
          14400000,
          14400000,
          14400000,
          14300000,
          14300000,
          14300000,
          14300000,
          14300000,
          14300000,
          14200000,
          14200000,
          14200000,
          14200000,
          14200000,
          14200000,
          14200000,
          14200000,
          14200000,
          14200000,
          14200000,
          14200000,
          14200000,
          14200000,
          14200000,
          14200000,
          14200000,
          14200000,
          14200000,
          14200000,
          14200000,
          14200000,
          14100000,
          14100000,
          14100000,
          14100000,
          14100000,
          14000000,
          14000000,
          14000000,
          14000000,
          14000000,
          14000000,
          14000000,
          14000000,
          14000000,
          14000000,
          13900000,
          13900000,
          13900000,
          13900000,
          13900000,
          13900000,
          13800000,
          13800000,
          13800000,
          13800000,
          13800000,
          13800000,
          13800000,
          13800000,
          13800000,
          13800000,
          13800000,
          13800000,
          13800000,
          13800000,
          13800000,
          13800000,
          13800000,
          13700000,
          13700000,
          13700000,
          13600000,
          13600000,
          13600000,
          13600000,
          13600000,
          13600000,
          13600000,
          13600000,
          13600000,
          13600000,
          13600000,
          13600000,
          13600000,
          13600000,
          13600000,
          13600000,
          13600000,
          13600000,
          13500000,
          13500000,
          13500000,
          13500000,
          13400000,
          13400000,
          13400000,
          13400000,
          13400000,
          13400000,
          13400000,
          13400000,
          13400000,
          13400000,
          13400000,
          13400000,
          13400000,
          13400000,
          13400000,
          13400000,
          13300000,
          13300000,
          13300000,
          13300000,
          13300000,
          13300000,
          13200000,
          13200000,
          13200000,
          13200000,
          13200000,
          13200000,
          13200000,
          13200000,
          13200000,
          13200000,
          13200000,
          13200000,
          13200000,
          13100000,
          13100000,
          13100000,
          13100000,
          13000000,
          13000000,
          13000000,
          13000000,
          13000000,
          13000000,
          13000000,
          13000000,
          13000000,
          13000000,
          13000000,
          13000000,
          13000000,
          12900000,
          12900000,
          12900000,
          12900000,
          12900000,
          12900000,
          12900000,
          12900000,
          12800000,
          12800000,
          12800000,
          12800000,
          12800000,
          12800000,
          12800000,
          12800000,
          12800000,
          12800000,
          12800000,
          12800000,
          12800000,
          12800000,
          12800000,
          12800000,
          12800000,
          12800000,
          12700000,
          12700000,
          12600000,
          12600000,
          12600000,
          12600000,
          12600000,
          12600000,
          12600000,
          12600000,
          12600000,
          12600000,
          12600000,
          12600000,
          12600000,
          12600000,
          12600000,
          12600000,
          12600000,
          12600000,
          12600000,
          12600000,
          12600000,
          12600000,
          12600000,
          12600000,
          12600000,
          12600000,
          12600000,
          12600000,
          12600000,
          12600000,
          12600000,
          12500000,
          12500000,
          12500000,
          12500000,
          12500000,
          12500000,
          12500000,
          12500000,
          12400000,
          12400000,
          12400000,
          12400000,
          12400000,
          12400000,
          12400000,
          12400000,
          12400000,
          12400000,
          12400000,
          12400000,
          12400000,
          12400000,
          12400000,
          12400000,
          12400000,
          12400000,
          12400000,
          12400000,
          12400000,
          12400000,
          12400000,
          12400000,
          12300000,
          12300000,
          12300000,
          12300000,
          12200000,
          12200000,
          12200000,
          12200000,
          12200000,
          12200000,
          12200000,
          12200000,
          12200000,
          12200000,
          12200000,
          12200000,
          12200000,
          12200000,
          12200000,
          12200000,
          12200000,
          12200000,
          12100000,
          12100000,
          12100000,
          12100000,
          12000000,
          12000000,
          12100000,
          12100000,
          12100000,
          12100000,
          12000000,
          12000000,
          12000000,
          12000000,
          11900000,
          11900000,
          11900000,
          11900000,
          11900000,
          11900000,
          11900000,
          11900000,
          11900000,
          11900000,
          11900000,
          11900000,
          11900000,
          11900000,
          11900000,
          11900000,
          11900000,
          11900000,
          11900000,
          11900000,
          11900000,
          11900000,
          11900000,
          11900000,
          11900000,
          11900000,
          11800000,
          11800000,
          11700000,
          11700000,
          11700000,
          11700000,
          11700000,
          11700000,
          11700000,
          11700000,
          11700000,
          11700000,
          11700000,
          11700000,
          11700000,
          11700000
         ],
         "xaxis": "x",
         "y": [
          2700,
          5300000,
          24700,
          166,
          12400,
          197300,
          28000,
          22100,
          2600,
          6300,
          146900,
          421,
          615,
          703,
          180300,
          23900,
          144,
          397,
          17800,
          1100,
          413,
          392,
          983,
          935,
          231,
          2600,
          156500,
          229,
          792,
          964,
          8900,
          2100,
          34700,
          2700,
          300400,
          10200,
          0,
          85800,
          163,
          117100,
          27200,
          329,
          664,
          330400,
          260,
          299,
          3400,
          242,
          82100,
          180,
          39800,
          430,
          7500,
          8200,
          35700,
          5700,
          8200,
          7500,
          183400,
          4600,
          1100,
          2400,
          271300,
          994,
          128900,
          184,
          4800,
          0,
          13100,
          10100,
          73500,
          28500,
          255,
          157,
          5700,
          3,
          211,
          57300,
          3400,
          433,
          6500,
          1800,
          122,
          59,
          10800,
          3400,
          0,
          20100,
          185,
          703,
          27500,
          54100,
          255,
          5200,
          1200,
          2400,
          129400,
          824,
          341800,
          2000,
          126500,
          601,
          641,
          42400,
          73600,
          0,
          119,
          267,
          1600,
          34600,
          442,
          19400,
          6900,
          6200,
          623,
          3200,
          2700,
          88,
          66600,
          93,
          83,
          23300,
          382000,
          617400,
          13200,
          1800,
          1600,
          15600,
          12700,
          508,
          231,
          412200,
          309200,
          524,
          1400,
          118300,
          5000000,
          3900,
          714,
          503400,
          10700,
          3400,
          7600,
          63400,
          0,
          83400,
          1600,
          209,
          798,
          1200,
          7,
          231000,
          49800,
          1700000,
          607,
          18400,
          106500,
          17700,
          8500,
          5600,
          1000,
          5700,
          242,
          431100,
          924,
          568,
          9100,
          167,
          0,
          3100,
          11700,
          58500,
          6300,
          6600,
          8700,
          191,
          284100,
          285000,
          4100,
          154100,
          85800,
          62,
          68800,
          0,
          651,
          2200,
          5300,
          4300,
          144000,
          471,
          37700,
          993,
          21300,
          1800,
          322,
          98300,
          0,
          822,
          3100,
          0,
          299000,
          13100,
          56500,
          130100,
          49,
          38400,
          208400,
          127300,
          11400,
          699,
          3700,
          9700,
          31700,
          19300,
          29,
          1400,
          42100,
          1600,
          7900,
          36100,
          77600,
          143500,
          1200,
          3200,
          119600,
          9500,
          595,
          5100,
          8800,
          385,
          139,
          425,
          158,
          1100,
          85300,
          55300,
          457,
          846,
          582600,
          0,
          13300,
          133200,
          2000,
          62300,
          19300,
          1200,
          1700,
          15200,
          8700,
          1200,
          1200,
          181100,
          242900,
          2700,
          5800,
          0,
          971,
          954,
          96,
          154,
          96600,
          659,
          599,
          7600,
          9,
          332,
          105900,
          189300,
          2500,
          3000,
          129,
          2100,
          294400,
          49700,
          0,
          4800,
          25500,
          2400,
          235000,
          3000,
          14100,
          59800,
          382300,
          1800,
          238500,
          44900,
          29200,
          10300,
          321500,
          10400,
          105,
          45,
          1400,
          0,
          249,
          12600,
          30500,
          871,
          0,
          2600,
          707600,
          152,
          67000,
          1300,
          45700,
          65900,
          501700,
          68,
          1300,
          0,
          224600,
          12600,
          14400,
          3200,
          10200,
          127300,
          3100,
          1500,
          253500,
          53900,
          44400,
          1000,
          3100,
          66,
          0,
          110,
          6600,
          1200,
          7100,
          3500,
          744,
          3100,
          5000,
          7500,
          196,
          154200,
          29300,
          95600,
          134300,
          2000,
          1200,
          1400000,
          782,
          101600,
          17000,
          106,
          5200,
          6300,
          930,
          2800,
          377,
          7300,
          6000,
          2200,
          223500,
          1500,
          1700,
          22500,
          5400,
          0,
          519,
          39,
          576,
          225,
          30100,
          76,
          449000,
          1300,
          220,
          485,
          2100,
          136,
          3800,
          90,
          21600,
          2200,
          284800,
          3000,
          65,
          14500,
          396,
          12800,
          22000,
          144,
          5200,
          2000,
          3500,
          68300,
          21,
          124900,
          0,
          33200,
          132,
          12400,
          49300,
          11500,
          107,
          339,
          415900,
          44600,
          309,
          401700,
          10200,
          0,
          328100,
          1800,
          0,
          32100,
          68,
          3800,
          137,
          544,
          120300,
          114,
          7800,
          4800,
          96800,
          20200,
          7,
          61700,
          14200,
          5800,
          2800,
          415,
          18300,
          33100,
          35500,
          0,
          0,
          2000,
          1800,
          37800,
          10400,
          18500,
          1600,
          25400,
          276400,
          93,
          177,
          8300,
          323,
          5200,
          137,
          120000,
          2600,
          26200,
          11300,
          96,
          129400,
          50400,
          45000,
          75,
          5300,
          2700,
          19900,
          817,
          47600,
          896,
          535,
          3100,
          4500,
          81100,
          0,
          625,
          570,
          63500,
          1000,
          390700,
          5600,
          98500,
          17,
          129,
          350,
          10000,
          8600,
          175000,
          10400,
          44300,
          281,
          731,
          0,
          884,
          1500,
          523,
          245000,
          0,
          10400,
          0,
          952100,
          191,
          9500,
          109400,
          86,
          15600,
          1700,
          951,
          8000,
          342,
          2400,
          6500,
          137,
          1300,
          20700,
          246,
          755,
          66,
          193200,
          32500,
          304,
          174,
          59000,
          0,
          859,
          1400,
          1200,
          1900,
          9600,
          167900,
          20500,
          100900,
          42600,
          844,
          145700,
          54600,
          51700,
          291400,
          40000,
          613,
          472,
          22500,
          1900,
          15100,
          39500,
          132,
          996,
          97,
          1700,
          11900,
          5400,
          17000,
          62400,
          105,
          184,
          1200,
          299,
          9400,
          362000,
          124700,
          22,
          242,
          1200,
          18300,
          4300,
          95100,
          241,
          2800,
          628,
          123400,
          29,
          510,
          12100,
          169,
          71,
          349500,
          125,
          3000,
          4900,
          19100,
          0,
          2300,
          695,
          20500,
          742,
          0,
          20700,
          318,
          2300,
          117,
          6300,
          103500,
          27400,
          70,
          106700,
          54800,
          559,
          34,
          712400,
          15600,
          50600,
          237600,
          455300,
          12100,
          39,
          38,
          34,
          0,
          883,
          19100,
          6400,
          4100,
          749,
          108100,
          23100,
          995,
          135,
          602,
          1200,
          10400,
          11000,
          453,
          1800,
          3900,
          197,
          12700,
          0,
          33400,
          115,
          246,
          45300,
          49,
          89700,
          1200,
          70,
          2600,
          2000,
          2400,
          245100,
          200400,
          364000,
          949,
          262,
          336,
          22700,
          696,
          16700,
          342100,
          662,
          66200,
          722,
          19500,
          8500,
          17500,
          48800,
          32200.000000000004,
          4000,
          744,
          10100,
          913,
          45200,
          11900,
          0,
          27600,
          6400,
          209400,
          17,
          1400,
          345,
          159,
          8100,
          8,
          30400,
          935,
          3100,
          34,
          53,
          12300,
          28300,
          120,
          77,
          154,
          35100,
          31300,
          681,
          99000,
          3600,
          0,
          194600,
          175300,
          446,
          3300,
          2500,
          31200,
          87700,
          3000,
          711,
          7100,
          152400,
          40600,
          2700,
          70,
          78,
          325200,
          53500,
          1700,
          61500,
          8900,
          192700,
          47500,
          0,
          25600,
          10,
          0,
          110800,
          34800,
          1900,
          25200,
          27400,
          45600,
          51200,
          124700,
          734,
          1200,
          0,
          4100,
          1000,
          59,
          2700,
          10200,
          146500,
          70,
          1100,
          19900,
          47,
          7300,
          315,
          23400,
          3300,
          168,
          99700,
          53100,
          459100,
          0,
          37,
          547,
          1200000,
          4600,
          4600,
          226,
          3200,
          98200,
          2300,
          12600,
          0,
          8600,
          499,
          754,
          71600,
          30500,
          287,
          174,
          94000,
          48,
          12000,
          7400,
          17300,
          3500,
          58300,
          59000,
          26000,
          27500,
          40,
          22800,
          5700,
          30700,
          182000,
          675,
          2000,
          99,
          88200,
          4900,
          7500,
          15400,
          2600,
          1200,
          222800,
          70800,
          3700,
          39200,
          1400,
          29100,
          2700,
          3900,
          1500,
          342,
          109,
          6600,
          13000,
          5700,
          3200,
          8500,
          1200,
          3600,
          98400,
          22400,
          36300,
          1900,
          0,
          673,
          4500,
          7400,
          46500,
          1900,
          2300,
          6100,
          32300,
          286000,
          7300,
          104300,
          47500,
          11800,
          90,
          0,
          3600,
          90,
          45000,
          72500,
          21000,
          116,
          283,
          10100,
          1900,
          170,
          1900,
          3600,
          11,
          399300,
          96300,
          11800,
          8600,
          360,
          662,
          0,
          363,
          395,
          386,
          328000,
          244,
          8200,
          2600,
          217900,
          25200,
          14400,
          15200,
          1900,
          2700,
          7700,
          13000,
          0,
          1500,
          10,
          107700,
          747,
          2600,
          1000,
          5500,
          31100,
          61700,
          100,
          2700,
          14700,
          177800,
          0,
          52,
          19600,
          6300,
          15200,
          19300,
          509,
          0,
          4100,
          7400,
          105,
          8600,
          9500,
          0,
          5700,
          77,
          2300,
          307,
          2200,
          971,
          139,
          52300,
          5600,
          5100,
          46,
          69600,
          18100,
          14200,
          38600,
          71,
          1500,
          115,
          18,
          215,
          3500,
          25100,
          253,
          15,
          1000,
          44100,
          75,
          343000,
          22300,
          940,
          544,
          373,
          199200,
          78000,
          639,
          634,
          8200,
          71500,
          1900,
          3400,
          549,
          197700,
          3900,
          498,
          55,
          1700,
          70100,
          8900,
          20200,
          50000,
          176,
          39,
          32000,
          5100,
          11100,
          256,
          1500,
          0,
          62500,
          1600,
          55,
          1600,
          3200,
          6200,
          2600,
          18800,
          71300,
          16000,
          85600,
          3600,
          2200,
          192,
          810,
          0,
          6600,
          6900,
          265,
          192,
          810,
          953,
          16300,
          6300,
          8300,
          395300,
          160,
          0,
          38100,
          2100,
          351,
          3900,
          189900,
          577,
          170,
          385,
          6300,
          0,
          0,
          1300,
          2900,
          434,
          506,
          339800,
          497,
          51000,
          37000,
          2600,
          325,
          28,
          68700,
          19800,
          109200,
          0,
          692,
          629,
          8800,
          98500,
          9900,
          28,
          66700,
          949,
          14000,
          92500,
          745,
          81,
          31
         ],
         "yaxis": "y"
        },
        {
         "hovertemplate": "<b>OLS trendline</b><br>Likes = 0.00324538 * Subscribers + -17423.1<br>R<sup>2</sup>=0.044791<br><br>Subscribers=%{x}<br>Likes=%{y} <b>(trend)</b><extra></extra>",
         "legendgroup": "",
         "line": {
          "color": "red"
         },
         "marker": {
          "color": "#636efa",
          "symbol": "circle"
         },
         "mode": "lines",
         "name": "",
         "showlegend": false,
         "type": "scatter",
         "x": [
          11700000,
          11700000,
          11700000,
          11700000,
          11700000,
          11700000,
          11700000,
          11700000,
          11700000,
          11700000,
          11700000,
          11700000,
          11700000,
          11700000,
          11800000,
          11800000,
          11900000,
          11900000,
          11900000,
          11900000,
          11900000,
          11900000,
          11900000,
          11900000,
          11900000,
          11900000,
          11900000,
          11900000,
          11900000,
          11900000,
          11900000,
          11900000,
          11900000,
          11900000,
          11900000,
          11900000,
          11900000,
          11900000,
          11900000,
          11900000,
          11900000,
          11900000,
          12000000,
          12000000,
          12000000,
          12000000,
          12000000,
          12000000,
          12100000,
          12100000,
          12100000,
          12100000,
          12100000,
          12100000,
          12100000,
          12100000,
          12200000,
          12200000,
          12200000,
          12200000,
          12200000,
          12200000,
          12200000,
          12200000,
          12200000,
          12200000,
          12200000,
          12200000,
          12200000,
          12200000,
          12200000,
          12200000,
          12200000,
          12200000,
          12300000,
          12300000,
          12300000,
          12300000,
          12400000,
          12400000,
          12400000,
          12400000,
          12400000,
          12400000,
          12400000,
          12400000,
          12400000,
          12400000,
          12400000,
          12400000,
          12400000,
          12400000,
          12400000,
          12400000,
          12400000,
          12400000,
          12400000,
          12400000,
          12400000,
          12400000,
          12400000,
          12400000,
          12500000,
          12500000,
          12500000,
          12500000,
          12500000,
          12500000,
          12500000,
          12500000,
          12600000,
          12600000,
          12600000,
          12600000,
          12600000,
          12600000,
          12600000,
          12600000,
          12600000,
          12600000,
          12600000,
          12600000,
          12600000,
          12600000,
          12600000,
          12600000,
          12600000,
          12600000,
          12600000,
          12600000,
          12600000,
          12600000,
          12600000,
          12600000,
          12600000,
          12600000,
          12600000,
          12600000,
          12600000,
          12600000,
          12600000,
          12700000,
          12700000,
          12800000,
          12800000,
          12800000,
          12800000,
          12800000,
          12800000,
          12800000,
          12800000,
          12800000,
          12800000,
          12800000,
          12800000,
          12800000,
          12800000,
          12800000,
          12800000,
          12800000,
          12800000,
          12900000,
          12900000,
          12900000,
          12900000,
          12900000,
          12900000,
          12900000,
          12900000,
          13000000,
          13000000,
          13000000,
          13000000,
          13000000,
          13000000,
          13000000,
          13000000,
          13000000,
          13000000,
          13000000,
          13000000,
          13000000,
          13100000,
          13100000,
          13100000,
          13100000,
          13200000,
          13200000,
          13200000,
          13200000,
          13200000,
          13200000,
          13200000,
          13200000,
          13200000,
          13200000,
          13200000,
          13200000,
          13200000,
          13300000,
          13300000,
          13300000,
          13300000,
          13300000,
          13300000,
          13400000,
          13400000,
          13400000,
          13400000,
          13400000,
          13400000,
          13400000,
          13400000,
          13400000,
          13400000,
          13400000,
          13400000,
          13400000,
          13400000,
          13400000,
          13400000,
          13500000,
          13500000,
          13500000,
          13500000,
          13600000,
          13600000,
          13600000,
          13600000,
          13600000,
          13600000,
          13600000,
          13600000,
          13600000,
          13600000,
          13600000,
          13600000,
          13600000,
          13600000,
          13600000,
          13600000,
          13600000,
          13600000,
          13700000,
          13700000,
          13700000,
          13800000,
          13800000,
          13800000,
          13800000,
          13800000,
          13800000,
          13800000,
          13800000,
          13800000,
          13800000,
          13800000,
          13800000,
          13800000,
          13800000,
          13800000,
          13800000,
          13800000,
          13900000,
          13900000,
          13900000,
          13900000,
          13900000,
          13900000,
          14000000,
          14000000,
          14000000,
          14000000,
          14000000,
          14000000,
          14000000,
          14000000,
          14000000,
          14000000,
          14100000,
          14100000,
          14100000,
          14100000,
          14100000,
          14200000,
          14200000,
          14200000,
          14200000,
          14200000,
          14200000,
          14200000,
          14200000,
          14200000,
          14200000,
          14200000,
          14200000,
          14200000,
          14200000,
          14200000,
          14200000,
          14200000,
          14200000,
          14200000,
          14200000,
          14200000,
          14200000,
          14300000,
          14300000,
          14300000,
          14300000,
          14300000,
          14300000,
          14400000,
          14400000,
          14400000,
          14400000,
          14400000,
          14400000,
          14400000,
          14400000,
          14400000,
          14400000,
          14500000,
          14500000,
          14500000,
          14600000,
          14600000,
          14600000,
          14600000,
          14600000,
          14600000,
          14600000,
          14600000,
          14600000,
          14600000,
          14600000,
          14600000,
          14600000,
          14600000,
          14600000,
          14700000,
          14700000,
          14700000,
          14700000,
          14700000,
          14700000,
          14700000,
          14700000,
          14700000,
          14700000,
          14800000,
          14800000,
          14800000,
          14800000,
          14800000,
          14800000,
          14800000,
          14800000,
          14800000,
          14800000,
          14800000,
          14800000,
          14800000,
          14800000,
          14800000,
          14800000,
          14800000,
          14800000,
          14900000,
          14900000,
          14900000,
          14900000,
          14900000,
          14900000,
          14900000,
          15000000,
          15000000,
          15000000,
          15000000,
          15000000,
          15000000,
          15000000,
          15000000,
          15000000,
          15000000,
          15000000,
          15000000,
          15100000,
          15100000,
          15100000,
          15100000,
          15200000,
          15200000,
          15200000,
          15200000,
          15200000,
          15200000,
          15200000,
          15200000,
          15200000,
          15200000,
          15200000,
          15200000,
          15200000,
          15300000,
          15300000,
          15400000,
          15400000,
          15400000,
          15400000,
          15400000,
          15400000,
          15400000,
          15400000,
          15400000,
          15400000,
          15400000,
          15400000,
          15400000,
          15400000,
          15500000,
          15500000,
          15500000,
          15600000,
          15600000,
          15600000,
          15600000,
          15600000,
          15600000,
          15600000,
          15600000,
          15600000,
          15600000,
          15600000,
          15600000,
          15700000,
          15700000,
          15800000,
          15800000,
          15800000,
          15800000,
          15800000,
          15800000,
          15900000,
          15900000,
          15900000,
          15900000,
          15900000,
          16000000,
          16000000,
          16000000,
          16000000,
          16000000,
          16000000,
          16000000,
          16000000,
          16000000,
          16000000,
          16000000,
          16000000,
          16000000,
          16100000.000000002,
          16100000.000000002,
          16100000.000000002,
          16200000,
          16200000,
          16200000,
          16200000,
          16200000,
          16300000,
          16300000,
          16300000,
          16300000,
          16399999.999999998,
          16399999.999999998,
          16399999.999999998,
          16399999.999999998,
          16399999.999999998,
          16399999.999999998,
          16399999.999999998,
          16399999.999999998,
          16399999.999999998,
          16399999.999999998,
          16399999.999999998,
          16500000,
          16500000,
          16500000,
          16500000,
          16500000,
          16500000,
          16600000.000000002,
          16600000.000000002,
          16600000.000000002,
          16600000.000000002,
          16600000.000000002,
          16700000,
          16700000,
          16700000,
          16700000,
          16700000,
          16800000,
          16800000,
          16800000,
          16800000,
          16800000,
          16800000,
          16800000,
          16800000,
          16800000,
          16800000,
          16900000,
          16900000,
          16900000,
          17000000,
          17000000,
          17000000,
          17000000,
          17000000,
          17000000,
          17000000,
          17000000,
          17000000,
          17000000,
          17200000,
          17200000,
          17200000,
          17200000,
          17200000,
          17300000,
          17300000,
          17400000,
          17400000,
          17400000,
          17400000,
          17400000,
          17500000,
          17500000,
          17600000,
          17600000,
          17600000,
          17600000,
          17600000,
          17600000,
          17700000,
          17700000,
          17700000,
          17700000,
          17700000,
          17800000,
          17800000,
          17800000,
          17800000,
          17800000,
          17800000,
          17800000,
          17900000,
          18000000,
          18000000,
          18000000,
          18000000,
          18000000,
          18000000,
          18000000,
          18000000,
          18000000,
          18000000,
          18000000,
          18000000,
          18000000,
          18200000,
          18200000,
          18200000,
          18200000,
          18200000,
          18200000,
          18200000,
          18200000,
          18200000,
          18200000,
          18300000,
          18400000,
          18400000,
          18400000,
          18400000,
          18400000,
          18400000,
          18500000,
          18500000,
          18600000,
          18600000,
          18600000,
          18600000,
          18600000,
          18600000,
          18600000,
          18600000,
          18700000,
          18800000,
          18800000,
          18800000,
          18900000,
          19000000,
          19000000,
          19000000,
          19100000,
          19100000,
          19100000,
          19100000,
          19100000,
          19100000,
          19100000,
          19100000,
          19100000,
          19100000,
          19100000,
          19200000,
          19300000,
          19300000,
          19300000,
          19300000,
          19300000,
          19400000,
          19500000,
          19500000,
          19500000,
          19500000,
          19600000,
          19700000,
          19700000,
          19700000,
          19800000,
          19800000,
          19800000,
          19900000,
          19900000,
          19900000,
          19900000,
          19900000,
          20000000,
          20100000,
          20100000,
          20100000,
          20100000,
          20100000,
          20100000,
          20100000,
          20100000,
          20100000,
          20100000,
          20100000,
          20100000,
          20100000,
          20200000,
          20300000,
          20300000,
          20300000,
          20300000,
          20400000,
          20400000,
          20400000,
          20500000,
          20500000,
          20500000,
          20500000,
          20500000,
          20500000,
          20500000,
          20600000,
          20600000,
          20600000,
          20700000,
          20700000,
          20700000,
          20700000,
          20700000,
          20700000,
          20800000,
          20800000,
          20900000,
          21000000,
          21100000,
          21100000,
          21100000,
          21100000,
          21100000,
          21100000,
          21100000,
          21100000,
          21300000,
          21500000,
          21500000,
          21700000,
          21700000,
          21700000,
          21700000,
          21700000,
          21800000,
          21900000,
          21900000,
          21900000,
          21900000,
          21900000,
          22100000,
          22100000,
          22300000,
          22300000,
          22300000,
          22300000,
          22400000,
          22400000,
          22400000,
          22500000,
          22500000,
          22500000,
          22500000,
          22600000,
          22700000,
          22700000,
          22700000,
          22700000,
          22700000,
          22700000,
          22800000,
          22800000,
          22800000,
          22900000,
          22900000,
          22900000,
          23000000,
          23000000,
          23000000,
          23000000,
          23100000,
          23100000,
          23200000,
          23200000,
          23300000,
          23300000,
          23300000,
          23300000,
          23400000,
          23400000,
          23400000,
          23400000,
          23500000,
          23500000,
          23500000,
          23500000,
          23600000,
          23700000,
          23700000,
          23700000,
          23700000,
          23800000,
          23900000,
          23900000,
          23900000,
          23900000,
          24000000,
          24100000,
          24100000,
          24300000,
          24300000,
          24300000,
          24300000,
          24300000,
          24400000,
          24400000,
          24400000,
          24400000,
          24400000,
          24600000,
          24600000,
          24700000,
          24700000,
          24700000,
          24800000,
          24800000,
          24900000,
          24900000,
          24900000,
          24900000,
          25000000,
          25000000,
          25100000,
          25400000,
          25500000,
          25500000,
          25500000,
          25500000,
          25700000,
          25700000,
          25700000,
          25700000,
          25700000,
          25800000,
          25900000,
          25900000,
          25900000,
          25900000,
          25900000,
          25900000,
          26000000,
          26100000,
          26100000,
          26200000,
          26300000,
          26300000,
          26600000,
          26600000,
          26700000,
          26800000,
          26800000,
          26800000,
          27000000,
          27100000,
          27100000,
          27200000,
          27300000,
          27500000,
          27600000,
          27800000,
          27800000,
          27800000,
          27800000,
          27800000,
          27900000,
          28000000,
          28000000,
          28100000,
          28200000,
          28400000,
          28700000,
          28800000,
          28800000,
          29000000,
          29200000,
          29200000,
          29300000,
          29400000,
          29400000,
          29400000,
          29500000,
          29700000,
          29700000,
          29800000,
          29800000,
          29900000,
          30000000,
          30200000,
          30200000,
          30400000,
          30400000,
          30400000,
          30400000,
          30600000,
          30600000,
          30600000,
          30900000,
          31000000,
          31000000,
          31100000,
          31200000,
          31300000,
          31400000,
          31600000,
          31800000,
          31900000,
          32000000,
          32100000,
          32200000.000000004,
          32200000.000000004,
          32200000.000000004,
          32200000.000000004,
          32400000,
          32600000,
          32600000,
          32700000.000000004,
          32800000,
          32900000,
          33000000,
          33000000,
          33000000,
          33000000,
          33200000.000000004,
          33300000,
          33600000,
          33600000,
          34000000,
          34000000,
          34200000,
          34200000,
          34200000,
          34200000,
          34500000,
          34600000,
          34700000,
          35000000,
          35000000,
          35500000,
          35500000,
          35600000,
          35700000,
          36300000,
          36300000,
          36500000,
          36600000,
          36700000,
          36800000,
          36900000,
          37000000,
          37300000,
          37300000,
          37400000,
          37500000,
          37700000,
          38100000,
          38100000,
          38100000,
          38300000,
          38300000,
          38700000,
          39100000,
          39100000,
          39100000,
          39300000,
          39400000,
          39500000,
          39500000,
          39600000,
          39900000,
          40100000,
          40300000,
          40600000,
          41000000,
          41100000,
          42100000,
          42100000,
          42500000,
          42900000,
          42900000,
          43400000,
          43700000,
          44000000,
          44200000,
          44400000,
          44400000,
          44400000,
          44600000,
          45000000,
          45000000,
          45600000,
          45900000,
          46000000,
          46400000,
          47000000,
          47300000,
          47500000,
          48100000,
          48600000,
          48600000,
          48800000,
          52900000,
          53100000,
          53700000,
          54100000,
          54800000,
          55700000,
          55700000,
          56700000,
          57900000,
          58700000,
          58900000,
          59700000,
          59700000,
          59900000,
          60900000,
          62600000,
          66400000.00000001,
          66599999.99999999,
          66599999.99999999,
          67500000,
          69600000,
          72500000,
          72700000,
          76500000,
          80300000,
          85400000,
          89700000,
          91300000,
          97200000,
          99700000,
          101400000,
          107500000,
          111500000,
          113500000,
          162600000,
          165500000,
          183500000,
          249500000
         ],
         "xaxis": "x",
         "y": [
          20547.89139487721,
          20547.89139487721,
          20547.89139487721,
          20547.89139487721,
          20547.89139487721,
          20547.89139487721,
          20547.89139487721,
          20547.89139487721,
          20547.89139487721,
          20547.89139487721,
          20547.89139487721,
          20547.89139487721,
          20547.89139487721,
          20547.89139487721,
          20872.42938245002,
          20872.42938245002,
          21196.96737002283,
          21196.96737002283,
          21196.96737002283,
          21196.96737002283,
          21196.96737002283,
          21196.96737002283,
          21196.96737002283,
          21196.96737002283,
          21196.96737002283,
          21196.96737002283,
          21196.96737002283,
          21196.96737002283,
          21196.96737002283,
          21196.96737002283,
          21196.96737002283,
          21196.96737002283,
          21196.96737002283,
          21196.96737002283,
          21196.96737002283,
          21196.96737002283,
          21196.96737002283,
          21196.96737002283,
          21196.96737002283,
          21196.96737002283,
          21196.96737002283,
          21196.96737002283,
          21521.50535759564,
          21521.50535759564,
          21521.50535759564,
          21521.50535759564,
          21521.50535759564,
          21521.50535759564,
          21846.04334516846,
          21846.04334516846,
          21846.04334516846,
          21846.04334516846,
          21846.04334516846,
          21846.04334516846,
          21846.04334516846,
          21846.04334516846,
          22170.58133274127,
          22170.58133274127,
          22170.58133274127,
          22170.58133274127,
          22170.58133274127,
          22170.58133274127,
          22170.58133274127,
          22170.58133274127,
          22170.58133274127,
          22170.58133274127,
          22170.58133274127,
          22170.58133274127,
          22170.58133274127,
          22170.58133274127,
          22170.58133274127,
          22170.58133274127,
          22170.58133274127,
          22170.58133274127,
          22495.11932031408,
          22495.11932031408,
          22495.11932031408,
          22495.11932031408,
          22819.65730788689,
          22819.65730788689,
          22819.65730788689,
          22819.65730788689,
          22819.65730788689,
          22819.65730788689,
          22819.65730788689,
          22819.65730788689,
          22819.65730788689,
          22819.65730788689,
          22819.65730788689,
          22819.65730788689,
          22819.65730788689,
          22819.65730788689,
          22819.65730788689,
          22819.65730788689,
          22819.65730788689,
          22819.65730788689,
          22819.65730788689,
          22819.65730788689,
          22819.65730788689,
          22819.65730788689,
          22819.65730788689,
          22819.65730788689,
          23144.195295459707,
          23144.195295459707,
          23144.195295459707,
          23144.195295459707,
          23144.195295459707,
          23144.195295459707,
          23144.195295459707,
          23144.195295459707,
          23468.733283032518,
          23468.733283032518,
          23468.733283032518,
          23468.733283032518,
          23468.733283032518,
          23468.733283032518,
          23468.733283032518,
          23468.733283032518,
          23468.733283032518,
          23468.733283032518,
          23468.733283032518,
          23468.733283032518,
          23468.733283032518,
          23468.733283032518,
          23468.733283032518,
          23468.733283032518,
          23468.733283032518,
          23468.733283032518,
          23468.733283032518,
          23468.733283032518,
          23468.733283032518,
          23468.733283032518,
          23468.733283032518,
          23468.733283032518,
          23468.733283032518,
          23468.733283032518,
          23468.733283032518,
          23468.733283032518,
          23468.733283032518,
          23468.733283032518,
          23468.733283032518,
          23793.271270605328,
          23793.271270605328,
          24117.80925817814,
          24117.80925817814,
          24117.80925817814,
          24117.80925817814,
          24117.80925817814,
          24117.80925817814,
          24117.80925817814,
          24117.80925817814,
          24117.80925817814,
          24117.80925817814,
          24117.80925817814,
          24117.80925817814,
          24117.80925817814,
          24117.80925817814,
          24117.80925817814,
          24117.80925817814,
          24117.80925817814,
          24117.80925817814,
          24442.34724575095,
          24442.34724575095,
          24442.34724575095,
          24442.34724575095,
          24442.34724575095,
          24442.34724575095,
          24442.34724575095,
          24442.34724575095,
          24766.885233323766,
          24766.885233323766,
          24766.885233323766,
          24766.885233323766,
          24766.885233323766,
          24766.885233323766,
          24766.885233323766,
          24766.885233323766,
          24766.885233323766,
          24766.885233323766,
          24766.885233323766,
          24766.885233323766,
          24766.885233323766,
          25091.423220896577,
          25091.423220896577,
          25091.423220896577,
          25091.423220896577,
          25415.961208469387,
          25415.961208469387,
          25415.961208469387,
          25415.961208469387,
          25415.961208469387,
          25415.961208469387,
          25415.961208469387,
          25415.961208469387,
          25415.961208469387,
          25415.961208469387,
          25415.961208469387,
          25415.961208469387,
          25415.961208469387,
          25740.499196042198,
          25740.499196042198,
          25740.499196042198,
          25740.499196042198,
          25740.499196042198,
          25740.499196042198,
          26065.037183615015,
          26065.037183615015,
          26065.037183615015,
          26065.037183615015,
          26065.037183615015,
          26065.037183615015,
          26065.037183615015,
          26065.037183615015,
          26065.037183615015,
          26065.037183615015,
          26065.037183615015,
          26065.037183615015,
          26065.037183615015,
          26065.037183615015,
          26065.037183615015,
          26065.037183615015,
          26389.575171187826,
          26389.575171187826,
          26389.575171187826,
          26389.575171187826,
          26714.113158760636,
          26714.113158760636,
          26714.113158760636,
          26714.113158760636,
          26714.113158760636,
          26714.113158760636,
          26714.113158760636,
          26714.113158760636,
          26714.113158760636,
          26714.113158760636,
          26714.113158760636,
          26714.113158760636,
          26714.113158760636,
          26714.113158760636,
          26714.113158760636,
          26714.113158760636,
          26714.113158760636,
          26714.113158760636,
          27038.651146333446,
          27038.651146333446,
          27038.651146333446,
          27363.189133906257,
          27363.189133906257,
          27363.189133906257,
          27363.189133906257,
          27363.189133906257,
          27363.189133906257,
          27363.189133906257,
          27363.189133906257,
          27363.189133906257,
          27363.189133906257,
          27363.189133906257,
          27363.189133906257,
          27363.189133906257,
          27363.189133906257,
          27363.189133906257,
          27363.189133906257,
          27363.189133906257,
          27687.727121479074,
          27687.727121479074,
          27687.727121479074,
          27687.727121479074,
          27687.727121479074,
          27687.727121479074,
          28012.265109051885,
          28012.265109051885,
          28012.265109051885,
          28012.265109051885,
          28012.265109051885,
          28012.265109051885,
          28012.265109051885,
          28012.265109051885,
          28012.265109051885,
          28012.265109051885,
          28336.803096624695,
          28336.803096624695,
          28336.803096624695,
          28336.803096624695,
          28336.803096624695,
          28661.341084197506,
          28661.341084197506,
          28661.341084197506,
          28661.341084197506,
          28661.341084197506,
          28661.341084197506,
          28661.341084197506,
          28661.341084197506,
          28661.341084197506,
          28661.341084197506,
          28661.341084197506,
          28661.341084197506,
          28661.341084197506,
          28661.341084197506,
          28661.341084197506,
          28661.341084197506,
          28661.341084197506,
          28661.341084197506,
          28661.341084197506,
          28661.341084197506,
          28661.341084197506,
          28661.341084197506,
          28985.879071770323,
          28985.879071770323,
          28985.879071770323,
          28985.879071770323,
          28985.879071770323,
          28985.879071770323,
          29310.417059343134,
          29310.417059343134,
          29310.417059343134,
          29310.417059343134,
          29310.417059343134,
          29310.417059343134,
          29310.417059343134,
          29310.417059343134,
          29310.417059343134,
          29310.417059343134,
          29634.955046915944,
          29634.955046915944,
          29634.955046915944,
          29959.493034488754,
          29959.493034488754,
          29959.493034488754,
          29959.493034488754,
          29959.493034488754,
          29959.493034488754,
          29959.493034488754,
          29959.493034488754,
          29959.493034488754,
          29959.493034488754,
          29959.493034488754,
          29959.493034488754,
          29959.493034488754,
          29959.493034488754,
          29959.493034488754,
          30284.031022061565,
          30284.031022061565,
          30284.031022061565,
          30284.031022061565,
          30284.031022061565,
          30284.031022061565,
          30284.031022061565,
          30284.031022061565,
          30284.031022061565,
          30284.031022061565,
          30608.569009634382,
          30608.569009634382,
          30608.569009634382,
          30608.569009634382,
          30608.569009634382,
          30608.569009634382,
          30608.569009634382,
          30608.569009634382,
          30608.569009634382,
          30608.569009634382,
          30608.569009634382,
          30608.569009634382,
          30608.569009634382,
          30608.569009634382,
          30608.569009634382,
          30608.569009634382,
          30608.569009634382,
          30608.569009634382,
          30933.106997207193,
          30933.106997207193,
          30933.106997207193,
          30933.106997207193,
          30933.106997207193,
          30933.106997207193,
          30933.106997207193,
          31257.644984780003,
          31257.644984780003,
          31257.644984780003,
          31257.644984780003,
          31257.644984780003,
          31257.644984780003,
          31257.644984780003,
          31257.644984780003,
          31257.644984780003,
          31257.644984780003,
          31257.644984780003,
          31257.644984780003,
          31582.182972352814,
          31582.182972352814,
          31582.182972352814,
          31582.182972352814,
          31906.72095992563,
          31906.72095992563,
          31906.72095992563,
          31906.72095992563,
          31906.72095992563,
          31906.72095992563,
          31906.72095992563,
          31906.72095992563,
          31906.72095992563,
          31906.72095992563,
          31906.72095992563,
          31906.72095992563,
          31906.72095992563,
          32231.25894749844,
          32231.25894749844,
          32555.796935071252,
          32555.796935071252,
          32555.796935071252,
          32555.796935071252,
          32555.796935071252,
          32555.796935071252,
          32555.796935071252,
          32555.796935071252,
          32555.796935071252,
          32555.796935071252,
          32555.796935071252,
          32555.796935071252,
          32555.796935071252,
          32555.796935071252,
          32880.33492264406,
          32880.33492264406,
          32880.33492264406,
          33204.87291021687,
          33204.87291021687,
          33204.87291021687,
          33204.87291021687,
          33204.87291021687,
          33204.87291021687,
          33204.87291021687,
          33204.87291021687,
          33204.87291021687,
          33204.87291021687,
          33204.87291021687,
          33204.87291021687,
          33529.41089778969,
          33529.41089778969,
          33853.9488853625,
          33853.9488853625,
          33853.9488853625,
          33853.9488853625,
          33853.9488853625,
          33853.9488853625,
          34178.48687293531,
          34178.48687293531,
          34178.48687293531,
          34178.48687293531,
          34178.48687293531,
          34503.02486050812,
          34503.02486050812,
          34503.02486050812,
          34503.02486050812,
          34503.02486050812,
          34503.02486050812,
          34503.02486050812,
          34503.02486050812,
          34503.02486050812,
          34503.02486050812,
          34503.02486050812,
          34503.02486050812,
          34503.02486050812,
          34827.56284808094,
          34827.56284808094,
          34827.56284808094,
          35152.10083565375,
          35152.10083565375,
          35152.10083565375,
          35152.10083565375,
          35152.10083565375,
          35476.63882322656,
          35476.63882322656,
          35476.63882322656,
          35476.63882322656,
          35801.17681079936,
          35801.17681079936,
          35801.17681079936,
          35801.17681079936,
          35801.17681079936,
          35801.17681079936,
          35801.17681079936,
          35801.17681079936,
          35801.17681079936,
          35801.17681079936,
          35801.17681079936,
          36125.71479837218,
          36125.71479837218,
          36125.71479837218,
          36125.71479837218,
          36125.71479837218,
          36125.71479837218,
          36450.252785945,
          36450.252785945,
          36450.252785945,
          36450.252785945,
          36450.252785945,
          36774.79077351781,
          36774.79077351781,
          36774.79077351781,
          36774.79077351781,
          36774.79077351781,
          37099.32876109062,
          37099.32876109062,
          37099.32876109062,
          37099.32876109062,
          37099.32876109062,
          37099.32876109062,
          37099.32876109062,
          37099.32876109062,
          37099.32876109062,
          37099.32876109062,
          37423.86674866343,
          37423.86674866343,
          37423.86674866343,
          37748.40473623625,
          37748.40473623625,
          37748.40473623625,
          37748.40473623625,
          37748.40473623625,
          37748.40473623625,
          37748.40473623625,
          37748.40473623625,
          37748.40473623625,
          37748.40473623625,
          38397.48071138187,
          38397.48071138187,
          38397.48071138187,
          38397.48071138187,
          38397.48071138187,
          38722.01869895468,
          38722.01869895468,
          39046.55668652749,
          39046.55668652749,
          39046.55668652749,
          39046.55668652749,
          39046.55668652749,
          39371.094674100306,
          39371.094674100306,
          39695.63266167312,
          39695.63266167312,
          39695.63266167312,
          39695.63266167312,
          39695.63266167312,
          39695.63266167312,
          40020.17064924593,
          40020.17064924593,
          40020.17064924593,
          40020.17064924593,
          40020.17064924593,
          40344.70863681874,
          40344.70863681874,
          40344.70863681874,
          40344.70863681874,
          40344.70863681874,
          40344.70863681874,
          40344.70863681874,
          40669.24662439155,
          40993.784611964365,
          40993.784611964365,
          40993.784611964365,
          40993.784611964365,
          40993.784611964365,
          40993.784611964365,
          40993.784611964365,
          40993.784611964365,
          40993.784611964365,
          40993.784611964365,
          40993.784611964365,
          40993.784611964365,
          40993.784611964365,
          41642.860587109986,
          41642.860587109986,
          41642.860587109986,
          41642.860587109986,
          41642.860587109986,
          41642.860587109986,
          41642.860587109986,
          41642.860587109986,
          41642.860587109986,
          41642.860587109986,
          41967.3985746828,
          42291.936562255614,
          42291.936562255614,
          42291.936562255614,
          42291.936562255614,
          42291.936562255614,
          42291.936562255614,
          42616.474549828425,
          42616.474549828425,
          42941.012537401235,
          42941.012537401235,
          42941.012537401235,
          42941.012537401235,
          42941.012537401235,
          42941.012537401235,
          42941.012537401235,
          42941.012537401235,
          43265.550524974045,
          43590.088512546856,
          43590.088512546856,
          43590.088512546856,
          43914.62650011967,
          44239.164487692484,
          44239.164487692484,
          44239.164487692484,
          44563.702475265294,
          44563.702475265294,
          44563.702475265294,
          44563.702475265294,
          44563.702475265294,
          44563.702475265294,
          44563.702475265294,
          44563.702475265294,
          44563.702475265294,
          44563.702475265294,
          44563.702475265294,
          44888.240462838105,
          45212.77845041092,
          45212.77845041092,
          45212.77845041092,
          45212.77845041092,
          45212.77845041092,
          45537.31643798373,
          45861.85442555654,
          45861.85442555654,
          45861.85442555654,
          45861.85442555654,
          46186.39241312935,
          46510.930400702164,
          46510.930400702164,
          46510.930400702164,
          46835.46838827498,
          46835.46838827498,
          46835.46838827498,
          47160.00637584779,
          47160.00637584779,
          47160.00637584779,
          47160.00637584779,
          47160.00637584779,
          47484.5443634206,
          47809.08235099341,
          47809.08235099341,
          47809.08235099341,
          47809.08235099341,
          47809.08235099341,
          47809.08235099341,
          47809.08235099341,
          47809.08235099341,
          47809.08235099341,
          47809.08235099341,
          47809.08235099341,
          47809.08235099341,
          47809.08235099341,
          48133.62033856622,
          48458.15832613903,
          48458.15832613903,
          48458.15832613903,
          48458.15832613903,
          48782.69631371186,
          48782.69631371186,
          48782.69631371186,
          49107.23430128467,
          49107.23430128467,
          49107.23430128467,
          49107.23430128467,
          49107.23430128467,
          49107.23430128467,
          49107.23430128467,
          49431.77228885748,
          49431.77228885748,
          49431.77228885748,
          49756.31027643029,
          49756.31027643029,
          49756.31027643029,
          49756.31027643029,
          49756.31027643029,
          49756.31027643029,
          50080.8482640031,
          50080.8482640031,
          50405.38625157591,
          50729.92423914872,
          51054.46222672153,
          51054.46222672153,
          51054.46222672153,
          51054.46222672153,
          51054.46222672153,
          51054.46222672153,
          51054.46222672153,
          51054.46222672153,
          51703.538201867166,
          52352.61417701279,
          52352.61417701279,
          53001.69015215841,
          53001.69015215841,
          53001.69015215841,
          53001.69015215841,
          53001.69015215841,
          53326.22813973122,
          53650.76612730403,
          53650.76612730403,
          53650.76612730403,
          53650.76612730403,
          53650.76612730403,
          54299.84210244965,
          54299.84210244965,
          54948.918077595285,
          54948.918077595285,
          54948.918077595285,
          54948.918077595285,
          55273.456065168095,
          55273.456065168095,
          55273.456065168095,
          55597.994052740905,
          55597.994052740905,
          55597.994052740905,
          55597.994052740905,
          55922.532040313716,
          56247.070027886526,
          56247.070027886526,
          56247.070027886526,
          56247.070027886526,
          56247.070027886526,
          56247.070027886526,
          56571.60801545934,
          56571.60801545934,
          56571.60801545934,
          56896.14600303215,
          56896.14600303215,
          56896.14600303215,
          57220.68399060496,
          57220.68399060496,
          57220.68399060496,
          57220.68399060496,
          57545.22197817777,
          57545.22197817777,
          57869.75996575059,
          57869.75996575059,
          58194.2979533234,
          58194.2979533234,
          58194.2979533234,
          58194.2979533234,
          58518.83594089621,
          58518.83594089621,
          58518.83594089621,
          58518.83594089621,
          58843.373928469024,
          58843.373928469024,
          58843.373928469024,
          58843.373928469024,
          59167.911916041834,
          59492.449903614644,
          59492.449903614644,
          59492.449903614644,
          59492.449903614644,
          59816.987891187455,
          60141.525878760265,
          60141.525878760265,
          60141.525878760265,
          60141.525878760265,
          60466.063866333076,
          60790.6018539059,
          60790.6018539059,
          61439.67782905152,
          61439.67782905152,
          61439.67782905152,
          61439.67782905152,
          61439.67782905152,
          61764.21581662433,
          61764.21581662433,
          61764.21581662433,
          61764.21581662433,
          61764.21581662433,
          62413.29179176995,
          62413.29179176995,
          62737.82977934276,
          62737.82977934276,
          62737.82977934276,
          63062.36776691557,
          63062.36776691557,
          63386.90575448838,
          63386.90575448838,
          63386.90575448838,
          63386.90575448838,
          63711.44374206121,
          63711.44374206121,
          64035.98172963402,
          65009.59569235245,
          65334.13367992526,
          65334.13367992526,
          65334.13367992526,
          65334.13367992526,
          65983.20965507088,
          65983.20965507088,
          65983.20965507088,
          65983.20965507088,
          65983.20965507088,
          66307.74764264369,
          66632.28563021652,
          66632.28563021652,
          66632.28563021652,
          66632.28563021652,
          66632.28563021652,
          66632.28563021652,
          66956.82361778933,
          67281.36160536214,
          67281.36160536214,
          67605.89959293495,
          67930.43758050776,
          67930.43758050776,
          68904.05154322619,
          68904.05154322619,
          69228.589530799,
          69553.12751837182,
          69553.12751837182,
          69553.12751837182,
          70202.20349351745,
          70526.74148109026,
          70526.74148109026,
          70851.27946866307,
          71175.81745623588,
          71824.8934313815,
          72149.43141895431,
          72798.50739409994,
          72798.50739409994,
          72798.50739409994,
          72798.50739409994,
          72798.50739409994,
          73123.04538167275,
          73447.58336924556,
          73447.58336924556,
          73772.12135681837,
          74096.65934439118,
          74745.7353195368,
          75719.34928225525,
          76043.88726982806,
          76043.88726982806,
          76692.96324497368,
          77342.0392201193,
          77342.0392201193,
          77666.57720769211,
          77991.11519526492,
          77991.11519526492,
          77991.11519526492,
          78315.65318283775,
          78964.72915798337,
          78964.72915798337,
          79289.26714555618,
          79289.26714555618,
          79613.80513312899,
          79938.3431207018,
          80587.41909584742,
          80587.41909584742,
          81236.49507099306,
          81236.49507099306,
          81236.49507099306,
          81236.49507099306,
          81885.57104613868,
          81885.57104613868,
          81885.57104613868,
          82859.18500885711,
          83183.72299642992,
          83183.72299642992,
          83508.26098400273,
          83832.79897157554,
          84157.33695914836,
          84481.87494672117,
          85130.9509218668,
          85780.02689701242,
          86104.56488458523,
          86429.10287215804,
          86753.64085973085,
          87078.17884730367,
          87078.17884730367,
          87078.17884730367,
          87078.17884730367,
          87727.2548224493,
          88376.33079759491,
          88376.33079759491,
          88700.86878516774,
          89025.40677274053,
          89349.94476031334,
          89674.48274788616,
          89674.48274788616,
          89674.48274788616,
          89674.48274788616,
          90323.55872303179,
          90648.0967106046,
          91621.71067332303,
          91621.71067332303,
          92919.86262361429,
          92919.86262361429,
          93568.93859875991,
          93568.93859875991,
          93568.93859875991,
          93568.93859875991,
          94542.55256147834,
          94867.09054905115,
          95191.62853662396,
          96165.2424993424,
          96165.2424993424,
          97787.93243720646,
          97787.93243720646,
          98112.47042477927,
          98437.00841235208,
          100384.23633778896,
          100384.23633778896,
          101033.31231293458,
          101357.85030050739,
          101682.3882880802,
          102006.92627565302,
          102331.46426322583,
          102656.00225079864,
          103629.61621351707,
          103629.61621351707,
          103954.15420108988,
          104278.6921886627,
          104927.76816380833,
          106225.92011409957,
          106225.92011409957,
          106225.92011409957,
          106874.99608924519,
          106874.99608924519,
          108173.14803953645,
          109471.29998982769,
          109471.29998982769,
          109471.29998982769,
          110120.37596497331,
          110444.91395254612,
          110769.45194011895,
          110769.45194011895,
          111093.98992769176,
          112067.60389041019,
          112716.67986555581,
          113365.75584070143,
          114339.36980341986,
          115637.52175371113,
          115962.05974128394,
          119207.43961701205,
          119207.43961701205,
          120505.59156730329,
          121803.74351759456,
          121803.74351759456,
          123426.43345545861,
          124400.04741817704,
          125373.66138089547,
          126022.73735604109,
          126671.81333118671,
          126671.81333118671,
          126671.81333118671,
          127320.88930633236,
          128619.0412566236,
          128619.0412566236,
          130566.26918206047,
          131539.8831447789,
          131864.4211323517,
          133162.57308264298,
          135109.80100807984,
          136083.41497079827,
          136732.4909459439,
          138679.71887138078,
          140302.40880924484,
          140302.40880924484,
          140951.48478439046,
          154257.54227487574,
          154906.61825002136,
          156853.84617545825,
          158151.9981257495,
          160423.76403875917,
          163344.6059269145,
          163344.6059269145,
          166589.9858026426,
          170484.44165351635,
          173080.74555409883,
          173729.82152924445,
          176326.12542982696,
          176326.12542982696,
          176975.20140497258,
          180220.58128070072,
          185737.72706943852,
          198070.17059720538,
          198719.24657235097,
          198719.24657235097,
          201640.0884605063,
          208455.38619953534,
          217866.9878391469,
          218516.06381429252,
          230848.50734205937,
          243180.95086982622,
          259732.38823603967,
          273687.52170167054,
          278880.12950283557,
          298027.87076963147,
          306141.32045895176,
          311658.46624768956,
          331455.2834896311,
          344436.80299254355,
          350927.5627439998,
          510275.7146422505,
          519687.31628186203,
          578104.1540449683,
          792299.2258430242
         ],
         "yaxis": "y"
        }
       ],
       "layout": {
        "legend": {
         "tracegroupgap": 0
        },
        "template": {
         "data": {
          "bar": [
           {
            "error_x": {
             "color": "#2a3f5f"
            },
            "error_y": {
             "color": "#2a3f5f"
            },
            "marker": {
             "line": {
              "color": "#E5ECF6",
              "width": 0.5
             },
             "pattern": {
              "fillmode": "overlay",
              "size": 10,
              "solidity": 0.2
             }
            },
            "type": "bar"
           }
          ],
          "barpolar": [
           {
            "marker": {
             "line": {
              "color": "#E5ECF6",
              "width": 0.5
             },
             "pattern": {
              "fillmode": "overlay",
              "size": 10,
              "solidity": 0.2
             }
            },
            "type": "barpolar"
           }
          ],
          "carpet": [
           {
            "aaxis": {
             "endlinecolor": "#2a3f5f",
             "gridcolor": "white",
             "linecolor": "white",
             "minorgridcolor": "white",
             "startlinecolor": "#2a3f5f"
            },
            "baxis": {
             "endlinecolor": "#2a3f5f",
             "gridcolor": "white",
             "linecolor": "white",
             "minorgridcolor": "white",
             "startlinecolor": "#2a3f5f"
            },
            "type": "carpet"
           }
          ],
          "choropleth": [
           {
            "colorbar": {
             "outlinewidth": 0,
             "ticks": ""
            },
            "type": "choropleth"
           }
          ],
          "contour": [
           {
            "colorbar": {
             "outlinewidth": 0,
             "ticks": ""
            },
            "colorscale": [
             [
              0,
              "#0d0887"
             ],
             [
              0.1111111111111111,
              "#46039f"
             ],
             [
              0.2222222222222222,
              "#7201a8"
             ],
             [
              0.3333333333333333,
              "#9c179e"
             ],
             [
              0.4444444444444444,
              "#bd3786"
             ],
             [
              0.5555555555555556,
              "#d8576b"
             ],
             [
              0.6666666666666666,
              "#ed7953"
             ],
             [
              0.7777777777777778,
              "#fb9f3a"
             ],
             [
              0.8888888888888888,
              "#fdca26"
             ],
             [
              1,
              "#f0f921"
             ]
            ],
            "type": "contour"
           }
          ],
          "contourcarpet": [
           {
            "colorbar": {
             "outlinewidth": 0,
             "ticks": ""
            },
            "type": "contourcarpet"
           }
          ],
          "heatmap": [
           {
            "colorbar": {
             "outlinewidth": 0,
             "ticks": ""
            },
            "colorscale": [
             [
              0,
              "#0d0887"
             ],
             [
              0.1111111111111111,
              "#46039f"
             ],
             [
              0.2222222222222222,
              "#7201a8"
             ],
             [
              0.3333333333333333,
              "#9c179e"
             ],
             [
              0.4444444444444444,
              "#bd3786"
             ],
             [
              0.5555555555555556,
              "#d8576b"
             ],
             [
              0.6666666666666666,
              "#ed7953"
             ],
             [
              0.7777777777777778,
              "#fb9f3a"
             ],
             [
              0.8888888888888888,
              "#fdca26"
             ],
             [
              1,
              "#f0f921"
             ]
            ],
            "type": "heatmap"
           }
          ],
          "heatmapgl": [
           {
            "colorbar": {
             "outlinewidth": 0,
             "ticks": ""
            },
            "colorscale": [
             [
              0,
              "#0d0887"
             ],
             [
              0.1111111111111111,
              "#46039f"
             ],
             [
              0.2222222222222222,
              "#7201a8"
             ],
             [
              0.3333333333333333,
              "#9c179e"
             ],
             [
              0.4444444444444444,
              "#bd3786"
             ],
             [
              0.5555555555555556,
              "#d8576b"
             ],
             [
              0.6666666666666666,
              "#ed7953"
             ],
             [
              0.7777777777777778,
              "#fb9f3a"
             ],
             [
              0.8888888888888888,
              "#fdca26"
             ],
             [
              1,
              "#f0f921"
             ]
            ],
            "type": "heatmapgl"
           }
          ],
          "histogram": [
           {
            "marker": {
             "pattern": {
              "fillmode": "overlay",
              "size": 10,
              "solidity": 0.2
             }
            },
            "type": "histogram"
           }
          ],
          "histogram2d": [
           {
            "colorbar": {
             "outlinewidth": 0,
             "ticks": ""
            },
            "colorscale": [
             [
              0,
              "#0d0887"
             ],
             [
              0.1111111111111111,
              "#46039f"
             ],
             [
              0.2222222222222222,
              "#7201a8"
             ],
             [
              0.3333333333333333,
              "#9c179e"
             ],
             [
              0.4444444444444444,
              "#bd3786"
             ],
             [
              0.5555555555555556,
              "#d8576b"
             ],
             [
              0.6666666666666666,
              "#ed7953"
             ],
             [
              0.7777777777777778,
              "#fb9f3a"
             ],
             [
              0.8888888888888888,
              "#fdca26"
             ],
             [
              1,
              "#f0f921"
             ]
            ],
            "type": "histogram2d"
           }
          ],
          "histogram2dcontour": [
           {
            "colorbar": {
             "outlinewidth": 0,
             "ticks": ""
            },
            "colorscale": [
             [
              0,
              "#0d0887"
             ],
             [
              0.1111111111111111,
              "#46039f"
             ],
             [
              0.2222222222222222,
              "#7201a8"
             ],
             [
              0.3333333333333333,
              "#9c179e"
             ],
             [
              0.4444444444444444,
              "#bd3786"
             ],
             [
              0.5555555555555556,
              "#d8576b"
             ],
             [
              0.6666666666666666,
              "#ed7953"
             ],
             [
              0.7777777777777778,
              "#fb9f3a"
             ],
             [
              0.8888888888888888,
              "#fdca26"
             ],
             [
              1,
              "#f0f921"
             ]
            ],
            "type": "histogram2dcontour"
           }
          ],
          "mesh3d": [
           {
            "colorbar": {
             "outlinewidth": 0,
             "ticks": ""
            },
            "type": "mesh3d"
           }
          ],
          "parcoords": [
           {
            "line": {
             "colorbar": {
              "outlinewidth": 0,
              "ticks": ""
             }
            },
            "type": "parcoords"
           }
          ],
          "pie": [
           {
            "automargin": true,
            "type": "pie"
           }
          ],
          "scatter": [
           {
            "fillpattern": {
             "fillmode": "overlay",
             "size": 10,
             "solidity": 0.2
            },
            "type": "scatter"
           }
          ],
          "scatter3d": [
           {
            "line": {
             "colorbar": {
              "outlinewidth": 0,
              "ticks": ""
             }
            },
            "marker": {
             "colorbar": {
              "outlinewidth": 0,
              "ticks": ""
             }
            },
            "type": "scatter3d"
           }
          ],
          "scattercarpet": [
           {
            "marker": {
             "colorbar": {
              "outlinewidth": 0,
              "ticks": ""
             }
            },
            "type": "scattercarpet"
           }
          ],
          "scattergeo": [
           {
            "marker": {
             "colorbar": {
              "outlinewidth": 0,
              "ticks": ""
             }
            },
            "type": "scattergeo"
           }
          ],
          "scattergl": [
           {
            "marker": {
             "colorbar": {
              "outlinewidth": 0,
              "ticks": ""
             }
            },
            "type": "scattergl"
           }
          ],
          "scattermapbox": [
           {
            "marker": {
             "colorbar": {
              "outlinewidth": 0,
              "ticks": ""
             }
            },
            "type": "scattermapbox"
           }
          ],
          "scatterpolar": [
           {
            "marker": {
             "colorbar": {
              "outlinewidth": 0,
              "ticks": ""
             }
            },
            "type": "scatterpolar"
           }
          ],
          "scatterpolargl": [
           {
            "marker": {
             "colorbar": {
              "outlinewidth": 0,
              "ticks": ""
             }
            },
            "type": "scatterpolargl"
           }
          ],
          "scatterternary": [
           {
            "marker": {
             "colorbar": {
              "outlinewidth": 0,
              "ticks": ""
             }
            },
            "type": "scatterternary"
           }
          ],
          "surface": [
           {
            "colorbar": {
             "outlinewidth": 0,
             "ticks": ""
            },
            "colorscale": [
             [
              0,
              "#0d0887"
             ],
             [
              0.1111111111111111,
              "#46039f"
             ],
             [
              0.2222222222222222,
              "#7201a8"
             ],
             [
              0.3333333333333333,
              "#9c179e"
             ],
             [
              0.4444444444444444,
              "#bd3786"
             ],
             [
              0.5555555555555556,
              "#d8576b"
             ],
             [
              0.6666666666666666,
              "#ed7953"
             ],
             [
              0.7777777777777778,
              "#fb9f3a"
             ],
             [
              0.8888888888888888,
              "#fdca26"
             ],
             [
              1,
              "#f0f921"
             ]
            ],
            "type": "surface"
           }
          ],
          "table": [
           {
            "cells": {
             "fill": {
              "color": "#EBF0F8"
             },
             "line": {
              "color": "white"
             }
            },
            "header": {
             "fill": {
              "color": "#C8D4E3"
             },
             "line": {
              "color": "white"
             }
            },
            "type": "table"
           }
          ]
         },
         "layout": {
          "annotationdefaults": {
           "arrowcolor": "#2a3f5f",
           "arrowhead": 0,
           "arrowwidth": 1
          },
          "autotypenumbers": "strict",
          "coloraxis": {
           "colorbar": {
            "outlinewidth": 0,
            "ticks": ""
           }
          },
          "colorscale": {
           "diverging": [
            [
             0,
             "#8e0152"
            ],
            [
             0.1,
             "#c51b7d"
            ],
            [
             0.2,
             "#de77ae"
            ],
            [
             0.3,
             "#f1b6da"
            ],
            [
             0.4,
             "#fde0ef"
            ],
            [
             0.5,
             "#f7f7f7"
            ],
            [
             0.6,
             "#e6f5d0"
            ],
            [
             0.7,
             "#b8e186"
            ],
            [
             0.8,
             "#7fbc41"
            ],
            [
             0.9,
             "#4d9221"
            ],
            [
             1,
             "#276419"
            ]
           ],
           "sequential": [
            [
             0,
             "#0d0887"
            ],
            [
             0.1111111111111111,
             "#46039f"
            ],
            [
             0.2222222222222222,
             "#7201a8"
            ],
            [
             0.3333333333333333,
             "#9c179e"
            ],
            [
             0.4444444444444444,
             "#bd3786"
            ],
            [
             0.5555555555555556,
             "#d8576b"
            ],
            [
             0.6666666666666666,
             "#ed7953"
            ],
            [
             0.7777777777777778,
             "#fb9f3a"
            ],
            [
             0.8888888888888888,
             "#fdca26"
            ],
            [
             1,
             "#f0f921"
            ]
           ],
           "sequentialminus": [
            [
             0,
             "#0d0887"
            ],
            [
             0.1111111111111111,
             "#46039f"
            ],
            [
             0.2222222222222222,
             "#7201a8"
            ],
            [
             0.3333333333333333,
             "#9c179e"
            ],
            [
             0.4444444444444444,
             "#bd3786"
            ],
            [
             0.5555555555555556,
             "#d8576b"
            ],
            [
             0.6666666666666666,
             "#ed7953"
            ],
            [
             0.7777777777777778,
             "#fb9f3a"
            ],
            [
             0.8888888888888888,
             "#fdca26"
            ],
            [
             1,
             "#f0f921"
            ]
           ]
          },
          "colorway": [
           "#636efa",
           "#EF553B",
           "#00cc96",
           "#ab63fa",
           "#FFA15A",
           "#19d3f3",
           "#FF6692",
           "#B6E880",
           "#FF97FF",
           "#FECB52"
          ],
          "font": {
           "color": "#2a3f5f"
          },
          "geo": {
           "bgcolor": "white",
           "lakecolor": "white",
           "landcolor": "#E5ECF6",
           "showlakes": true,
           "showland": true,
           "subunitcolor": "white"
          },
          "hoverlabel": {
           "align": "left"
          },
          "hovermode": "closest",
          "mapbox": {
           "style": "light"
          },
          "paper_bgcolor": "white",
          "plot_bgcolor": "#E5ECF6",
          "polar": {
           "angularaxis": {
            "gridcolor": "white",
            "linecolor": "white",
            "ticks": ""
           },
           "bgcolor": "#E5ECF6",
           "radialaxis": {
            "gridcolor": "white",
            "linecolor": "white",
            "ticks": ""
           }
          },
          "scene": {
           "xaxis": {
            "backgroundcolor": "#E5ECF6",
            "gridcolor": "white",
            "gridwidth": 2,
            "linecolor": "white",
            "showbackground": true,
            "ticks": "",
            "zerolinecolor": "white"
           },
           "yaxis": {
            "backgroundcolor": "#E5ECF6",
            "gridcolor": "white",
            "gridwidth": 2,
            "linecolor": "white",
            "showbackground": true,
            "ticks": "",
            "zerolinecolor": "white"
           },
           "zaxis": {
            "backgroundcolor": "#E5ECF6",
            "gridcolor": "white",
            "gridwidth": 2,
            "linecolor": "white",
            "showbackground": true,
            "ticks": "",
            "zerolinecolor": "white"
           }
          },
          "shapedefaults": {
           "line": {
            "color": "#2a3f5f"
           }
          },
          "ternary": {
           "aaxis": {
            "gridcolor": "white",
            "linecolor": "white",
            "ticks": ""
           },
           "baxis": {
            "gridcolor": "white",
            "linecolor": "white",
            "ticks": ""
           },
           "bgcolor": "#E5ECF6",
           "caxis": {
            "gridcolor": "white",
            "linecolor": "white",
            "ticks": ""
           }
          },
          "title": {
           "x": 0.05
          },
          "xaxis": {
           "automargin": true,
           "gridcolor": "white",
           "linecolor": "white",
           "ticks": "",
           "title": {
            "standoff": 15
           },
           "zerolinecolor": "white",
           "zerolinewidth": 2
          },
          "yaxis": {
           "automargin": true,
           "gridcolor": "white",
           "linecolor": "white",
           "ticks": "",
           "title": {
            "standoff": 15
           },
           "zerolinecolor": "white",
           "zerolinewidth": 2
          }
         }
        },
        "title": {
         "text": "YT Subscribers vs Likes"
        },
        "xaxis": {
         "anchor": "y",
         "domain": [
          0,
          1
         ],
         "title": {
          "text": "Subscribers"
         }
        },
        "yaxis": {
         "anchor": "x",
         "domain": [
          0,
          1
         ],
         "title": {
          "text": "Likes"
         }
        }
       }
      }
     },
     "metadata": {},
     "output_type": "display_data"
    }
   ],
   "source": [
    "px.scatter(yt, title='YT Subscribers vs Likes', x='Subscribers', y='Likes', trendline='ols', trendline_color_override=\"red\")"
   ]
  },
  {
   "cell_type": "code",
   "execution_count": 94,
   "metadata": {},
   "outputs": [
    {
     "data": {
      "application/vnd.plotly.v1+json": {
       "config": {
        "plotlyServerURL": "https://plot.ly"
       },
       "data": [
        {
         "hovertemplate": "Subscribers=%{x}<br>Comments=%{y}<extra></extra>",
         "legendgroup": "",
         "marker": {
          "color": "#636efa",
          "symbol": "circle"
         },
         "mode": "markers",
         "name": "",
         "orientation": "v",
         "showlegend": false,
         "type": "scatter",
         "x": [
          249500000,
          183500000,
          165500000,
          162600000,
          113500000,
          111500000,
          107500000,
          101400000,
          99700000,
          97200000,
          91300000,
          89700000,
          85400000,
          80300000,
          76500000,
          72700000,
          72500000,
          69600000,
          67500000,
          66599999.99999999,
          66599999.99999999,
          66400000.00000001,
          62600000,
          60900000,
          59900000,
          59700000,
          59700000,
          58900000,
          58700000,
          57900000,
          56700000,
          55700000,
          55700000,
          54800000,
          54100000,
          53700000,
          53100000,
          52900000,
          48800000,
          48600000,
          48600000,
          48100000,
          47500000,
          47300000,
          47000000,
          46400000,
          46000000,
          45900000,
          45600000,
          45000000,
          45000000,
          44600000,
          44400000,
          44400000,
          44400000,
          44200000,
          44000000,
          43700000,
          43400000,
          42900000,
          42900000,
          42500000,
          42100000,
          42100000,
          41100000,
          41000000,
          40600000,
          40300000,
          40100000,
          39900000,
          39600000,
          39500000,
          39500000,
          39400000,
          39300000,
          39100000,
          39100000,
          39100000,
          38700000,
          38300000,
          38300000,
          38100000,
          38100000,
          38100000,
          37700000,
          37500000,
          37400000,
          37300000,
          37300000,
          37000000,
          36900000,
          36800000,
          36700000,
          36600000,
          36500000,
          36300000,
          36300000,
          35700000,
          35600000,
          35500000,
          35500000,
          35000000,
          35000000,
          34700000,
          34600000,
          34500000,
          34200000,
          34200000,
          34200000,
          34200000,
          34000000,
          34000000,
          33600000,
          33600000,
          33300000,
          33200000.000000004,
          33000000,
          33000000,
          33000000,
          33000000,
          32900000,
          32800000,
          32700000.000000004,
          32600000,
          32600000,
          32400000,
          32200000.000000004,
          32200000.000000004,
          32200000.000000004,
          32200000.000000004,
          32100000,
          32000000,
          31900000,
          31800000,
          31600000,
          31400000,
          31300000,
          31200000,
          31100000,
          31000000,
          31000000,
          30900000,
          30600000,
          30600000,
          30600000,
          30400000,
          30400000,
          30400000,
          30400000,
          30200000,
          30200000,
          30000000,
          29900000,
          29800000,
          29800000,
          29700000,
          29700000,
          29500000,
          29400000,
          29400000,
          29400000,
          29300000,
          29200000,
          29200000,
          29000000,
          28800000,
          28800000,
          28700000,
          28400000,
          28200000,
          28100000,
          28000000,
          28000000,
          27900000,
          27800000,
          27800000,
          27800000,
          27800000,
          27800000,
          27600000,
          27500000,
          27300000,
          27200000,
          27100000,
          27100000,
          27000000,
          26800000,
          26800000,
          26800000,
          26700000,
          26600000,
          26600000,
          26300000,
          26300000,
          26200000,
          26100000,
          26100000,
          26000000,
          25900000,
          25900000,
          25900000,
          25900000,
          25900000,
          25900000,
          25800000,
          25700000,
          25700000,
          25700000,
          25700000,
          25700000,
          25500000,
          25500000,
          25500000,
          25500000,
          25400000,
          25100000,
          25000000,
          25000000,
          24900000,
          24900000,
          24900000,
          24900000,
          24800000,
          24800000,
          24700000,
          24700000,
          24700000,
          24600000,
          24600000,
          24400000,
          24400000,
          24400000,
          24400000,
          24400000,
          24300000,
          24300000,
          24300000,
          24300000,
          24300000,
          24100000,
          24100000,
          24000000,
          23900000,
          23900000,
          23900000,
          23900000,
          23800000,
          23700000,
          23700000,
          23700000,
          23700000,
          23600000,
          23500000,
          23500000,
          23500000,
          23500000,
          23400000,
          23400000,
          23400000,
          23400000,
          23300000,
          23300000,
          23300000,
          23300000,
          23200000,
          23200000,
          23100000,
          23100000,
          23000000,
          23000000,
          23000000,
          23000000,
          22900000,
          22900000,
          22900000,
          22800000,
          22800000,
          22800000,
          22700000,
          22700000,
          22700000,
          22700000,
          22700000,
          22700000,
          22600000,
          22500000,
          22500000,
          22500000,
          22500000,
          22400000,
          22400000,
          22400000,
          22300000,
          22300000,
          22300000,
          22300000,
          22100000,
          22100000,
          21900000,
          21900000,
          21900000,
          21900000,
          21900000,
          21800000,
          21700000,
          21700000,
          21700000,
          21700000,
          21700000,
          21500000,
          21500000,
          21300000,
          21100000,
          21100000,
          21100000,
          21100000,
          21100000,
          21100000,
          21100000,
          21100000,
          21000000,
          20900000,
          20800000,
          20800000,
          20700000,
          20700000,
          20700000,
          20700000,
          20700000,
          20700000,
          20600000,
          20600000,
          20600000,
          20500000,
          20500000,
          20500000,
          20500000,
          20500000,
          20500000,
          20500000,
          20400000,
          20400000,
          20400000,
          20300000,
          20300000,
          20300000,
          20300000,
          20200000,
          20100000,
          20100000,
          20100000,
          20100000,
          20100000,
          20100000,
          20100000,
          20100000,
          20100000,
          20100000,
          20100000,
          20100000,
          20100000,
          20000000,
          19900000,
          19900000,
          19900000,
          19900000,
          19900000,
          19800000,
          19800000,
          19800000,
          19700000,
          19700000,
          19700000,
          19600000,
          19500000,
          19500000,
          19500000,
          19500000,
          19400000,
          19300000,
          19300000,
          19300000,
          19300000,
          19300000,
          19200000,
          19100000,
          19100000,
          19100000,
          19100000,
          19100000,
          19100000,
          19100000,
          19100000,
          19100000,
          19100000,
          19100000,
          19000000,
          19000000,
          19000000,
          18900000,
          18800000,
          18800000,
          18800000,
          18700000,
          18600000,
          18600000,
          18600000,
          18600000,
          18600000,
          18600000,
          18600000,
          18600000,
          18500000,
          18500000,
          18400000,
          18400000,
          18400000,
          18400000,
          18400000,
          18400000,
          18300000,
          18200000,
          18200000,
          18200000,
          18200000,
          18200000,
          18200000,
          18200000,
          18200000,
          18200000,
          18200000,
          18000000,
          18000000,
          18000000,
          18000000,
          18000000,
          18000000,
          18000000,
          18000000,
          18000000,
          18000000,
          18000000,
          18000000,
          18000000,
          17800000,
          17800000,
          17800000,
          17800000,
          17800000,
          17800000,
          17900000,
          17800000,
          17700000,
          17700000,
          17700000,
          17700000,
          17700000,
          17600000,
          17600000,
          17600000,
          17600000,
          17600000,
          17600000,
          17500000,
          17500000,
          17400000,
          17400000,
          17400000,
          17400000,
          17400000,
          17300000,
          17300000,
          17200000,
          17200000,
          17200000,
          17200000,
          17200000,
          17000000,
          17000000,
          17000000,
          17000000,
          17000000,
          17000000,
          17000000,
          17000000,
          17000000,
          17000000,
          16900000,
          16900000,
          16900000,
          16800000,
          16800000,
          16800000,
          16800000,
          16800000,
          16800000,
          16800000,
          16800000,
          16800000,
          16800000,
          16700000,
          16700000,
          16700000,
          16700000,
          16700000,
          16600000.000000002,
          16600000.000000002,
          16600000.000000002,
          16600000.000000002,
          16600000.000000002,
          16500000,
          16500000,
          16500000,
          16500000,
          16500000,
          16500000,
          16399999.999999998,
          16399999.999999998,
          16399999.999999998,
          16399999.999999998,
          16399999.999999998,
          16399999.999999998,
          16399999.999999998,
          16399999.999999998,
          16399999.999999998,
          16399999.999999998,
          16399999.999999998,
          16300000,
          16300000,
          16300000,
          16300000,
          16200000,
          16200000,
          16200000,
          16200000,
          16200000,
          16100000.000000002,
          16100000.000000002,
          16100000.000000002,
          16000000,
          16000000,
          16000000,
          16000000,
          16000000,
          16000000,
          16000000,
          16000000,
          16000000,
          16000000,
          16000000,
          16000000,
          16000000,
          15900000,
          15900000,
          15900000,
          15900000,
          15900000,
          15800000,
          15800000,
          15800000,
          15800000,
          15800000,
          15800000,
          15700000,
          15700000,
          15600000,
          15600000,
          15600000,
          15600000,
          15600000,
          15600000,
          15600000,
          15600000,
          15600000,
          15600000,
          15600000,
          15600000,
          15500000,
          15500000,
          15500000,
          15400000,
          15400000,
          15400000,
          15400000,
          15400000,
          15400000,
          15400000,
          15400000,
          15400000,
          15400000,
          15400000,
          15400000,
          15400000,
          15400000,
          15300000,
          15300000,
          15200000,
          15200000,
          15200000,
          15200000,
          15200000,
          15200000,
          15200000,
          15200000,
          15200000,
          15200000,
          15200000,
          15200000,
          15200000,
          15100000,
          15100000,
          15100000,
          15100000,
          15000000,
          15000000,
          15000000,
          15000000,
          15000000,
          15000000,
          15000000,
          15000000,
          15000000,
          15000000,
          15000000,
          15000000,
          14900000,
          14900000,
          14900000,
          14900000,
          14900000,
          14900000,
          14900000,
          14800000,
          14800000,
          14800000,
          14800000,
          14800000,
          14800000,
          14800000,
          14800000,
          14800000,
          14800000,
          14800000,
          14800000,
          14800000,
          14800000,
          14800000,
          14800000,
          14800000,
          14800000,
          14700000,
          14700000,
          14700000,
          14700000,
          14700000,
          14700000,
          14700000,
          14700000,
          14700000,
          14700000,
          14600000,
          14600000,
          14600000,
          14600000,
          14600000,
          14600000,
          14600000,
          14600000,
          14600000,
          14600000,
          14600000,
          14600000,
          14600000,
          14600000,
          14600000,
          14500000,
          14500000,
          14500000,
          14400000,
          14400000,
          14400000,
          14400000,
          14400000,
          14400000,
          14400000,
          14400000,
          14400000,
          14400000,
          14300000,
          14300000,
          14300000,
          14300000,
          14300000,
          14300000,
          14200000,
          14200000,
          14200000,
          14200000,
          14200000,
          14200000,
          14200000,
          14200000,
          14200000,
          14200000,
          14200000,
          14200000,
          14200000,
          14200000,
          14200000,
          14200000,
          14200000,
          14200000,
          14200000,
          14200000,
          14200000,
          14200000,
          14100000,
          14100000,
          14100000,
          14100000,
          14100000,
          14000000,
          14000000,
          14000000,
          14000000,
          14000000,
          14000000,
          14000000,
          14000000,
          14000000,
          14000000,
          13900000,
          13900000,
          13900000,
          13900000,
          13900000,
          13900000,
          13800000,
          13800000,
          13800000,
          13800000,
          13800000,
          13800000,
          13800000,
          13800000,
          13800000,
          13800000,
          13800000,
          13800000,
          13800000,
          13800000,
          13800000,
          13800000,
          13800000,
          13700000,
          13700000,
          13700000,
          13600000,
          13600000,
          13600000,
          13600000,
          13600000,
          13600000,
          13600000,
          13600000,
          13600000,
          13600000,
          13600000,
          13600000,
          13600000,
          13600000,
          13600000,
          13600000,
          13600000,
          13600000,
          13500000,
          13500000,
          13500000,
          13500000,
          13400000,
          13400000,
          13400000,
          13400000,
          13400000,
          13400000,
          13400000,
          13400000,
          13400000,
          13400000,
          13400000,
          13400000,
          13400000,
          13400000,
          13400000,
          13400000,
          13300000,
          13300000,
          13300000,
          13300000,
          13300000,
          13300000,
          13200000,
          13200000,
          13200000,
          13200000,
          13200000,
          13200000,
          13200000,
          13200000,
          13200000,
          13200000,
          13200000,
          13200000,
          13200000,
          13100000,
          13100000,
          13100000,
          13100000,
          13000000,
          13000000,
          13000000,
          13000000,
          13000000,
          13000000,
          13000000,
          13000000,
          13000000,
          13000000,
          13000000,
          13000000,
          13000000,
          12900000,
          12900000,
          12900000,
          12900000,
          12900000,
          12900000,
          12900000,
          12900000,
          12800000,
          12800000,
          12800000,
          12800000,
          12800000,
          12800000,
          12800000,
          12800000,
          12800000,
          12800000,
          12800000,
          12800000,
          12800000,
          12800000,
          12800000,
          12800000,
          12800000,
          12800000,
          12700000,
          12700000,
          12600000,
          12600000,
          12600000,
          12600000,
          12600000,
          12600000,
          12600000,
          12600000,
          12600000,
          12600000,
          12600000,
          12600000,
          12600000,
          12600000,
          12600000,
          12600000,
          12600000,
          12600000,
          12600000,
          12600000,
          12600000,
          12600000,
          12600000,
          12600000,
          12600000,
          12600000,
          12600000,
          12600000,
          12600000,
          12600000,
          12600000,
          12500000,
          12500000,
          12500000,
          12500000,
          12500000,
          12500000,
          12500000,
          12500000,
          12400000,
          12400000,
          12400000,
          12400000,
          12400000,
          12400000,
          12400000,
          12400000,
          12400000,
          12400000,
          12400000,
          12400000,
          12400000,
          12400000,
          12400000,
          12400000,
          12400000,
          12400000,
          12400000,
          12400000,
          12400000,
          12400000,
          12400000,
          12400000,
          12300000,
          12300000,
          12300000,
          12300000,
          12200000,
          12200000,
          12200000,
          12200000,
          12200000,
          12200000,
          12200000,
          12200000,
          12200000,
          12200000,
          12200000,
          12200000,
          12200000,
          12200000,
          12200000,
          12200000,
          12200000,
          12200000,
          12100000,
          12100000,
          12100000,
          12100000,
          12000000,
          12000000,
          12100000,
          12100000,
          12100000,
          12100000,
          12000000,
          12000000,
          12000000,
          12000000,
          11900000,
          11900000,
          11900000,
          11900000,
          11900000,
          11900000,
          11900000,
          11900000,
          11900000,
          11900000,
          11900000,
          11900000,
          11900000,
          11900000,
          11900000,
          11900000,
          11900000,
          11900000,
          11900000,
          11900000,
          11900000,
          11900000,
          11900000,
          11900000,
          11900000,
          11900000,
          11800000,
          11800000,
          11700000,
          11700000,
          11700000,
          11700000,
          11700000,
          11700000,
          11700000,
          11700000,
          11700000,
          11700000,
          11700000,
          11700000,
          11700000,
          11700000
         ],
         "xaxis": "x",
         "y": [
          78,
          18500,
          0,
          9,
          0,
          4900,
          0,
          0,
          32,
          214,
          3400,
          13,
          21,
          35,
          7400,
          932,
          1,
          0,
          0,
          4,
          3,
          18,
          35,
          22,
          9,
          0,
          4200,
          4,
          54,
          21,
          167,
          33,
          0,
          0,
          15000,
          345,
          0,
          3800,
          7,
          3000,
          476,
          0,
          28,
          22000,
          4,
          2,
          0,
          13,
          1100,
          2,
          593,
          21,
          177,
          210,
          154,
          0,
          205,
          0,
          1800,
          0,
          30,
          0,
          16000,
          9,
          1800,
          0,
          0,
          0,
          0,
          0,
          1600,
          2900,
          9,
          1,
          236,
          0,
          9,
          0,
          0,
          22,
          123,
          0,
          1,
          0,
          0,
          364,
          0,
          363,
          10,
          26,
          357,
          214,
          3,
          0,
          8,
          76,
          4900,
          0,
          16500,
          0,
          3800,
          27,
          0,
          541,
          0,
          0,
          4,
          6,
          60,
          2100,
          8,
          209,
          363,
          136,
          0,
          198,
          165,
          0,
          183,
          5,
          1,
          504,
          11400,
          26000,
          386,
          73,
          29,
          153,
          505,
          0,
          6,
          17000,
          19000,
          21,
          67,
          887,
          11600,
          116,
          0,
          704,
          217,
          0,
          108,
          838,
          0,
          2300,
          60,
          0,
          0,
          33,
          0,
          485,
          309,
          82800,
          21,
          489,
          428,
          0,
          275,
          0,
          8,
          0,
          9,
          1100,
          34,
          14,
          0,
          0,
          0,
          0,
          0,
          4000,
          200,
          0,
          668,
          0,
          8600,
          52500,
          305,
          5000,
          1600,
          2,
          833,
          0,
          0,
          176,
          443,
          17,
          150,
          24,
          192,
          127,
          214,
          20,
          0,
          7600,
          0,
          52,
          197,
          0,
          573,
          526,
          1100,
          892,
          1,
          866,
          1700,
          2200,
          399,
          0,
          81,
          354,
          329,
          131,
          2,
          195,
          46,
          0,
          621,
          287,
          838,
          288,
          25,
          0,
          154,
          8,
          29,
          0,
          0,
          0,
          3,
          10,
          34,
          0,
          5100,
          403,
          2,
          19,
          5900,
          0,
          55,
          3600,
          142,
          1100,
          3000,
          15,
          0,
          1000,
          141,
          58,
          58,
          407,
          467,
          0,
          266,
          0,
          0,
          64,
          3,
          7,
          673,
          5,
          0,
          455,
          0,
          0,
          3900,
          827,
          0,
          162,
          2,
          16,
          1300,
          81,
          0,
          0,
          418,
          0,
          10000,
          0,
          835,
          1800,
          8900,
          76,
          522,
          2700,
          89,
          2100,
          5900,
          25,
          0,
          0,
          111,
          727,
          16,
          321,
          522,
          38,
          2800,
          5,
          2100,
          5,
          6600,
          0,
          1400,
          52,
          17000,
          2,
          0,
          0,
          510,
          773,
          862,
          34,
          407,
          5800,
          17,
          18,
          14000,
          1600,
          4700,
          55,
          35,
          0,
          0,
          4,
          217,
          74,
          134,
          168,
          0,
          0,
          0,
          127,
          4,
          6800,
          2000,
          5500,
          1400,
          482,
          71,
          38000,
          49,
          5000,
          533,
          5,
          216,
          90,
          0,
          117,
          8,
          140,
          88,
          34,
          226,
          88,
          0,
          618,
          214,
          0,
          7,
          2,
          28,
          13,
          952,
          7,
          3600,
          24,
          1,
          23,
          28,
          5,
          188,
          0,
          437,
          0,
          8200,
          0,
          0,
          315,
          70,
          633,
          43,
          6,
          22,
          0,
          156,
          312,
          1,
          113,
          2200,
          2100,
          5,
          512,
          1600,
          475,
          0,
          0,
          2500,
          330,
          9,
          2700,
          297,
          0,
          6700,
          0,
          0,
          254,
          0,
          0,
          5,
          6,
          261,
          1,
          78,
          22,
          3600,
          532,
          1,
          240,
          128,
          0,
          59,
          13,
          0,
          3000,
          299,
          0,
          0,
          92,
          34,
          2700,
          82,
          426,
          0,
          1400,
          154000,
          4,
          0,
          37,
          0,
          166,
          5,
          4500,
          190,
          184,
          367,
          0,
          912,
          179,
          185,
          0,
          566,
          108,
          732,
          82,
          159,
          0,
          4,
          426,
          259,
          2500,
          3,
          0,
          0,
          5200,
          56,
          11000,
          111,
          8500,
          1,
          0,
          48,
          72,
          206,
          156,
          32,
          7100,
          0,
          34,
          0,
          56,
          0,
          8,
          1500,
          181,
          1300,
          0,
          24000,
          12,
          259,
          6800,
          2,
          2800,
          189,
          27,
          129,
          0,
          249,
          15,
          6,
          28,
          746,
          8,
          0,
          1,
          5200,
          369,
          0,
          5,
          154,
          0,
          42,
          26,
          25,
          67,
          816,
          1500,
          0,
          1800,
          941,
          11,
          4600,
          1800,
          304,
          1800,
          318,
          0,
          26,
          2300,
          0,
          136,
          746,
          0,
          28,
          1,
          67,
          389,
          104,
          590,
          2000,
          4,
          4,
          0,
          1,
          139,
          2100,
          2300,
          0,
          16,
          22,
          148,
          0,
          238,
          17,
          16,
          0,
          843,
          1,
          49,
          172,
          4,
          3,
          10200,
          0,
          85,
          24,
          453,
          0,
          983,
          6,
          935,
          41,
          0,
          3100,
          20,
          0,
          0,
          44,
          634,
          660,
          3,
          4300,
          3100,
          0,
          5,
          1200,
          57,
          321,
          1800,
          2300,
          290,
          2,
          2,
          0,
          0,
          21,
          572,
          82,
          148,
          97,
          4200,
          425,
          83,
          4,
          279,
          19,
          393,
          345,
          0,
          33,
          95,
          0,
          525,
          1100,
          311,
          50,
          19,
          1900,
          9,
          903,
          32,
          3,
          167,
          11,
          103,
          2300,
          215,
          1400,
          0,
          0,
          30,
          248,
          40,
          237,
          486,
          49,
          1700,
          36,
          262,
          275,
          3200,
          861,
          459,
          130,
          17,
          487,
          444,
          881,
          686,
          0,
          49,
          335,
          563,
          0,
          47,
          0,
          0,
          0,
          0,
          2600,
          0,
          5,
          0,
          4,
          412,
          221,
          3,
          0,
          8,
          86,
          125,
          30,
          4900,
          55,
          0,
          816,
          1800,
          25,
          31,
          0,
          1700,
          2500,
          274,
          73,
          137,
          1100,
          1700,
          0,
          11,
          0,
          2000,
          138,
          4,
          2100,
          71,
          6400,
          447,
          0,
          284,
          0,
          0,
          7500,
          101,
          0,
          303,
          109,
          27,
          3600,
          5300,
          30,
          22,
          304,
          276,
          19,
          5,
          81,
          102,
          4300,
          0,
          0,
          319,
          3,
          94,
          11,
          821,
          0,
          0,
          2500,
          1100,
          2500,
          0,
          0,
          15,
          15800,
          18,
          139,
          5,
          538,
          470,
          14,
          27,
          0,
          30,
          0,
          62,
          4500,
          286,
          7,
          2,
          3700,
          4,
          85,
          210,
          1000,
          0,
          3500,
          172,
          1300,
          1200,
          0,
          817,
          44,
          1100,
          1600,
          35,
          13,
          13,
          4600,
          76,
          319,
          1000,
          131,
          137,
          11500,
          57,
          39,
          634,
          0,
          1200,
          24,
          156,
          38,
          21,
          13,
          163,
          926,
          232,
          182,
          132,
          72,
          472,
          2700,
          614,
          1100,
          0,
          0,
          0,
          201,
          132,
          5100,
          91,
          87,
          9,
          330,
          245,
          367,
          840,
          245,
          789,
          5,
          0,
          132,
          2,
          81,
          1000,
          97,
          0,
          12,
          0,
          49,
          0,
          7,
          13,
          0,
          1100,
          296,
          288,
          349,
          0,
          7,
          0,
          0,
          0,
          2,
          10000,
          5,
          41,
          10,
          16000,
          416,
          610,
          279,
          37,
          0,
          34,
          70,
          0,
          62,
          1,
          3800,
          5,
          0,
          169,
          86,
          217,
          221,
          0,
          28,
          411,
          4100,
          0,
          3,
          95,
          55,
          472,
          793,
          16,
          0,
          183,
          136,
          14,
          176,
          364,
          0,
          197,
          3,
          55,
          0,
          0,
          14,
          0,
          322,
          84,
          345,
          1,
          2600,
          188,
          789,
          1100,
          0,
          0,
          4,
          0,
          2,
          156,
          316,
          0,
          3,
          86,
          74,
          2,
          12000,
          275,
          20,
          36,
          0,
          1600,
          2400,
          26,
          29,
          37,
          4500,
          167,
          65,
          26,
          759,
          87,
          9,
          4,
          173,
          800,
          199,
          89,
          1500,
          0,
          2,
          660,
          86,
          576,
          0,
          0,
          0,
          137,
          103,
          1,
          0,
          43,
          204,
          80,
          656,
          8800,
          791,
          934,
          192,
          40,
          0,
          59,
          0,
          105,
          445,
          7,
          0,
          59,
          70,
          663,
          86,
          9,
          73000,
          11,
          300,
          827,
          83,
          16,
          195,
          4800,
          61,
          0,
          0,
          136,
          31,
          0,
          0,
          0,
          0,
          0,
          2700,
          10,
          2300,
          406,
          41,
          4,
          0,
          2400,
          0,
          1000,
          959,
          42,
          18,
          342,
          2900,
          556,
          1,
          842,
          101,
          124,
          164,
          0,
          1,
          1
         ],
         "yaxis": "y"
        },
        {
         "hovertemplate": "<b>OLS trendline</b><br>Comments = 1.46416e-05 * Subscribers + 968.198<br>R<sup>2</sup>=0.001321<br><br>Subscribers=%{x}<br>Comments=%{y} <b>(trend)</b><extra></extra>",
         "legendgroup": "",
         "line": {
          "color": "red"
         },
         "marker": {
          "color": "#636efa",
          "symbol": "circle"
         },
         "mode": "lines",
         "name": "",
         "showlegend": false,
         "type": "scatter",
         "x": [
          11700000,
          11700000,
          11700000,
          11700000,
          11700000,
          11700000,
          11700000,
          11700000,
          11700000,
          11700000,
          11700000,
          11700000,
          11700000,
          11700000,
          11800000,
          11800000,
          11900000,
          11900000,
          11900000,
          11900000,
          11900000,
          11900000,
          11900000,
          11900000,
          11900000,
          11900000,
          11900000,
          11900000,
          11900000,
          11900000,
          11900000,
          11900000,
          11900000,
          11900000,
          11900000,
          11900000,
          11900000,
          11900000,
          11900000,
          11900000,
          11900000,
          11900000,
          12000000,
          12000000,
          12000000,
          12000000,
          12000000,
          12000000,
          12100000,
          12100000,
          12100000,
          12100000,
          12100000,
          12100000,
          12100000,
          12100000,
          12200000,
          12200000,
          12200000,
          12200000,
          12200000,
          12200000,
          12200000,
          12200000,
          12200000,
          12200000,
          12200000,
          12200000,
          12200000,
          12200000,
          12200000,
          12200000,
          12200000,
          12200000,
          12300000,
          12300000,
          12300000,
          12300000,
          12400000,
          12400000,
          12400000,
          12400000,
          12400000,
          12400000,
          12400000,
          12400000,
          12400000,
          12400000,
          12400000,
          12400000,
          12400000,
          12400000,
          12400000,
          12400000,
          12400000,
          12400000,
          12400000,
          12400000,
          12400000,
          12400000,
          12400000,
          12400000,
          12500000,
          12500000,
          12500000,
          12500000,
          12500000,
          12500000,
          12500000,
          12500000,
          12600000,
          12600000,
          12600000,
          12600000,
          12600000,
          12600000,
          12600000,
          12600000,
          12600000,
          12600000,
          12600000,
          12600000,
          12600000,
          12600000,
          12600000,
          12600000,
          12600000,
          12600000,
          12600000,
          12600000,
          12600000,
          12600000,
          12600000,
          12600000,
          12600000,
          12600000,
          12600000,
          12600000,
          12600000,
          12600000,
          12600000,
          12700000,
          12700000,
          12800000,
          12800000,
          12800000,
          12800000,
          12800000,
          12800000,
          12800000,
          12800000,
          12800000,
          12800000,
          12800000,
          12800000,
          12800000,
          12800000,
          12800000,
          12800000,
          12800000,
          12800000,
          12900000,
          12900000,
          12900000,
          12900000,
          12900000,
          12900000,
          12900000,
          12900000,
          13000000,
          13000000,
          13000000,
          13000000,
          13000000,
          13000000,
          13000000,
          13000000,
          13000000,
          13000000,
          13000000,
          13000000,
          13000000,
          13100000,
          13100000,
          13100000,
          13100000,
          13200000,
          13200000,
          13200000,
          13200000,
          13200000,
          13200000,
          13200000,
          13200000,
          13200000,
          13200000,
          13200000,
          13200000,
          13200000,
          13300000,
          13300000,
          13300000,
          13300000,
          13300000,
          13300000,
          13400000,
          13400000,
          13400000,
          13400000,
          13400000,
          13400000,
          13400000,
          13400000,
          13400000,
          13400000,
          13400000,
          13400000,
          13400000,
          13400000,
          13400000,
          13400000,
          13500000,
          13500000,
          13500000,
          13500000,
          13600000,
          13600000,
          13600000,
          13600000,
          13600000,
          13600000,
          13600000,
          13600000,
          13600000,
          13600000,
          13600000,
          13600000,
          13600000,
          13600000,
          13600000,
          13600000,
          13600000,
          13600000,
          13700000,
          13700000,
          13700000,
          13800000,
          13800000,
          13800000,
          13800000,
          13800000,
          13800000,
          13800000,
          13800000,
          13800000,
          13800000,
          13800000,
          13800000,
          13800000,
          13800000,
          13800000,
          13800000,
          13800000,
          13900000,
          13900000,
          13900000,
          13900000,
          13900000,
          13900000,
          14000000,
          14000000,
          14000000,
          14000000,
          14000000,
          14000000,
          14000000,
          14000000,
          14000000,
          14000000,
          14100000,
          14100000,
          14100000,
          14100000,
          14100000,
          14200000,
          14200000,
          14200000,
          14200000,
          14200000,
          14200000,
          14200000,
          14200000,
          14200000,
          14200000,
          14200000,
          14200000,
          14200000,
          14200000,
          14200000,
          14200000,
          14200000,
          14200000,
          14200000,
          14200000,
          14200000,
          14200000,
          14300000,
          14300000,
          14300000,
          14300000,
          14300000,
          14300000,
          14400000,
          14400000,
          14400000,
          14400000,
          14400000,
          14400000,
          14400000,
          14400000,
          14400000,
          14400000,
          14500000,
          14500000,
          14500000,
          14600000,
          14600000,
          14600000,
          14600000,
          14600000,
          14600000,
          14600000,
          14600000,
          14600000,
          14600000,
          14600000,
          14600000,
          14600000,
          14600000,
          14600000,
          14700000,
          14700000,
          14700000,
          14700000,
          14700000,
          14700000,
          14700000,
          14700000,
          14700000,
          14700000,
          14800000,
          14800000,
          14800000,
          14800000,
          14800000,
          14800000,
          14800000,
          14800000,
          14800000,
          14800000,
          14800000,
          14800000,
          14800000,
          14800000,
          14800000,
          14800000,
          14800000,
          14800000,
          14900000,
          14900000,
          14900000,
          14900000,
          14900000,
          14900000,
          14900000,
          15000000,
          15000000,
          15000000,
          15000000,
          15000000,
          15000000,
          15000000,
          15000000,
          15000000,
          15000000,
          15000000,
          15000000,
          15100000,
          15100000,
          15100000,
          15100000,
          15200000,
          15200000,
          15200000,
          15200000,
          15200000,
          15200000,
          15200000,
          15200000,
          15200000,
          15200000,
          15200000,
          15200000,
          15200000,
          15300000,
          15300000,
          15400000,
          15400000,
          15400000,
          15400000,
          15400000,
          15400000,
          15400000,
          15400000,
          15400000,
          15400000,
          15400000,
          15400000,
          15400000,
          15400000,
          15500000,
          15500000,
          15500000,
          15600000,
          15600000,
          15600000,
          15600000,
          15600000,
          15600000,
          15600000,
          15600000,
          15600000,
          15600000,
          15600000,
          15600000,
          15700000,
          15700000,
          15800000,
          15800000,
          15800000,
          15800000,
          15800000,
          15800000,
          15900000,
          15900000,
          15900000,
          15900000,
          15900000,
          16000000,
          16000000,
          16000000,
          16000000,
          16000000,
          16000000,
          16000000,
          16000000,
          16000000,
          16000000,
          16000000,
          16000000,
          16000000,
          16100000.000000002,
          16100000.000000002,
          16100000.000000002,
          16200000,
          16200000,
          16200000,
          16200000,
          16200000,
          16300000,
          16300000,
          16300000,
          16300000,
          16399999.999999998,
          16399999.999999998,
          16399999.999999998,
          16399999.999999998,
          16399999.999999998,
          16399999.999999998,
          16399999.999999998,
          16399999.999999998,
          16399999.999999998,
          16399999.999999998,
          16399999.999999998,
          16500000,
          16500000,
          16500000,
          16500000,
          16500000,
          16500000,
          16600000.000000002,
          16600000.000000002,
          16600000.000000002,
          16600000.000000002,
          16600000.000000002,
          16700000,
          16700000,
          16700000,
          16700000,
          16700000,
          16800000,
          16800000,
          16800000,
          16800000,
          16800000,
          16800000,
          16800000,
          16800000,
          16800000,
          16800000,
          16900000,
          16900000,
          16900000,
          17000000,
          17000000,
          17000000,
          17000000,
          17000000,
          17000000,
          17000000,
          17000000,
          17000000,
          17000000,
          17200000,
          17200000,
          17200000,
          17200000,
          17200000,
          17300000,
          17300000,
          17400000,
          17400000,
          17400000,
          17400000,
          17400000,
          17500000,
          17500000,
          17600000,
          17600000,
          17600000,
          17600000,
          17600000,
          17600000,
          17700000,
          17700000,
          17700000,
          17700000,
          17700000,
          17800000,
          17800000,
          17800000,
          17800000,
          17800000,
          17800000,
          17800000,
          17900000,
          18000000,
          18000000,
          18000000,
          18000000,
          18000000,
          18000000,
          18000000,
          18000000,
          18000000,
          18000000,
          18000000,
          18000000,
          18000000,
          18200000,
          18200000,
          18200000,
          18200000,
          18200000,
          18200000,
          18200000,
          18200000,
          18200000,
          18200000,
          18300000,
          18400000,
          18400000,
          18400000,
          18400000,
          18400000,
          18400000,
          18500000,
          18500000,
          18600000,
          18600000,
          18600000,
          18600000,
          18600000,
          18600000,
          18600000,
          18600000,
          18700000,
          18800000,
          18800000,
          18800000,
          18900000,
          19000000,
          19000000,
          19000000,
          19100000,
          19100000,
          19100000,
          19100000,
          19100000,
          19100000,
          19100000,
          19100000,
          19100000,
          19100000,
          19100000,
          19200000,
          19300000,
          19300000,
          19300000,
          19300000,
          19300000,
          19400000,
          19500000,
          19500000,
          19500000,
          19500000,
          19600000,
          19700000,
          19700000,
          19700000,
          19800000,
          19800000,
          19800000,
          19900000,
          19900000,
          19900000,
          19900000,
          19900000,
          20000000,
          20100000,
          20100000,
          20100000,
          20100000,
          20100000,
          20100000,
          20100000,
          20100000,
          20100000,
          20100000,
          20100000,
          20100000,
          20100000,
          20200000,
          20300000,
          20300000,
          20300000,
          20300000,
          20400000,
          20400000,
          20400000,
          20500000,
          20500000,
          20500000,
          20500000,
          20500000,
          20500000,
          20500000,
          20600000,
          20600000,
          20600000,
          20700000,
          20700000,
          20700000,
          20700000,
          20700000,
          20700000,
          20800000,
          20800000,
          20900000,
          21000000,
          21100000,
          21100000,
          21100000,
          21100000,
          21100000,
          21100000,
          21100000,
          21100000,
          21300000,
          21500000,
          21500000,
          21700000,
          21700000,
          21700000,
          21700000,
          21700000,
          21800000,
          21900000,
          21900000,
          21900000,
          21900000,
          21900000,
          22100000,
          22100000,
          22300000,
          22300000,
          22300000,
          22300000,
          22400000,
          22400000,
          22400000,
          22500000,
          22500000,
          22500000,
          22500000,
          22600000,
          22700000,
          22700000,
          22700000,
          22700000,
          22700000,
          22700000,
          22800000,
          22800000,
          22800000,
          22900000,
          22900000,
          22900000,
          23000000,
          23000000,
          23000000,
          23000000,
          23100000,
          23100000,
          23200000,
          23200000,
          23300000,
          23300000,
          23300000,
          23300000,
          23400000,
          23400000,
          23400000,
          23400000,
          23500000,
          23500000,
          23500000,
          23500000,
          23600000,
          23700000,
          23700000,
          23700000,
          23700000,
          23800000,
          23900000,
          23900000,
          23900000,
          23900000,
          24000000,
          24100000,
          24100000,
          24300000,
          24300000,
          24300000,
          24300000,
          24300000,
          24400000,
          24400000,
          24400000,
          24400000,
          24400000,
          24600000,
          24600000,
          24700000,
          24700000,
          24700000,
          24800000,
          24800000,
          24900000,
          24900000,
          24900000,
          24900000,
          25000000,
          25000000,
          25100000,
          25400000,
          25500000,
          25500000,
          25500000,
          25500000,
          25700000,
          25700000,
          25700000,
          25700000,
          25700000,
          25800000,
          25900000,
          25900000,
          25900000,
          25900000,
          25900000,
          25900000,
          26000000,
          26100000,
          26100000,
          26200000,
          26300000,
          26300000,
          26600000,
          26600000,
          26700000,
          26800000,
          26800000,
          26800000,
          27000000,
          27100000,
          27100000,
          27200000,
          27300000,
          27500000,
          27600000,
          27800000,
          27800000,
          27800000,
          27800000,
          27800000,
          27900000,
          28000000,
          28000000,
          28100000,
          28200000,
          28400000,
          28700000,
          28800000,
          28800000,
          29000000,
          29200000,
          29200000,
          29300000,
          29400000,
          29400000,
          29400000,
          29500000,
          29700000,
          29700000,
          29800000,
          29800000,
          29900000,
          30000000,
          30200000,
          30200000,
          30400000,
          30400000,
          30400000,
          30400000,
          30600000,
          30600000,
          30600000,
          30900000,
          31000000,
          31000000,
          31100000,
          31200000,
          31300000,
          31400000,
          31600000,
          31800000,
          31900000,
          32000000,
          32100000,
          32200000.000000004,
          32200000.000000004,
          32200000.000000004,
          32200000.000000004,
          32400000,
          32600000,
          32600000,
          32700000.000000004,
          32800000,
          32900000,
          33000000,
          33000000,
          33000000,
          33000000,
          33200000.000000004,
          33300000,
          33600000,
          33600000,
          34000000,
          34000000,
          34200000,
          34200000,
          34200000,
          34200000,
          34500000,
          34600000,
          34700000,
          35000000,
          35000000,
          35500000,
          35500000,
          35600000,
          35700000,
          36300000,
          36300000,
          36500000,
          36600000,
          36700000,
          36800000,
          36900000,
          37000000,
          37300000,
          37300000,
          37400000,
          37500000,
          37700000,
          38100000,
          38100000,
          38100000,
          38300000,
          38300000,
          38700000,
          39100000,
          39100000,
          39100000,
          39300000,
          39400000,
          39500000,
          39500000,
          39600000,
          39900000,
          40100000,
          40300000,
          40600000,
          41000000,
          41100000,
          42100000,
          42100000,
          42500000,
          42900000,
          42900000,
          43400000,
          43700000,
          44000000,
          44200000,
          44400000,
          44400000,
          44400000,
          44600000,
          45000000,
          45000000,
          45600000,
          45900000,
          46000000,
          46400000,
          47000000,
          47300000,
          47500000,
          48100000,
          48600000,
          48600000,
          48800000,
          52900000,
          53100000,
          53700000,
          54100000,
          54800000,
          55700000,
          55700000,
          56700000,
          57900000,
          58700000,
          58900000,
          59700000,
          59700000,
          59900000,
          60900000,
          62600000,
          66400000.00000001,
          66599999.99999999,
          66599999.99999999,
          67500000,
          69600000,
          72500000,
          72700000,
          76500000,
          80300000,
          85400000,
          89700000,
          91300000,
          97200000,
          99700000,
          101400000,
          107500000,
          111500000,
          113500000,
          162600000,
          165500000,
          183500000,
          249500000
         ],
         "xaxis": "x",
         "y": [
          1139.5052232602673,
          1139.5052232602673,
          1139.5052232602673,
          1139.5052232602673,
          1139.5052232602673,
          1139.5052232602673,
          1139.5052232602673,
          1139.5052232602673,
          1139.5052232602673,
          1139.5052232602673,
          1139.5052232602673,
          1139.5052232602673,
          1139.5052232602673,
          1139.5052232602673,
          1140.96938767151,
          1140.96938767151,
          1142.4335520827528,
          1142.4335520827528,
          1142.4335520827528,
          1142.4335520827528,
          1142.4335520827528,
          1142.4335520827528,
          1142.4335520827528,
          1142.4335520827528,
          1142.4335520827528,
          1142.4335520827528,
          1142.4335520827528,
          1142.4335520827528,
          1142.4335520827528,
          1142.4335520827528,
          1142.4335520827528,
          1142.4335520827528,
          1142.4335520827528,
          1142.4335520827528,
          1142.4335520827528,
          1142.4335520827528,
          1142.4335520827528,
          1142.4335520827528,
          1142.4335520827528,
          1142.4335520827528,
          1142.4335520827528,
          1142.4335520827528,
          1143.8977164939956,
          1143.8977164939956,
          1143.8977164939956,
          1143.8977164939956,
          1143.8977164939956,
          1143.8977164939956,
          1145.3618809052382,
          1145.3618809052382,
          1145.3618809052382,
          1145.3618809052382,
          1145.3618809052382,
          1145.3618809052382,
          1145.3618809052382,
          1145.3618809052382,
          1146.826045316481,
          1146.826045316481,
          1146.826045316481,
          1146.826045316481,
          1146.826045316481,
          1146.826045316481,
          1146.826045316481,
          1146.826045316481,
          1146.826045316481,
          1146.826045316481,
          1146.826045316481,
          1146.826045316481,
          1146.826045316481,
          1146.826045316481,
          1146.826045316481,
          1146.826045316481,
          1146.826045316481,
          1146.826045316481,
          1148.2902097277238,
          1148.2902097277238,
          1148.2902097277238,
          1148.2902097277238,
          1149.7543741389666,
          1149.7543741389666,
          1149.7543741389666,
          1149.7543741389666,
          1149.7543741389666,
          1149.7543741389666,
          1149.7543741389666,
          1149.7543741389666,
          1149.7543741389666,
          1149.7543741389666,
          1149.7543741389666,
          1149.7543741389666,
          1149.7543741389666,
          1149.7543741389666,
          1149.7543741389666,
          1149.7543741389666,
          1149.7543741389666,
          1149.7543741389666,
          1149.7543741389666,
          1149.7543741389666,
          1149.7543741389666,
          1149.7543741389666,
          1149.7543741389666,
          1149.7543741389666,
          1151.2185385502094,
          1151.2185385502094,
          1151.2185385502094,
          1151.2185385502094,
          1151.2185385502094,
          1151.2185385502094,
          1151.2185385502094,
          1151.2185385502094,
          1152.6827029614522,
          1152.6827029614522,
          1152.6827029614522,
          1152.6827029614522,
          1152.6827029614522,
          1152.6827029614522,
          1152.6827029614522,
          1152.6827029614522,
          1152.6827029614522,
          1152.6827029614522,
          1152.6827029614522,
          1152.6827029614522,
          1152.6827029614522,
          1152.6827029614522,
          1152.6827029614522,
          1152.6827029614522,
          1152.6827029614522,
          1152.6827029614522,
          1152.6827029614522,
          1152.6827029614522,
          1152.6827029614522,
          1152.6827029614522,
          1152.6827029614522,
          1152.6827029614522,
          1152.6827029614522,
          1152.6827029614522,
          1152.6827029614522,
          1152.6827029614522,
          1152.6827029614522,
          1152.6827029614522,
          1152.6827029614522,
          1154.146867372695,
          1154.146867372695,
          1155.6110317839377,
          1155.6110317839377,
          1155.6110317839377,
          1155.6110317839377,
          1155.6110317839377,
          1155.6110317839377,
          1155.6110317839377,
          1155.6110317839377,
          1155.6110317839377,
          1155.6110317839377,
          1155.6110317839377,
          1155.6110317839377,
          1155.6110317839377,
          1155.6110317839377,
          1155.6110317839377,
          1155.6110317839377,
          1155.6110317839377,
          1155.6110317839377,
          1157.0751961951805,
          1157.0751961951805,
          1157.0751961951805,
          1157.0751961951805,
          1157.0751961951805,
          1157.0751961951805,
          1157.0751961951805,
          1157.0751961951805,
          1158.539360606423,
          1158.539360606423,
          1158.539360606423,
          1158.539360606423,
          1158.539360606423,
          1158.539360606423,
          1158.539360606423,
          1158.539360606423,
          1158.539360606423,
          1158.539360606423,
          1158.539360606423,
          1158.539360606423,
          1158.539360606423,
          1160.0035250176659,
          1160.0035250176659,
          1160.0035250176659,
          1160.0035250176659,
          1161.4676894289087,
          1161.4676894289087,
          1161.4676894289087,
          1161.4676894289087,
          1161.4676894289087,
          1161.4676894289087,
          1161.4676894289087,
          1161.4676894289087,
          1161.4676894289087,
          1161.4676894289087,
          1161.4676894289087,
          1161.4676894289087,
          1161.4676894289087,
          1162.9318538401515,
          1162.9318538401515,
          1162.9318538401515,
          1162.9318538401515,
          1162.9318538401515,
          1162.9318538401515,
          1164.3960182513943,
          1164.3960182513943,
          1164.3960182513943,
          1164.3960182513943,
          1164.3960182513943,
          1164.3960182513943,
          1164.3960182513943,
          1164.3960182513943,
          1164.3960182513943,
          1164.3960182513943,
          1164.3960182513943,
          1164.3960182513943,
          1164.3960182513943,
          1164.3960182513943,
          1164.3960182513943,
          1164.3960182513943,
          1165.860182662637,
          1165.860182662637,
          1165.860182662637,
          1165.860182662637,
          1167.3243470738798,
          1167.3243470738798,
          1167.3243470738798,
          1167.3243470738798,
          1167.3243470738798,
          1167.3243470738798,
          1167.3243470738798,
          1167.3243470738798,
          1167.3243470738798,
          1167.3243470738798,
          1167.3243470738798,
          1167.3243470738798,
          1167.3243470738798,
          1167.3243470738798,
          1167.3243470738798,
          1167.3243470738798,
          1167.3243470738798,
          1167.3243470738798,
          1168.7885114851226,
          1168.7885114851226,
          1168.7885114851226,
          1170.2526758963654,
          1170.2526758963654,
          1170.2526758963654,
          1170.2526758963654,
          1170.2526758963654,
          1170.2526758963654,
          1170.2526758963654,
          1170.2526758963654,
          1170.2526758963654,
          1170.2526758963654,
          1170.2526758963654,
          1170.2526758963654,
          1170.2526758963654,
          1170.2526758963654,
          1170.2526758963654,
          1170.2526758963654,
          1170.2526758963654,
          1171.7168403076082,
          1171.7168403076082,
          1171.7168403076082,
          1171.7168403076082,
          1171.7168403076082,
          1171.7168403076082,
          1173.181004718851,
          1173.181004718851,
          1173.181004718851,
          1173.181004718851,
          1173.181004718851,
          1173.181004718851,
          1173.181004718851,
          1173.181004718851,
          1173.181004718851,
          1173.181004718851,
          1174.6451691300936,
          1174.6451691300936,
          1174.6451691300936,
          1174.6451691300936,
          1174.6451691300936,
          1176.1093335413364,
          1176.1093335413364,
          1176.1093335413364,
          1176.1093335413364,
          1176.1093335413364,
          1176.1093335413364,
          1176.1093335413364,
          1176.1093335413364,
          1176.1093335413364,
          1176.1093335413364,
          1176.1093335413364,
          1176.1093335413364,
          1176.1093335413364,
          1176.1093335413364,
          1176.1093335413364,
          1176.1093335413364,
          1176.1093335413364,
          1176.1093335413364,
          1176.1093335413364,
          1176.1093335413364,
          1176.1093335413364,
          1176.1093335413364,
          1177.5734979525791,
          1177.5734979525791,
          1177.5734979525791,
          1177.5734979525791,
          1177.5734979525791,
          1177.5734979525791,
          1179.037662363822,
          1179.037662363822,
          1179.037662363822,
          1179.037662363822,
          1179.037662363822,
          1179.037662363822,
          1179.037662363822,
          1179.037662363822,
          1179.037662363822,
          1179.037662363822,
          1180.5018267750647,
          1180.5018267750647,
          1180.5018267750647,
          1181.9659911863075,
          1181.9659911863075,
          1181.9659911863075,
          1181.9659911863075,
          1181.9659911863075,
          1181.9659911863075,
          1181.9659911863075,
          1181.9659911863075,
          1181.9659911863075,
          1181.9659911863075,
          1181.9659911863075,
          1181.9659911863075,
          1181.9659911863075,
          1181.9659911863075,
          1181.9659911863075,
          1183.4301555975503,
          1183.4301555975503,
          1183.4301555975503,
          1183.4301555975503,
          1183.4301555975503,
          1183.4301555975503,
          1183.4301555975503,
          1183.4301555975503,
          1183.4301555975503,
          1183.4301555975503,
          1184.894320008793,
          1184.894320008793,
          1184.894320008793,
          1184.894320008793,
          1184.894320008793,
          1184.894320008793,
          1184.894320008793,
          1184.894320008793,
          1184.894320008793,
          1184.894320008793,
          1184.894320008793,
          1184.894320008793,
          1184.894320008793,
          1184.894320008793,
          1184.894320008793,
          1184.894320008793,
          1184.894320008793,
          1184.894320008793,
          1186.358484420036,
          1186.358484420036,
          1186.358484420036,
          1186.358484420036,
          1186.358484420036,
          1186.358484420036,
          1186.358484420036,
          1187.8226488312787,
          1187.8226488312787,
          1187.8226488312787,
          1187.8226488312787,
          1187.8226488312787,
          1187.8226488312787,
          1187.8226488312787,
          1187.8226488312787,
          1187.8226488312787,
          1187.8226488312787,
          1187.8226488312787,
          1187.8226488312787,
          1189.2868132425215,
          1189.2868132425215,
          1189.2868132425215,
          1189.2868132425215,
          1190.750977653764,
          1190.750977653764,
          1190.750977653764,
          1190.750977653764,
          1190.750977653764,
          1190.750977653764,
          1190.750977653764,
          1190.750977653764,
          1190.750977653764,
          1190.750977653764,
          1190.750977653764,
          1190.750977653764,
          1190.750977653764,
          1192.2151420650068,
          1192.2151420650068,
          1193.6793064762496,
          1193.6793064762496,
          1193.6793064762496,
          1193.6793064762496,
          1193.6793064762496,
          1193.6793064762496,
          1193.6793064762496,
          1193.6793064762496,
          1193.6793064762496,
          1193.6793064762496,
          1193.6793064762496,
          1193.6793064762496,
          1193.6793064762496,
          1193.6793064762496,
          1195.1434708874924,
          1195.1434708874924,
          1195.1434708874924,
          1196.6076352987352,
          1196.6076352987352,
          1196.6076352987352,
          1196.6076352987352,
          1196.6076352987352,
          1196.6076352987352,
          1196.6076352987352,
          1196.6076352987352,
          1196.6076352987352,
          1196.6076352987352,
          1196.6076352987352,
          1196.6076352987352,
          1198.071799709978,
          1198.071799709978,
          1199.5359641212208,
          1199.5359641212208,
          1199.5359641212208,
          1199.5359641212208,
          1199.5359641212208,
          1199.5359641212208,
          1201.0001285324636,
          1201.0001285324636,
          1201.0001285324636,
          1201.0001285324636,
          1201.0001285324636,
          1202.4642929437064,
          1202.4642929437064,
          1202.4642929437064,
          1202.4642929437064,
          1202.4642929437064,
          1202.4642929437064,
          1202.4642929437064,
          1202.4642929437064,
          1202.4642929437064,
          1202.4642929437064,
          1202.4642929437064,
          1202.4642929437064,
          1202.4642929437064,
          1203.9284573549492,
          1203.9284573549492,
          1203.9284573549492,
          1205.392621766192,
          1205.392621766192,
          1205.392621766192,
          1205.392621766192,
          1205.392621766192,
          1206.8567861774345,
          1206.8567861774345,
          1206.8567861774345,
          1206.8567861774345,
          1208.3209505886773,
          1208.3209505886773,
          1208.3209505886773,
          1208.3209505886773,
          1208.3209505886773,
          1208.3209505886773,
          1208.3209505886773,
          1208.3209505886773,
          1208.3209505886773,
          1208.3209505886773,
          1208.3209505886773,
          1209.78511499992,
          1209.78511499992,
          1209.78511499992,
          1209.78511499992,
          1209.78511499992,
          1209.78511499992,
          1211.249279411163,
          1211.249279411163,
          1211.249279411163,
          1211.249279411163,
          1211.249279411163,
          1212.7134438224057,
          1212.7134438224057,
          1212.7134438224057,
          1212.7134438224057,
          1212.7134438224057,
          1214.1776082336485,
          1214.1776082336485,
          1214.1776082336485,
          1214.1776082336485,
          1214.1776082336485,
          1214.1776082336485,
          1214.1776082336485,
          1214.1776082336485,
          1214.1776082336485,
          1214.1776082336485,
          1215.6417726448913,
          1215.6417726448913,
          1215.6417726448913,
          1217.105937056134,
          1217.105937056134,
          1217.105937056134,
          1217.105937056134,
          1217.105937056134,
          1217.105937056134,
          1217.105937056134,
          1217.105937056134,
          1217.105937056134,
          1217.105937056134,
          1220.0342658786194,
          1220.0342658786194,
          1220.0342658786194,
          1220.0342658786194,
          1220.0342658786194,
          1221.4984302898622,
          1221.4984302898622,
          1222.962594701105,
          1222.962594701105,
          1222.962594701105,
          1222.962594701105,
          1222.962594701105,
          1224.4267591123478,
          1224.4267591123478,
          1225.8909235235906,
          1225.8909235235906,
          1225.8909235235906,
          1225.8909235235906,
          1225.8909235235906,
          1225.8909235235906,
          1227.3550879348334,
          1227.3550879348334,
          1227.3550879348334,
          1227.3550879348334,
          1227.3550879348334,
          1228.8192523460762,
          1228.8192523460762,
          1228.8192523460762,
          1228.8192523460762,
          1228.8192523460762,
          1228.8192523460762,
          1228.8192523460762,
          1230.283416757319,
          1231.7475811685617,
          1231.7475811685617,
          1231.7475811685617,
          1231.7475811685617,
          1231.7475811685617,
          1231.7475811685617,
          1231.7475811685617,
          1231.7475811685617,
          1231.7475811685617,
          1231.7475811685617,
          1231.7475811685617,
          1231.7475811685617,
          1231.7475811685617,
          1234.6759099910473,
          1234.6759099910473,
          1234.6759099910473,
          1234.6759099910473,
          1234.6759099910473,
          1234.6759099910473,
          1234.6759099910473,
          1234.6759099910473,
          1234.6759099910473,
          1234.6759099910473,
          1236.1400744022899,
          1237.6042388135327,
          1237.6042388135327,
          1237.6042388135327,
          1237.6042388135327,
          1237.6042388135327,
          1237.6042388135327,
          1239.0684032247755,
          1239.0684032247755,
          1240.5325676360183,
          1240.5325676360183,
          1240.5325676360183,
          1240.5325676360183,
          1240.5325676360183,
          1240.5325676360183,
          1240.5325676360183,
          1240.5325676360183,
          1241.996732047261,
          1243.4608964585038,
          1243.4608964585038,
          1243.4608964585038,
          1244.9250608697466,
          1246.3892252809894,
          1246.3892252809894,
          1246.3892252809894,
          1247.8533896922322,
          1247.8533896922322,
          1247.8533896922322,
          1247.8533896922322,
          1247.8533896922322,
          1247.8533896922322,
          1247.8533896922322,
          1247.8533896922322,
          1247.8533896922322,
          1247.8533896922322,
          1247.8533896922322,
          1249.3175541034748,
          1250.7817185147178,
          1250.7817185147178,
          1250.7817185147178,
          1250.7817185147178,
          1250.7817185147178,
          1252.2458829259604,
          1253.7100473372032,
          1253.7100473372032,
          1253.7100473372032,
          1253.7100473372032,
          1255.174211748446,
          1256.6383761596887,
          1256.6383761596887,
          1256.6383761596887,
          1258.1025405709315,
          1258.1025405709315,
          1258.1025405709315,
          1259.5667049821743,
          1259.5667049821743,
          1259.5667049821743,
          1259.5667049821743,
          1259.5667049821743,
          1261.030869393417,
          1262.49503380466,
          1262.49503380466,
          1262.49503380466,
          1262.49503380466,
          1262.49503380466,
          1262.49503380466,
          1262.49503380466,
          1262.49503380466,
          1262.49503380466,
          1262.49503380466,
          1262.49503380466,
          1262.49503380466,
          1262.49503380466,
          1263.9591982159027,
          1265.4233626271453,
          1265.4233626271453,
          1265.4233626271453,
          1265.4233626271453,
          1266.8875270383883,
          1266.8875270383883,
          1266.8875270383883,
          1268.3516914496308,
          1268.3516914496308,
          1268.3516914496308,
          1268.3516914496308,
          1268.3516914496308,
          1268.3516914496308,
          1268.3516914496308,
          1269.8158558608736,
          1269.8158558608736,
          1269.8158558608736,
          1271.2800202721164,
          1271.2800202721164,
          1271.2800202721164,
          1271.2800202721164,
          1271.2800202721164,
          1271.2800202721164,
          1272.7441846833592,
          1272.7441846833592,
          1274.208349094602,
          1275.6725135058448,
          1277.1366779170876,
          1277.1366779170876,
          1277.1366779170876,
          1277.1366779170876,
          1277.1366779170876,
          1277.1366779170876,
          1277.1366779170876,
          1277.1366779170876,
          1280.0650067395732,
          1282.9933355620587,
          1282.9933355620587,
          1285.921664384544,
          1285.921664384544,
          1285.921664384544,
          1285.921664384544,
          1285.921664384544,
          1287.385828795787,
          1288.8499932070297,
          1288.8499932070297,
          1288.8499932070297,
          1288.8499932070297,
          1288.8499932070297,
          1291.7783220295153,
          1291.7783220295153,
          1294.7066508520006,
          1294.7066508520006,
          1294.7066508520006,
          1294.7066508520006,
          1296.1708152632436,
          1296.1708152632436,
          1296.1708152632436,
          1297.6349796744862,
          1297.6349796744862,
          1297.6349796744862,
          1297.6349796744862,
          1299.099144085729,
          1300.5633084969718,
          1300.5633084969718,
          1300.5633084969718,
          1300.5633084969718,
          1300.5633084969718,
          1300.5633084969718,
          1302.0274729082146,
          1302.0274729082146,
          1302.0274729082146,
          1303.4916373194574,
          1303.4916373194574,
          1303.4916373194574,
          1304.9558017307002,
          1304.9558017307002,
          1304.9558017307002,
          1304.9558017307002,
          1306.419966141943,
          1306.419966141943,
          1307.8841305531857,
          1307.8841305531857,
          1309.3482949644285,
          1309.3482949644285,
          1309.3482949644285,
          1309.3482949644285,
          1310.812459375671,
          1310.812459375671,
          1310.812459375671,
          1310.812459375671,
          1312.2766237869141,
          1312.2766237869141,
          1312.2766237869141,
          1312.2766237869141,
          1313.7407881981567,
          1315.2049526093995,
          1315.2049526093995,
          1315.2049526093995,
          1315.2049526093995,
          1316.6691170206423,
          1318.133281431885,
          1318.133281431885,
          1318.133281431885,
          1318.133281431885,
          1319.5974458431278,
          1321.0616102543706,
          1321.0616102543706,
          1323.9899390768562,
          1323.9899390768562,
          1323.9899390768562,
          1323.9899390768562,
          1323.9899390768562,
          1325.454103488099,
          1325.454103488099,
          1325.454103488099,
          1325.454103488099,
          1325.454103488099,
          1328.3824323105846,
          1328.3824323105846,
          1329.8465967218272,
          1329.8465967218272,
          1329.8465967218272,
          1331.31076113307,
          1331.31076113307,
          1332.7749255443127,
          1332.7749255443127,
          1332.7749255443127,
          1332.7749255443127,
          1334.2390899555555,
          1334.2390899555555,
          1335.7032543667983,
          1340.0957476005267,
          1341.5599120117695,
          1341.5599120117695,
          1341.5599120117695,
          1341.5599120117695,
          1344.4882408342548,
          1344.4882408342548,
          1344.4882408342548,
          1344.4882408342548,
          1344.4882408342548,
          1345.9524052454976,
          1347.4165696567404,
          1347.4165696567404,
          1347.4165696567404,
          1347.4165696567404,
          1347.4165696567404,
          1347.4165696567404,
          1348.8807340679832,
          1350.344898479226,
          1350.344898479226,
          1351.8090628904688,
          1353.2732273017116,
          1353.2732273017116,
          1357.66572053544,
          1357.66572053544,
          1359.1298849466825,
          1360.5940493579253,
          1360.5940493579253,
          1360.5940493579253,
          1363.522378180411,
          1364.9865425916537,
          1364.9865425916537,
          1366.4507070028965,
          1367.9148714141393,
          1370.8432002366249,
          1372.3073646478674,
          1375.235693470353,
          1375.235693470353,
          1375.235693470353,
          1375.235693470353,
          1375.235693470353,
          1376.6998578815958,
          1378.1640222928386,
          1378.1640222928386,
          1379.6281867040814,
          1381.0923511153242,
          1384.0206799378097,
          1388.413173171538,
          1389.877337582781,
          1389.877337582781,
          1392.8056664052663,
          1395.7339952277518,
          1395.7339952277518,
          1397.1981596389946,
          1398.6623240502374,
          1398.6623240502374,
          1398.6623240502374,
          1400.1264884614802,
          1403.0548172839658,
          1403.0548172839658,
          1404.5189816952084,
          1404.5189816952084,
          1405.9831461064512,
          1407.447310517694,
          1410.3756393401795,
          1410.3756393401795,
          1413.3039681626651,
          1413.3039681626651,
          1413.3039681626651,
          1413.3039681626651,
          1416.2322969851507,
          1416.2322969851507,
          1416.2322969851507,
          1420.6247902188788,
          1422.0889546301216,
          1422.0889546301216,
          1423.5531190413644,
          1425.0172834526072,
          1426.48144786385,
          1427.9456122750928,
          1430.8739410975784,
          1433.8022699200637,
          1435.2664343313068,
          1436.7305987425493,
          1438.194763153792,
          1439.658927565035,
          1439.658927565035,
          1439.658927565035,
          1439.658927565035,
          1442.5872563875205,
          1445.515585210006,
          1445.515585210006,
          1446.9797496212489,
          1448.4439140324916,
          1449.9080784437342,
          1451.372242854977,
          1451.372242854977,
          1451.372242854977,
          1451.372242854977,
          1454.3005716774628,
          1455.7647360887054,
          1460.1572293224337,
          1460.1572293224337,
          1466.0138869674047,
          1466.0138869674047,
          1468.9422157898903,
          1468.9422157898903,
          1468.9422157898903,
          1468.9422157898903,
          1473.3347090236186,
          1474.7988734348614,
          1476.2630378461042,
          1480.6555310798326,
          1480.6555310798326,
          1487.9763531360463,
          1487.9763531360463,
          1489.4405175472891,
          1490.904681958532,
          1499.6896684259884,
          1499.6896684259884,
          1502.617997248474,
          1504.0821616597168,
          1505.5463260709596,
          1507.0104904822024,
          1508.474654893445,
          1509.938819304688,
          1514.3313125384161,
          1514.3313125384161,
          1515.795476949659,
          1517.2596413609017,
          1520.1879701833873,
          1526.0446278283584,
          1526.0446278283584,
          1526.0446278283584,
          1528.972956650844,
          1528.972956650844,
          1534.829614295815,
          1540.686271940786,
          1540.686271940786,
          1540.686271940786,
          1543.6146007632715,
          1545.0787651745143,
          1546.542929585757,
          1546.542929585757,
          1548.0070939969999,
          1552.3995872307282,
          1555.3279160532138,
          1558.2562448756994,
          1562.6487381094275,
          1568.5053957543987,
          1569.9695601656413,
          1584.6112042780692,
          1584.6112042780692,
          1590.4678619230401,
          1596.3245195680113,
          1596.3245195680113,
          1603.6453416242252,
          1608.0378348579534,
          1612.4303280916818,
          1615.358656914167,
          1618.2869857366527,
          1618.2869857366527,
          1618.2869857366527,
          1621.2153145591383,
          1627.0719722041094,
          1627.0719722041094,
          1635.8569586715662,
          1640.2494519052943,
          1641.7136163165371,
          1647.570273961508,
          1656.3552604289648,
          1660.747753662693,
          1663.6760824851785,
          1672.4610689526353,
          1679.781891008849,
          1679.781891008849,
          1682.7102198313346,
          1742.7409606922884,
          1745.6692895147737,
          1754.4542759822302,
          1760.3109336272014,
          1770.5600845059007,
          1783.7375642070856,
          1783.7375642070856,
          1798.3792083195135,
          1815.9491812544265,
          1827.6624965443689,
          1830.5908253668545,
          1842.3041406567963,
          1842.3041406567963,
          1845.232469479282,
          1859.8741135917098,
          1884.7649085828368,
          1940.4031562100622,
          1943.3314850325473,
          1943.3314850325473,
          1956.5089647337327,
          1987.2564173698306,
          2029.7171852958709,
          2032.6455141183565,
          2088.2837617455816,
          2143.922009372807,
          2218.594394346188,
          2281.5534640296273,
          2304.9800946095115,
          2391.365794872835,
          2427.969905153904,
          2452.8607001450314,
          2542.17472923084,
          2600.741305680551,
          2630.0245939054066,
          3348.9293198256064,
          3391.390087751646,
          3654.939681775345,
          4621.288193195573
         ],
         "yaxis": "y"
        }
       ],
       "layout": {
        "legend": {
         "tracegroupgap": 0
        },
        "template": {
         "data": {
          "bar": [
           {
            "error_x": {
             "color": "#2a3f5f"
            },
            "error_y": {
             "color": "#2a3f5f"
            },
            "marker": {
             "line": {
              "color": "#E5ECF6",
              "width": 0.5
             },
             "pattern": {
              "fillmode": "overlay",
              "size": 10,
              "solidity": 0.2
             }
            },
            "type": "bar"
           }
          ],
          "barpolar": [
           {
            "marker": {
             "line": {
              "color": "#E5ECF6",
              "width": 0.5
             },
             "pattern": {
              "fillmode": "overlay",
              "size": 10,
              "solidity": 0.2
             }
            },
            "type": "barpolar"
           }
          ],
          "carpet": [
           {
            "aaxis": {
             "endlinecolor": "#2a3f5f",
             "gridcolor": "white",
             "linecolor": "white",
             "minorgridcolor": "white",
             "startlinecolor": "#2a3f5f"
            },
            "baxis": {
             "endlinecolor": "#2a3f5f",
             "gridcolor": "white",
             "linecolor": "white",
             "minorgridcolor": "white",
             "startlinecolor": "#2a3f5f"
            },
            "type": "carpet"
           }
          ],
          "choropleth": [
           {
            "colorbar": {
             "outlinewidth": 0,
             "ticks": ""
            },
            "type": "choropleth"
           }
          ],
          "contour": [
           {
            "colorbar": {
             "outlinewidth": 0,
             "ticks": ""
            },
            "colorscale": [
             [
              0,
              "#0d0887"
             ],
             [
              0.1111111111111111,
              "#46039f"
             ],
             [
              0.2222222222222222,
              "#7201a8"
             ],
             [
              0.3333333333333333,
              "#9c179e"
             ],
             [
              0.4444444444444444,
              "#bd3786"
             ],
             [
              0.5555555555555556,
              "#d8576b"
             ],
             [
              0.6666666666666666,
              "#ed7953"
             ],
             [
              0.7777777777777778,
              "#fb9f3a"
             ],
             [
              0.8888888888888888,
              "#fdca26"
             ],
             [
              1,
              "#f0f921"
             ]
            ],
            "type": "contour"
           }
          ],
          "contourcarpet": [
           {
            "colorbar": {
             "outlinewidth": 0,
             "ticks": ""
            },
            "type": "contourcarpet"
           }
          ],
          "heatmap": [
           {
            "colorbar": {
             "outlinewidth": 0,
             "ticks": ""
            },
            "colorscale": [
             [
              0,
              "#0d0887"
             ],
             [
              0.1111111111111111,
              "#46039f"
             ],
             [
              0.2222222222222222,
              "#7201a8"
             ],
             [
              0.3333333333333333,
              "#9c179e"
             ],
             [
              0.4444444444444444,
              "#bd3786"
             ],
             [
              0.5555555555555556,
              "#d8576b"
             ],
             [
              0.6666666666666666,
              "#ed7953"
             ],
             [
              0.7777777777777778,
              "#fb9f3a"
             ],
             [
              0.8888888888888888,
              "#fdca26"
             ],
             [
              1,
              "#f0f921"
             ]
            ],
            "type": "heatmap"
           }
          ],
          "heatmapgl": [
           {
            "colorbar": {
             "outlinewidth": 0,
             "ticks": ""
            },
            "colorscale": [
             [
              0,
              "#0d0887"
             ],
             [
              0.1111111111111111,
              "#46039f"
             ],
             [
              0.2222222222222222,
              "#7201a8"
             ],
             [
              0.3333333333333333,
              "#9c179e"
             ],
             [
              0.4444444444444444,
              "#bd3786"
             ],
             [
              0.5555555555555556,
              "#d8576b"
             ],
             [
              0.6666666666666666,
              "#ed7953"
             ],
             [
              0.7777777777777778,
              "#fb9f3a"
             ],
             [
              0.8888888888888888,
              "#fdca26"
             ],
             [
              1,
              "#f0f921"
             ]
            ],
            "type": "heatmapgl"
           }
          ],
          "histogram": [
           {
            "marker": {
             "pattern": {
              "fillmode": "overlay",
              "size": 10,
              "solidity": 0.2
             }
            },
            "type": "histogram"
           }
          ],
          "histogram2d": [
           {
            "colorbar": {
             "outlinewidth": 0,
             "ticks": ""
            },
            "colorscale": [
             [
              0,
              "#0d0887"
             ],
             [
              0.1111111111111111,
              "#46039f"
             ],
             [
              0.2222222222222222,
              "#7201a8"
             ],
             [
              0.3333333333333333,
              "#9c179e"
             ],
             [
              0.4444444444444444,
              "#bd3786"
             ],
             [
              0.5555555555555556,
              "#d8576b"
             ],
             [
              0.6666666666666666,
              "#ed7953"
             ],
             [
              0.7777777777777778,
              "#fb9f3a"
             ],
             [
              0.8888888888888888,
              "#fdca26"
             ],
             [
              1,
              "#f0f921"
             ]
            ],
            "type": "histogram2d"
           }
          ],
          "histogram2dcontour": [
           {
            "colorbar": {
             "outlinewidth": 0,
             "ticks": ""
            },
            "colorscale": [
             [
              0,
              "#0d0887"
             ],
             [
              0.1111111111111111,
              "#46039f"
             ],
             [
              0.2222222222222222,
              "#7201a8"
             ],
             [
              0.3333333333333333,
              "#9c179e"
             ],
             [
              0.4444444444444444,
              "#bd3786"
             ],
             [
              0.5555555555555556,
              "#d8576b"
             ],
             [
              0.6666666666666666,
              "#ed7953"
             ],
             [
              0.7777777777777778,
              "#fb9f3a"
             ],
             [
              0.8888888888888888,
              "#fdca26"
             ],
             [
              1,
              "#f0f921"
             ]
            ],
            "type": "histogram2dcontour"
           }
          ],
          "mesh3d": [
           {
            "colorbar": {
             "outlinewidth": 0,
             "ticks": ""
            },
            "type": "mesh3d"
           }
          ],
          "parcoords": [
           {
            "line": {
             "colorbar": {
              "outlinewidth": 0,
              "ticks": ""
             }
            },
            "type": "parcoords"
           }
          ],
          "pie": [
           {
            "automargin": true,
            "type": "pie"
           }
          ],
          "scatter": [
           {
            "fillpattern": {
             "fillmode": "overlay",
             "size": 10,
             "solidity": 0.2
            },
            "type": "scatter"
           }
          ],
          "scatter3d": [
           {
            "line": {
             "colorbar": {
              "outlinewidth": 0,
              "ticks": ""
             }
            },
            "marker": {
             "colorbar": {
              "outlinewidth": 0,
              "ticks": ""
             }
            },
            "type": "scatter3d"
           }
          ],
          "scattercarpet": [
           {
            "marker": {
             "colorbar": {
              "outlinewidth": 0,
              "ticks": ""
             }
            },
            "type": "scattercarpet"
           }
          ],
          "scattergeo": [
           {
            "marker": {
             "colorbar": {
              "outlinewidth": 0,
              "ticks": ""
             }
            },
            "type": "scattergeo"
           }
          ],
          "scattergl": [
           {
            "marker": {
             "colorbar": {
              "outlinewidth": 0,
              "ticks": ""
             }
            },
            "type": "scattergl"
           }
          ],
          "scattermapbox": [
           {
            "marker": {
             "colorbar": {
              "outlinewidth": 0,
              "ticks": ""
             }
            },
            "type": "scattermapbox"
           }
          ],
          "scatterpolar": [
           {
            "marker": {
             "colorbar": {
              "outlinewidth": 0,
              "ticks": ""
             }
            },
            "type": "scatterpolar"
           }
          ],
          "scatterpolargl": [
           {
            "marker": {
             "colorbar": {
              "outlinewidth": 0,
              "ticks": ""
             }
            },
            "type": "scatterpolargl"
           }
          ],
          "scatterternary": [
           {
            "marker": {
             "colorbar": {
              "outlinewidth": 0,
              "ticks": ""
             }
            },
            "type": "scatterternary"
           }
          ],
          "surface": [
           {
            "colorbar": {
             "outlinewidth": 0,
             "ticks": ""
            },
            "colorscale": [
             [
              0,
              "#0d0887"
             ],
             [
              0.1111111111111111,
              "#46039f"
             ],
             [
              0.2222222222222222,
              "#7201a8"
             ],
             [
              0.3333333333333333,
              "#9c179e"
             ],
             [
              0.4444444444444444,
              "#bd3786"
             ],
             [
              0.5555555555555556,
              "#d8576b"
             ],
             [
              0.6666666666666666,
              "#ed7953"
             ],
             [
              0.7777777777777778,
              "#fb9f3a"
             ],
             [
              0.8888888888888888,
              "#fdca26"
             ],
             [
              1,
              "#f0f921"
             ]
            ],
            "type": "surface"
           }
          ],
          "table": [
           {
            "cells": {
             "fill": {
              "color": "#EBF0F8"
             },
             "line": {
              "color": "white"
             }
            },
            "header": {
             "fill": {
              "color": "#C8D4E3"
             },
             "line": {
              "color": "white"
             }
            },
            "type": "table"
           }
          ]
         },
         "layout": {
          "annotationdefaults": {
           "arrowcolor": "#2a3f5f",
           "arrowhead": 0,
           "arrowwidth": 1
          },
          "autotypenumbers": "strict",
          "coloraxis": {
           "colorbar": {
            "outlinewidth": 0,
            "ticks": ""
           }
          },
          "colorscale": {
           "diverging": [
            [
             0,
             "#8e0152"
            ],
            [
             0.1,
             "#c51b7d"
            ],
            [
             0.2,
             "#de77ae"
            ],
            [
             0.3,
             "#f1b6da"
            ],
            [
             0.4,
             "#fde0ef"
            ],
            [
             0.5,
             "#f7f7f7"
            ],
            [
             0.6,
             "#e6f5d0"
            ],
            [
             0.7,
             "#b8e186"
            ],
            [
             0.8,
             "#7fbc41"
            ],
            [
             0.9,
             "#4d9221"
            ],
            [
             1,
             "#276419"
            ]
           ],
           "sequential": [
            [
             0,
             "#0d0887"
            ],
            [
             0.1111111111111111,
             "#46039f"
            ],
            [
             0.2222222222222222,
             "#7201a8"
            ],
            [
             0.3333333333333333,
             "#9c179e"
            ],
            [
             0.4444444444444444,
             "#bd3786"
            ],
            [
             0.5555555555555556,
             "#d8576b"
            ],
            [
             0.6666666666666666,
             "#ed7953"
            ],
            [
             0.7777777777777778,
             "#fb9f3a"
            ],
            [
             0.8888888888888888,
             "#fdca26"
            ],
            [
             1,
             "#f0f921"
            ]
           ],
           "sequentialminus": [
            [
             0,
             "#0d0887"
            ],
            [
             0.1111111111111111,
             "#46039f"
            ],
            [
             0.2222222222222222,
             "#7201a8"
            ],
            [
             0.3333333333333333,
             "#9c179e"
            ],
            [
             0.4444444444444444,
             "#bd3786"
            ],
            [
             0.5555555555555556,
             "#d8576b"
            ],
            [
             0.6666666666666666,
             "#ed7953"
            ],
            [
             0.7777777777777778,
             "#fb9f3a"
            ],
            [
             0.8888888888888888,
             "#fdca26"
            ],
            [
             1,
             "#f0f921"
            ]
           ]
          },
          "colorway": [
           "#636efa",
           "#EF553B",
           "#00cc96",
           "#ab63fa",
           "#FFA15A",
           "#19d3f3",
           "#FF6692",
           "#B6E880",
           "#FF97FF",
           "#FECB52"
          ],
          "font": {
           "color": "#2a3f5f"
          },
          "geo": {
           "bgcolor": "white",
           "lakecolor": "white",
           "landcolor": "#E5ECF6",
           "showlakes": true,
           "showland": true,
           "subunitcolor": "white"
          },
          "hoverlabel": {
           "align": "left"
          },
          "hovermode": "closest",
          "mapbox": {
           "style": "light"
          },
          "paper_bgcolor": "white",
          "plot_bgcolor": "#E5ECF6",
          "polar": {
           "angularaxis": {
            "gridcolor": "white",
            "linecolor": "white",
            "ticks": ""
           },
           "bgcolor": "#E5ECF6",
           "radialaxis": {
            "gridcolor": "white",
            "linecolor": "white",
            "ticks": ""
           }
          },
          "scene": {
           "xaxis": {
            "backgroundcolor": "#E5ECF6",
            "gridcolor": "white",
            "gridwidth": 2,
            "linecolor": "white",
            "showbackground": true,
            "ticks": "",
            "zerolinecolor": "white"
           },
           "yaxis": {
            "backgroundcolor": "#E5ECF6",
            "gridcolor": "white",
            "gridwidth": 2,
            "linecolor": "white",
            "showbackground": true,
            "ticks": "",
            "zerolinecolor": "white"
           },
           "zaxis": {
            "backgroundcolor": "#E5ECF6",
            "gridcolor": "white",
            "gridwidth": 2,
            "linecolor": "white",
            "showbackground": true,
            "ticks": "",
            "zerolinecolor": "white"
           }
          },
          "shapedefaults": {
           "line": {
            "color": "#2a3f5f"
           }
          },
          "ternary": {
           "aaxis": {
            "gridcolor": "white",
            "linecolor": "white",
            "ticks": ""
           },
           "baxis": {
            "gridcolor": "white",
            "linecolor": "white",
            "ticks": ""
           },
           "bgcolor": "#E5ECF6",
           "caxis": {
            "gridcolor": "white",
            "linecolor": "white",
            "ticks": ""
           }
          },
          "title": {
           "x": 0.05
          },
          "xaxis": {
           "automargin": true,
           "gridcolor": "white",
           "linecolor": "white",
           "ticks": "",
           "title": {
            "standoff": 15
           },
           "zerolinecolor": "white",
           "zerolinewidth": 2
          },
          "yaxis": {
           "automargin": true,
           "gridcolor": "white",
           "linecolor": "white",
           "ticks": "",
           "title": {
            "standoff": 15
           },
           "zerolinecolor": "white",
           "zerolinewidth": 2
          }
         }
        },
        "title": {
         "text": "YT Subscribers vs Comments"
        },
        "xaxis": {
         "anchor": "y",
         "domain": [
          0,
          1
         ],
         "title": {
          "text": "Subscribers"
         }
        },
        "yaxis": {
         "anchor": "x",
         "domain": [
          0,
          1
         ],
         "title": {
          "text": "Comments"
         }
        }
       }
      }
     },
     "metadata": {},
     "output_type": "display_data"
    }
   ],
   "source": [
    "px.scatter(yt, title='YT Subscribers vs Comments', x='Subscribers', y='Comments', trendline='ols', trendline_color_override=\"red\")"
   ]
  },
  {
   "cell_type": "markdown",
   "metadata": {},
   "source": [
    "## 3. Audience Study"
   ]
  },
  {
   "cell_type": "markdown",
   "metadata": {},
   "source": [
    "### 3.1 Regional Prefence for Content"
   ]
  },
  {
   "cell_type": "code",
   "execution_count": 19,
   "metadata": {},
   "outputs": [],
   "source": [
    "regional_popularity = yt_filled[['Category', 'Subscribers', 'Continent']].groupby(['Continent', 'Category']).sum().reset_index()"
   ]
  },
  {
   "cell_type": "code",
   "execution_count": 20,
   "metadata": {},
   "outputs": [],
   "source": [
    "# regional_popularity['Subscribers'] = regional_popularity['Subscribers'].apply(abbrevNum)\n",
    "regional_popularity = regional_popularity.sort_values(by=['Continent', 'Subscribers'], ascending=[True, False])"
   ]
  },
  {
   "cell_type": "code",
   "execution_count": 21,
   "metadata": {},
   "outputs": [],
   "source": [
    "regional_popularity_clean = regional_popularity\n",
    "regional_popularity_clean['Subscribers'] = regional_popularity_clean['Subscribers'].apply(abbrevNum)"
   ]
  },
  {
   "cell_type": "code",
   "execution_count": 22,
   "metadata": {},
   "outputs": [
    {
     "data": {
      "text/html": [
       "<div>\n",
       "<style scoped>\n",
       "    .dataframe tbody tr th:only-of-type {\n",
       "        vertical-align: middle;\n",
       "    }\n",
       "\n",
       "    .dataframe tbody tr th {\n",
       "        vertical-align: top;\n",
       "    }\n",
       "\n",
       "    .dataframe thead th {\n",
       "        text-align: right;\n",
       "    }\n",
       "</style>\n",
       "<table border=\"1\" class=\"dataframe\">\n",
       "  <thead>\n",
       "    <tr style=\"text-align: right;\">\n",
       "      <th></th>\n",
       "      <th>Continent</th>\n",
       "      <th>Category</th>\n",
       "      <th>Subscribers</th>\n",
       "    </tr>\n",
       "  </thead>\n",
       "  <tbody>\n",
       "    <tr>\n",
       "      <th>1</th>\n",
       "      <td>Africa</td>\n",
       "      <td>Movies</td>\n",
       "      <td>27.5M</td>\n",
       "    </tr>\n",
       "    <tr>\n",
       "      <th>3</th>\n",
       "      <td>Africa</td>\n",
       "      <td>News and Politics</td>\n",
       "      <td>25.8M</td>\n",
       "    </tr>\n",
       "    <tr>\n",
       "      <th>2</th>\n",
       "      <td>Africa</td>\n",
       "      <td>Music and dance, Movies</td>\n",
       "      <td>15.2M</td>\n",
       "    </tr>\n",
       "    <tr>\n",
       "      <th>0</th>\n",
       "      <td>Africa</td>\n",
       "      <td>Education</td>\n",
       "      <td>12.2M</td>\n",
       "    </tr>\n",
       "    <tr>\n",
       "      <th>14</th>\n",
       "      <td>Asia</td>\n",
       "      <td>Music and dance</td>\n",
       "      <td>1.77B</td>\n",
       "    </tr>\n",
       "    <tr>\n",
       "      <th>...</th>\n",
       "      <td>...</td>\n",
       "      <td>...</td>\n",
       "      <td>...</td>\n",
       "    </tr>\n",
       "    <tr>\n",
       "      <th>84</th>\n",
       "      <td>South America</td>\n",
       "      <td>Music and dance, Movies</td>\n",
       "      <td>61.2M</td>\n",
       "    </tr>\n",
       "    <tr>\n",
       "      <th>77</th>\n",
       "      <td>South America</td>\n",
       "      <td>Daily vlogs</td>\n",
       "      <td>59.0M</td>\n",
       "    </tr>\n",
       "    <tr>\n",
       "      <th>85</th>\n",
       "      <td>South America</td>\n",
       "      <td>Science and technology</td>\n",
       "      <td>39.3M</td>\n",
       "    </tr>\n",
       "    <tr>\n",
       "      <th>81</th>\n",
       "      <td>South America</td>\n",
       "      <td>Movies, Video games</td>\n",
       "      <td>20.1M</td>\n",
       "    </tr>\n",
       "    <tr>\n",
       "      <th>76</th>\n",
       "      <td>South America</td>\n",
       "      <td>Cars and vehicles</td>\n",
       "      <td>14.2M</td>\n",
       "    </tr>\n",
       "  </tbody>\n",
       "</table>\n",
       "<p>86 rows × 3 columns</p>\n",
       "</div>"
      ],
      "text/plain": [
       "        Continent                 Category Subscribers\n",
       "1          Africa                   Movies       27.5M\n",
       "3          Africa        News and Politics       25.8M\n",
       "2          Africa  Music and dance, Movies       15.2M\n",
       "0          Africa                Education       12.2M\n",
       "14           Asia          Music and dance       1.77B\n",
       "..            ...                      ...         ...\n",
       "84  South America  Music and dance, Movies       61.2M\n",
       "77  South America              Daily vlogs       59.0M\n",
       "85  South America   Science and technology       39.3M\n",
       "81  South America      Movies, Video games       20.1M\n",
       "76  South America        Cars and vehicles       14.2M\n",
       "\n",
       "[86 rows x 3 columns]"
      ]
     },
     "execution_count": 22,
     "metadata": {},
     "output_type": "execute_result"
    }
   ],
   "source": [
    "regional_popularity_clean"
   ]
  },
  {
   "cell_type": "markdown",
   "metadata": {},
   "source": [
    "## 5. Content Categories"
   ]
  },
  {
   "cell_type": "markdown",
   "metadata": {},
   "source": [
    "### 5.1 Categories With Most Visits"
   ]
  },
  {
   "cell_type": "code",
   "execution_count": 40,
   "metadata": {},
   "outputs": [
    {
     "data": {
      "text/html": [
       "<div>\n",
       "<style scoped>\n",
       "    .dataframe tbody tr th:only-of-type {\n",
       "        vertical-align: middle;\n",
       "    }\n",
       "\n",
       "    .dataframe tbody tr th {\n",
       "        vertical-align: top;\n",
       "    }\n",
       "\n",
       "    .dataframe thead th {\n",
       "        text-align: right;\n",
       "    }\n",
       "</style>\n",
       "<table border=\"1\" class=\"dataframe\">\n",
       "  <thead>\n",
       "    <tr style=\"text-align: right;\">\n",
       "      <th></th>\n",
       "      <th>Category</th>\n",
       "      <th>Visits</th>\n",
       "    </tr>\n",
       "  </thead>\n",
       "  <tbody>\n",
       "    <tr>\n",
       "      <th>0</th>\n",
       "      <td>Video games, Humor</td>\n",
       "      <td>174074500.0</td>\n",
       "    </tr>\n",
       "    <tr>\n",
       "      <th>1</th>\n",
       "      <td>Daily vlogs</td>\n",
       "      <td>124394700.0</td>\n",
       "    </tr>\n",
       "    <tr>\n",
       "      <th>2</th>\n",
       "      <td>Animation, Humor</td>\n",
       "      <td>101344000.0</td>\n",
       "    </tr>\n",
       "    <tr>\n",
       "      <th>3</th>\n",
       "      <td>Music and dance</td>\n",
       "      <td>56720000.0</td>\n",
       "    </tr>\n",
       "    <tr>\n",
       "      <th>4</th>\n",
       "      <td>Animation, Video games</td>\n",
       "      <td>40802000.0</td>\n",
       "    </tr>\n",
       "    <tr>\n",
       "      <th>5</th>\n",
       "      <td>Food and drink</td>\n",
       "      <td>32184800.0</td>\n",
       "    </tr>\n",
       "    <tr>\n",
       "      <th>6</th>\n",
       "      <td>Movies, Humor</td>\n",
       "      <td>29574300.0</td>\n",
       "    </tr>\n",
       "    <tr>\n",
       "      <th>7</th>\n",
       "      <td>Movies, Animation</td>\n",
       "      <td>29210200.0</td>\n",
       "    </tr>\n",
       "    <tr>\n",
       "      <th>8</th>\n",
       "      <td>Video games</td>\n",
       "      <td>26355600.0</td>\n",
       "    </tr>\n",
       "    <tr>\n",
       "      <th>9</th>\n",
       "      <td>Humor</td>\n",
       "      <td>23104000.0</td>\n",
       "    </tr>\n",
       "  </tbody>\n",
       "</table>\n",
       "</div>"
      ],
      "text/plain": [
       "                 Category       Visits\n",
       "0      Video games, Humor  174074500.0\n",
       "1             Daily vlogs  124394700.0\n",
       "2        Animation, Humor  101344000.0\n",
       "3         Music and dance   56720000.0\n",
       "4  Animation, Video games   40802000.0\n",
       "5          Food and drink   32184800.0\n",
       "6           Movies, Humor   29574300.0\n",
       "7       Movies, Animation   29210200.0\n",
       "8             Video games   26355600.0\n",
       "9                   Humor   23104000.0"
      ]
     },
     "execution_count": 40,
     "metadata": {},
     "output_type": "execute_result"
    }
   ],
   "source": [
    "top_categories = yt_filled[['Category', 'Visits']].groupby(by='Category').sum().sort_values(by='Visits', ascending=False)[:10].reset_index()\n",
    "# top_categories['Visits'] = top_categories['Visits'].apply(abbrevNum)\n",
    "top_categories"
   ]
  },
  {
   "cell_type": "code",
   "execution_count": 34,
   "metadata": {},
   "outputs": [
    {
     "data": {
      "application/vnd.plotly.v1+json": {
       "config": {
        "plotlyServerURL": "https://plot.ly"
       },
       "data": [
        {
         "alignmentgroup": "True",
         "hovertemplate": "Category=%{x}<br>Visits=%{y}<extra></extra>",
         "legendgroup": "",
         "marker": {
          "color": "#636efa",
          "pattern": {
           "shape": ""
          }
         },
         "name": "",
         "offsetgroup": "",
         "orientation": "v",
         "showlegend": false,
         "textposition": "auto",
         "type": "bar",
         "x": [
          "Video games, Humor",
          "Daily vlogs",
          "Animation, Humor",
          "Music and dance",
          "Animation, Video games",
          "Food and drink",
          "Movies, Humor",
          "Movies, Animation",
          "Video games",
          "Humor"
         ],
         "xaxis": "x",
         "y": [
          174074500,
          124394700,
          101344000,
          56720000,
          40802000,
          32184800,
          29574300,
          29210200,
          26355600,
          23104000
         ],
         "yaxis": "y"
        }
       ],
       "layout": {
        "barmode": "relative",
        "legend": {
         "tracegroupgap": 0
        },
        "margin": {
         "t": 60
        },
        "template": {
         "data": {
          "bar": [
           {
            "error_x": {
             "color": "#2a3f5f"
            },
            "error_y": {
             "color": "#2a3f5f"
            },
            "marker": {
             "line": {
              "color": "#E5ECF6",
              "width": 0.5
             },
             "pattern": {
              "fillmode": "overlay",
              "size": 10,
              "solidity": 0.2
             }
            },
            "type": "bar"
           }
          ],
          "barpolar": [
           {
            "marker": {
             "line": {
              "color": "#E5ECF6",
              "width": 0.5
             },
             "pattern": {
              "fillmode": "overlay",
              "size": 10,
              "solidity": 0.2
             }
            },
            "type": "barpolar"
           }
          ],
          "carpet": [
           {
            "aaxis": {
             "endlinecolor": "#2a3f5f",
             "gridcolor": "white",
             "linecolor": "white",
             "minorgridcolor": "white",
             "startlinecolor": "#2a3f5f"
            },
            "baxis": {
             "endlinecolor": "#2a3f5f",
             "gridcolor": "white",
             "linecolor": "white",
             "minorgridcolor": "white",
             "startlinecolor": "#2a3f5f"
            },
            "type": "carpet"
           }
          ],
          "choropleth": [
           {
            "colorbar": {
             "outlinewidth": 0,
             "ticks": ""
            },
            "type": "choropleth"
           }
          ],
          "contour": [
           {
            "colorbar": {
             "outlinewidth": 0,
             "ticks": ""
            },
            "colorscale": [
             [
              0,
              "#0d0887"
             ],
             [
              0.1111111111111111,
              "#46039f"
             ],
             [
              0.2222222222222222,
              "#7201a8"
             ],
             [
              0.3333333333333333,
              "#9c179e"
             ],
             [
              0.4444444444444444,
              "#bd3786"
             ],
             [
              0.5555555555555556,
              "#d8576b"
             ],
             [
              0.6666666666666666,
              "#ed7953"
             ],
             [
              0.7777777777777778,
              "#fb9f3a"
             ],
             [
              0.8888888888888888,
              "#fdca26"
             ],
             [
              1,
              "#f0f921"
             ]
            ],
            "type": "contour"
           }
          ],
          "contourcarpet": [
           {
            "colorbar": {
             "outlinewidth": 0,
             "ticks": ""
            },
            "type": "contourcarpet"
           }
          ],
          "heatmap": [
           {
            "colorbar": {
             "outlinewidth": 0,
             "ticks": ""
            },
            "colorscale": [
             [
              0,
              "#0d0887"
             ],
             [
              0.1111111111111111,
              "#46039f"
             ],
             [
              0.2222222222222222,
              "#7201a8"
             ],
             [
              0.3333333333333333,
              "#9c179e"
             ],
             [
              0.4444444444444444,
              "#bd3786"
             ],
             [
              0.5555555555555556,
              "#d8576b"
             ],
             [
              0.6666666666666666,
              "#ed7953"
             ],
             [
              0.7777777777777778,
              "#fb9f3a"
             ],
             [
              0.8888888888888888,
              "#fdca26"
             ],
             [
              1,
              "#f0f921"
             ]
            ],
            "type": "heatmap"
           }
          ],
          "heatmapgl": [
           {
            "colorbar": {
             "outlinewidth": 0,
             "ticks": ""
            },
            "colorscale": [
             [
              0,
              "#0d0887"
             ],
             [
              0.1111111111111111,
              "#46039f"
             ],
             [
              0.2222222222222222,
              "#7201a8"
             ],
             [
              0.3333333333333333,
              "#9c179e"
             ],
             [
              0.4444444444444444,
              "#bd3786"
             ],
             [
              0.5555555555555556,
              "#d8576b"
             ],
             [
              0.6666666666666666,
              "#ed7953"
             ],
             [
              0.7777777777777778,
              "#fb9f3a"
             ],
             [
              0.8888888888888888,
              "#fdca26"
             ],
             [
              1,
              "#f0f921"
             ]
            ],
            "type": "heatmapgl"
           }
          ],
          "histogram": [
           {
            "marker": {
             "pattern": {
              "fillmode": "overlay",
              "size": 10,
              "solidity": 0.2
             }
            },
            "type": "histogram"
           }
          ],
          "histogram2d": [
           {
            "colorbar": {
             "outlinewidth": 0,
             "ticks": ""
            },
            "colorscale": [
             [
              0,
              "#0d0887"
             ],
             [
              0.1111111111111111,
              "#46039f"
             ],
             [
              0.2222222222222222,
              "#7201a8"
             ],
             [
              0.3333333333333333,
              "#9c179e"
             ],
             [
              0.4444444444444444,
              "#bd3786"
             ],
             [
              0.5555555555555556,
              "#d8576b"
             ],
             [
              0.6666666666666666,
              "#ed7953"
             ],
             [
              0.7777777777777778,
              "#fb9f3a"
             ],
             [
              0.8888888888888888,
              "#fdca26"
             ],
             [
              1,
              "#f0f921"
             ]
            ],
            "type": "histogram2d"
           }
          ],
          "histogram2dcontour": [
           {
            "colorbar": {
             "outlinewidth": 0,
             "ticks": ""
            },
            "colorscale": [
             [
              0,
              "#0d0887"
             ],
             [
              0.1111111111111111,
              "#46039f"
             ],
             [
              0.2222222222222222,
              "#7201a8"
             ],
             [
              0.3333333333333333,
              "#9c179e"
             ],
             [
              0.4444444444444444,
              "#bd3786"
             ],
             [
              0.5555555555555556,
              "#d8576b"
             ],
             [
              0.6666666666666666,
              "#ed7953"
             ],
             [
              0.7777777777777778,
              "#fb9f3a"
             ],
             [
              0.8888888888888888,
              "#fdca26"
             ],
             [
              1,
              "#f0f921"
             ]
            ],
            "type": "histogram2dcontour"
           }
          ],
          "mesh3d": [
           {
            "colorbar": {
             "outlinewidth": 0,
             "ticks": ""
            },
            "type": "mesh3d"
           }
          ],
          "parcoords": [
           {
            "line": {
             "colorbar": {
              "outlinewidth": 0,
              "ticks": ""
             }
            },
            "type": "parcoords"
           }
          ],
          "pie": [
           {
            "automargin": true,
            "type": "pie"
           }
          ],
          "scatter": [
           {
            "fillpattern": {
             "fillmode": "overlay",
             "size": 10,
             "solidity": 0.2
            },
            "type": "scatter"
           }
          ],
          "scatter3d": [
           {
            "line": {
             "colorbar": {
              "outlinewidth": 0,
              "ticks": ""
             }
            },
            "marker": {
             "colorbar": {
              "outlinewidth": 0,
              "ticks": ""
             }
            },
            "type": "scatter3d"
           }
          ],
          "scattercarpet": [
           {
            "marker": {
             "colorbar": {
              "outlinewidth": 0,
              "ticks": ""
             }
            },
            "type": "scattercarpet"
           }
          ],
          "scattergeo": [
           {
            "marker": {
             "colorbar": {
              "outlinewidth": 0,
              "ticks": ""
             }
            },
            "type": "scattergeo"
           }
          ],
          "scattergl": [
           {
            "marker": {
             "colorbar": {
              "outlinewidth": 0,
              "ticks": ""
             }
            },
            "type": "scattergl"
           }
          ],
          "scattermapbox": [
           {
            "marker": {
             "colorbar": {
              "outlinewidth": 0,
              "ticks": ""
             }
            },
            "type": "scattermapbox"
           }
          ],
          "scatterpolar": [
           {
            "marker": {
             "colorbar": {
              "outlinewidth": 0,
              "ticks": ""
             }
            },
            "type": "scatterpolar"
           }
          ],
          "scatterpolargl": [
           {
            "marker": {
             "colorbar": {
              "outlinewidth": 0,
              "ticks": ""
             }
            },
            "type": "scatterpolargl"
           }
          ],
          "scatterternary": [
           {
            "marker": {
             "colorbar": {
              "outlinewidth": 0,
              "ticks": ""
             }
            },
            "type": "scatterternary"
           }
          ],
          "surface": [
           {
            "colorbar": {
             "outlinewidth": 0,
             "ticks": ""
            },
            "colorscale": [
             [
              0,
              "#0d0887"
             ],
             [
              0.1111111111111111,
              "#46039f"
             ],
             [
              0.2222222222222222,
              "#7201a8"
             ],
             [
              0.3333333333333333,
              "#9c179e"
             ],
             [
              0.4444444444444444,
              "#bd3786"
             ],
             [
              0.5555555555555556,
              "#d8576b"
             ],
             [
              0.6666666666666666,
              "#ed7953"
             ],
             [
              0.7777777777777778,
              "#fb9f3a"
             ],
             [
              0.8888888888888888,
              "#fdca26"
             ],
             [
              1,
              "#f0f921"
             ]
            ],
            "type": "surface"
           }
          ],
          "table": [
           {
            "cells": {
             "fill": {
              "color": "#EBF0F8"
             },
             "line": {
              "color": "white"
             }
            },
            "header": {
             "fill": {
              "color": "#C8D4E3"
             },
             "line": {
              "color": "white"
             }
            },
            "type": "table"
           }
          ]
         },
         "layout": {
          "annotationdefaults": {
           "arrowcolor": "#2a3f5f",
           "arrowhead": 0,
           "arrowwidth": 1
          },
          "autotypenumbers": "strict",
          "coloraxis": {
           "colorbar": {
            "outlinewidth": 0,
            "ticks": ""
           }
          },
          "colorscale": {
           "diverging": [
            [
             0,
             "#8e0152"
            ],
            [
             0.1,
             "#c51b7d"
            ],
            [
             0.2,
             "#de77ae"
            ],
            [
             0.3,
             "#f1b6da"
            ],
            [
             0.4,
             "#fde0ef"
            ],
            [
             0.5,
             "#f7f7f7"
            ],
            [
             0.6,
             "#e6f5d0"
            ],
            [
             0.7,
             "#b8e186"
            ],
            [
             0.8,
             "#7fbc41"
            ],
            [
             0.9,
             "#4d9221"
            ],
            [
             1,
             "#276419"
            ]
           ],
           "sequential": [
            [
             0,
             "#0d0887"
            ],
            [
             0.1111111111111111,
             "#46039f"
            ],
            [
             0.2222222222222222,
             "#7201a8"
            ],
            [
             0.3333333333333333,
             "#9c179e"
            ],
            [
             0.4444444444444444,
             "#bd3786"
            ],
            [
             0.5555555555555556,
             "#d8576b"
            ],
            [
             0.6666666666666666,
             "#ed7953"
            ],
            [
             0.7777777777777778,
             "#fb9f3a"
            ],
            [
             0.8888888888888888,
             "#fdca26"
            ],
            [
             1,
             "#f0f921"
            ]
           ],
           "sequentialminus": [
            [
             0,
             "#0d0887"
            ],
            [
             0.1111111111111111,
             "#46039f"
            ],
            [
             0.2222222222222222,
             "#7201a8"
            ],
            [
             0.3333333333333333,
             "#9c179e"
            ],
            [
             0.4444444444444444,
             "#bd3786"
            ],
            [
             0.5555555555555556,
             "#d8576b"
            ],
            [
             0.6666666666666666,
             "#ed7953"
            ],
            [
             0.7777777777777778,
             "#fb9f3a"
            ],
            [
             0.8888888888888888,
             "#fdca26"
            ],
            [
             1,
             "#f0f921"
            ]
           ]
          },
          "colorway": [
           "#636efa",
           "#EF553B",
           "#00cc96",
           "#ab63fa",
           "#FFA15A",
           "#19d3f3",
           "#FF6692",
           "#B6E880",
           "#FF97FF",
           "#FECB52"
          ],
          "font": {
           "color": "#2a3f5f"
          },
          "geo": {
           "bgcolor": "white",
           "lakecolor": "white",
           "landcolor": "#E5ECF6",
           "showlakes": true,
           "showland": true,
           "subunitcolor": "white"
          },
          "hoverlabel": {
           "align": "left"
          },
          "hovermode": "closest",
          "mapbox": {
           "style": "light"
          },
          "paper_bgcolor": "white",
          "plot_bgcolor": "#E5ECF6",
          "polar": {
           "angularaxis": {
            "gridcolor": "white",
            "linecolor": "white",
            "ticks": ""
           },
           "bgcolor": "#E5ECF6",
           "radialaxis": {
            "gridcolor": "white",
            "linecolor": "white",
            "ticks": ""
           }
          },
          "scene": {
           "xaxis": {
            "backgroundcolor": "#E5ECF6",
            "gridcolor": "white",
            "gridwidth": 2,
            "linecolor": "white",
            "showbackground": true,
            "ticks": "",
            "zerolinecolor": "white"
           },
           "yaxis": {
            "backgroundcolor": "#E5ECF6",
            "gridcolor": "white",
            "gridwidth": 2,
            "linecolor": "white",
            "showbackground": true,
            "ticks": "",
            "zerolinecolor": "white"
           },
           "zaxis": {
            "backgroundcolor": "#E5ECF6",
            "gridcolor": "white",
            "gridwidth": 2,
            "linecolor": "white",
            "showbackground": true,
            "ticks": "",
            "zerolinecolor": "white"
           }
          },
          "shapedefaults": {
           "line": {
            "color": "#2a3f5f"
           }
          },
          "ternary": {
           "aaxis": {
            "gridcolor": "white",
            "linecolor": "white",
            "ticks": ""
           },
           "baxis": {
            "gridcolor": "white",
            "linecolor": "white",
            "ticks": ""
           },
           "bgcolor": "#E5ECF6",
           "caxis": {
            "gridcolor": "white",
            "linecolor": "white",
            "ticks": ""
           }
          },
          "title": {
           "x": 0.05
          },
          "xaxis": {
           "automargin": true,
           "gridcolor": "white",
           "linecolor": "white",
           "ticks": "",
           "title": {
            "standoff": 15
           },
           "zerolinecolor": "white",
           "zerolinewidth": 2
          },
          "yaxis": {
           "automargin": true,
           "gridcolor": "white",
           "linecolor": "white",
           "ticks": "",
           "title": {
            "standoff": 15
           },
           "zerolinecolor": "white",
           "zerolinewidth": 2
          }
         }
        },
        "xaxis": {
         "anchor": "y",
         "domain": [
          0,
          1
         ],
         "title": {
          "text": "Category"
         }
        },
        "yaxis": {
         "anchor": "x",
         "domain": [
          0,
          1
         ],
         "title": {
          "text": "Visits"
         }
        }
       }
      }
     },
     "metadata": {},
     "output_type": "display_data"
    }
   ],
   "source": [
    "px.bar(top_categories, x='Category', y='Visits')"
   ]
  },
  {
   "cell_type": "markdown",
   "metadata": {},
   "source": [
    "### 5.2 Categories With Most Likes"
   ]
  },
  {
   "cell_type": "code",
   "execution_count": 35,
   "metadata": {},
   "outputs": [
    {
     "data": {
      "text/html": [
       "<div>\n",
       "<style scoped>\n",
       "    .dataframe tbody tr th:only-of-type {\n",
       "        vertical-align: middle;\n",
       "    }\n",
       "\n",
       "    .dataframe tbody tr th {\n",
       "        vertical-align: top;\n",
       "    }\n",
       "\n",
       "    .dataframe thead th {\n",
       "        text-align: right;\n",
       "    }\n",
       "</style>\n",
       "<table border=\"1\" class=\"dataframe\">\n",
       "  <thead>\n",
       "    <tr style=\"text-align: right;\">\n",
       "      <th></th>\n",
       "      <th>Category</th>\n",
       "      <th>Likes</th>\n",
       "    </tr>\n",
       "  </thead>\n",
       "  <tbody>\n",
       "    <tr>\n",
       "      <th>0</th>\n",
       "      <td>Video games, Humor</td>\n",
       "      <td>7148700.0</td>\n",
       "    </tr>\n",
       "    <tr>\n",
       "      <th>1</th>\n",
       "      <td>Daily vlogs</td>\n",
       "      <td>6916130.0</td>\n",
       "    </tr>\n",
       "    <tr>\n",
       "      <th>2</th>\n",
       "      <td>Animation, Humor</td>\n",
       "      <td>3932460.0</td>\n",
       "    </tr>\n",
       "    <tr>\n",
       "      <th>3</th>\n",
       "      <td>Music and dance</td>\n",
       "      <td>2752369.0</td>\n",
       "    </tr>\n",
       "    <tr>\n",
       "      <th>4</th>\n",
       "      <td>Animation, Video games</td>\n",
       "      <td>2695997.0</td>\n",
       "    </tr>\n",
       "    <tr>\n",
       "      <th>5</th>\n",
       "      <td>Humor</td>\n",
       "      <td>1699900.0</td>\n",
       "    </tr>\n",
       "    <tr>\n",
       "      <th>6</th>\n",
       "      <td>Food and drink</td>\n",
       "      <td>1542077.0</td>\n",
       "    </tr>\n",
       "    <tr>\n",
       "      <th>7</th>\n",
       "      <td>Movies, Animation</td>\n",
       "      <td>1535496.0</td>\n",
       "    </tr>\n",
       "    <tr>\n",
       "      <th>8</th>\n",
       "      <td>Movies, Humor</td>\n",
       "      <td>1347527.0</td>\n",
       "    </tr>\n",
       "    <tr>\n",
       "      <th>9</th>\n",
       "      <td>Video games</td>\n",
       "      <td>1085300.0</td>\n",
       "    </tr>\n",
       "  </tbody>\n",
       "</table>\n",
       "</div>"
      ],
      "text/plain": [
       "                 Category      Likes\n",
       "0      Video games, Humor  7148700.0\n",
       "1             Daily vlogs  6916130.0\n",
       "2        Animation, Humor  3932460.0\n",
       "3         Music and dance  2752369.0\n",
       "4  Animation, Video games  2695997.0\n",
       "5                   Humor  1699900.0\n",
       "6          Food and drink  1542077.0\n",
       "7       Movies, Animation  1535496.0\n",
       "8           Movies, Humor  1347527.0\n",
       "9             Video games  1085300.0"
      ]
     },
     "execution_count": 35,
     "metadata": {},
     "output_type": "execute_result"
    }
   ],
   "source": [
    "category_most_likes = yt_filled[['Category', 'Likes']].groupby(by='Category').sum().sort_values(by='Likes', ascending=False)[:10].reset_index()\n",
    "category_most_likes"
   ]
  },
  {
   "cell_type": "code",
   "execution_count": 36,
   "metadata": {},
   "outputs": [
    {
     "data": {
      "application/vnd.plotly.v1+json": {
       "config": {
        "plotlyServerURL": "https://plot.ly"
       },
       "data": [
        {
         "alignmentgroup": "True",
         "hovertemplate": "Category=%{x}<br>Likes=%{y}<extra></extra>",
         "legendgroup": "",
         "marker": {
          "color": "#636efa",
          "pattern": {
           "shape": ""
          }
         },
         "name": "",
         "offsetgroup": "",
         "orientation": "v",
         "showlegend": false,
         "textposition": "auto",
         "type": "bar",
         "x": [
          "Video games, Humor",
          "Daily vlogs",
          "Animation, Humor",
          "Music and dance",
          "Animation, Video games",
          "Humor",
          "Food and drink",
          "Movies, Animation",
          "Movies, Humor",
          "Video games"
         ],
         "xaxis": "x",
         "y": [
          7148700,
          6916130,
          3932460,
          2752369,
          2695997,
          1699900,
          1542077,
          1535496,
          1347527,
          1085300
         ],
         "yaxis": "y"
        }
       ],
       "layout": {
        "barmode": "relative",
        "legend": {
         "tracegroupgap": 0
        },
        "margin": {
         "t": 60
        },
        "template": {
         "data": {
          "bar": [
           {
            "error_x": {
             "color": "#2a3f5f"
            },
            "error_y": {
             "color": "#2a3f5f"
            },
            "marker": {
             "line": {
              "color": "#E5ECF6",
              "width": 0.5
             },
             "pattern": {
              "fillmode": "overlay",
              "size": 10,
              "solidity": 0.2
             }
            },
            "type": "bar"
           }
          ],
          "barpolar": [
           {
            "marker": {
             "line": {
              "color": "#E5ECF6",
              "width": 0.5
             },
             "pattern": {
              "fillmode": "overlay",
              "size": 10,
              "solidity": 0.2
             }
            },
            "type": "barpolar"
           }
          ],
          "carpet": [
           {
            "aaxis": {
             "endlinecolor": "#2a3f5f",
             "gridcolor": "white",
             "linecolor": "white",
             "minorgridcolor": "white",
             "startlinecolor": "#2a3f5f"
            },
            "baxis": {
             "endlinecolor": "#2a3f5f",
             "gridcolor": "white",
             "linecolor": "white",
             "minorgridcolor": "white",
             "startlinecolor": "#2a3f5f"
            },
            "type": "carpet"
           }
          ],
          "choropleth": [
           {
            "colorbar": {
             "outlinewidth": 0,
             "ticks": ""
            },
            "type": "choropleth"
           }
          ],
          "contour": [
           {
            "colorbar": {
             "outlinewidth": 0,
             "ticks": ""
            },
            "colorscale": [
             [
              0,
              "#0d0887"
             ],
             [
              0.1111111111111111,
              "#46039f"
             ],
             [
              0.2222222222222222,
              "#7201a8"
             ],
             [
              0.3333333333333333,
              "#9c179e"
             ],
             [
              0.4444444444444444,
              "#bd3786"
             ],
             [
              0.5555555555555556,
              "#d8576b"
             ],
             [
              0.6666666666666666,
              "#ed7953"
             ],
             [
              0.7777777777777778,
              "#fb9f3a"
             ],
             [
              0.8888888888888888,
              "#fdca26"
             ],
             [
              1,
              "#f0f921"
             ]
            ],
            "type": "contour"
           }
          ],
          "contourcarpet": [
           {
            "colorbar": {
             "outlinewidth": 0,
             "ticks": ""
            },
            "type": "contourcarpet"
           }
          ],
          "heatmap": [
           {
            "colorbar": {
             "outlinewidth": 0,
             "ticks": ""
            },
            "colorscale": [
             [
              0,
              "#0d0887"
             ],
             [
              0.1111111111111111,
              "#46039f"
             ],
             [
              0.2222222222222222,
              "#7201a8"
             ],
             [
              0.3333333333333333,
              "#9c179e"
             ],
             [
              0.4444444444444444,
              "#bd3786"
             ],
             [
              0.5555555555555556,
              "#d8576b"
             ],
             [
              0.6666666666666666,
              "#ed7953"
             ],
             [
              0.7777777777777778,
              "#fb9f3a"
             ],
             [
              0.8888888888888888,
              "#fdca26"
             ],
             [
              1,
              "#f0f921"
             ]
            ],
            "type": "heatmap"
           }
          ],
          "heatmapgl": [
           {
            "colorbar": {
             "outlinewidth": 0,
             "ticks": ""
            },
            "colorscale": [
             [
              0,
              "#0d0887"
             ],
             [
              0.1111111111111111,
              "#46039f"
             ],
             [
              0.2222222222222222,
              "#7201a8"
             ],
             [
              0.3333333333333333,
              "#9c179e"
             ],
             [
              0.4444444444444444,
              "#bd3786"
             ],
             [
              0.5555555555555556,
              "#d8576b"
             ],
             [
              0.6666666666666666,
              "#ed7953"
             ],
             [
              0.7777777777777778,
              "#fb9f3a"
             ],
             [
              0.8888888888888888,
              "#fdca26"
             ],
             [
              1,
              "#f0f921"
             ]
            ],
            "type": "heatmapgl"
           }
          ],
          "histogram": [
           {
            "marker": {
             "pattern": {
              "fillmode": "overlay",
              "size": 10,
              "solidity": 0.2
             }
            },
            "type": "histogram"
           }
          ],
          "histogram2d": [
           {
            "colorbar": {
             "outlinewidth": 0,
             "ticks": ""
            },
            "colorscale": [
             [
              0,
              "#0d0887"
             ],
             [
              0.1111111111111111,
              "#46039f"
             ],
             [
              0.2222222222222222,
              "#7201a8"
             ],
             [
              0.3333333333333333,
              "#9c179e"
             ],
             [
              0.4444444444444444,
              "#bd3786"
             ],
             [
              0.5555555555555556,
              "#d8576b"
             ],
             [
              0.6666666666666666,
              "#ed7953"
             ],
             [
              0.7777777777777778,
              "#fb9f3a"
             ],
             [
              0.8888888888888888,
              "#fdca26"
             ],
             [
              1,
              "#f0f921"
             ]
            ],
            "type": "histogram2d"
           }
          ],
          "histogram2dcontour": [
           {
            "colorbar": {
             "outlinewidth": 0,
             "ticks": ""
            },
            "colorscale": [
             [
              0,
              "#0d0887"
             ],
             [
              0.1111111111111111,
              "#46039f"
             ],
             [
              0.2222222222222222,
              "#7201a8"
             ],
             [
              0.3333333333333333,
              "#9c179e"
             ],
             [
              0.4444444444444444,
              "#bd3786"
             ],
             [
              0.5555555555555556,
              "#d8576b"
             ],
             [
              0.6666666666666666,
              "#ed7953"
             ],
             [
              0.7777777777777778,
              "#fb9f3a"
             ],
             [
              0.8888888888888888,
              "#fdca26"
             ],
             [
              1,
              "#f0f921"
             ]
            ],
            "type": "histogram2dcontour"
           }
          ],
          "mesh3d": [
           {
            "colorbar": {
             "outlinewidth": 0,
             "ticks": ""
            },
            "type": "mesh3d"
           }
          ],
          "parcoords": [
           {
            "line": {
             "colorbar": {
              "outlinewidth": 0,
              "ticks": ""
             }
            },
            "type": "parcoords"
           }
          ],
          "pie": [
           {
            "automargin": true,
            "type": "pie"
           }
          ],
          "scatter": [
           {
            "fillpattern": {
             "fillmode": "overlay",
             "size": 10,
             "solidity": 0.2
            },
            "type": "scatter"
           }
          ],
          "scatter3d": [
           {
            "line": {
             "colorbar": {
              "outlinewidth": 0,
              "ticks": ""
             }
            },
            "marker": {
             "colorbar": {
              "outlinewidth": 0,
              "ticks": ""
             }
            },
            "type": "scatter3d"
           }
          ],
          "scattercarpet": [
           {
            "marker": {
             "colorbar": {
              "outlinewidth": 0,
              "ticks": ""
             }
            },
            "type": "scattercarpet"
           }
          ],
          "scattergeo": [
           {
            "marker": {
             "colorbar": {
              "outlinewidth": 0,
              "ticks": ""
             }
            },
            "type": "scattergeo"
           }
          ],
          "scattergl": [
           {
            "marker": {
             "colorbar": {
              "outlinewidth": 0,
              "ticks": ""
             }
            },
            "type": "scattergl"
           }
          ],
          "scattermapbox": [
           {
            "marker": {
             "colorbar": {
              "outlinewidth": 0,
              "ticks": ""
             }
            },
            "type": "scattermapbox"
           }
          ],
          "scatterpolar": [
           {
            "marker": {
             "colorbar": {
              "outlinewidth": 0,
              "ticks": ""
             }
            },
            "type": "scatterpolar"
           }
          ],
          "scatterpolargl": [
           {
            "marker": {
             "colorbar": {
              "outlinewidth": 0,
              "ticks": ""
             }
            },
            "type": "scatterpolargl"
           }
          ],
          "scatterternary": [
           {
            "marker": {
             "colorbar": {
              "outlinewidth": 0,
              "ticks": ""
             }
            },
            "type": "scatterternary"
           }
          ],
          "surface": [
           {
            "colorbar": {
             "outlinewidth": 0,
             "ticks": ""
            },
            "colorscale": [
             [
              0,
              "#0d0887"
             ],
             [
              0.1111111111111111,
              "#46039f"
             ],
             [
              0.2222222222222222,
              "#7201a8"
             ],
             [
              0.3333333333333333,
              "#9c179e"
             ],
             [
              0.4444444444444444,
              "#bd3786"
             ],
             [
              0.5555555555555556,
              "#d8576b"
             ],
             [
              0.6666666666666666,
              "#ed7953"
             ],
             [
              0.7777777777777778,
              "#fb9f3a"
             ],
             [
              0.8888888888888888,
              "#fdca26"
             ],
             [
              1,
              "#f0f921"
             ]
            ],
            "type": "surface"
           }
          ],
          "table": [
           {
            "cells": {
             "fill": {
              "color": "#EBF0F8"
             },
             "line": {
              "color": "white"
             }
            },
            "header": {
             "fill": {
              "color": "#C8D4E3"
             },
             "line": {
              "color": "white"
             }
            },
            "type": "table"
           }
          ]
         },
         "layout": {
          "annotationdefaults": {
           "arrowcolor": "#2a3f5f",
           "arrowhead": 0,
           "arrowwidth": 1
          },
          "autotypenumbers": "strict",
          "coloraxis": {
           "colorbar": {
            "outlinewidth": 0,
            "ticks": ""
           }
          },
          "colorscale": {
           "diverging": [
            [
             0,
             "#8e0152"
            ],
            [
             0.1,
             "#c51b7d"
            ],
            [
             0.2,
             "#de77ae"
            ],
            [
             0.3,
             "#f1b6da"
            ],
            [
             0.4,
             "#fde0ef"
            ],
            [
             0.5,
             "#f7f7f7"
            ],
            [
             0.6,
             "#e6f5d0"
            ],
            [
             0.7,
             "#b8e186"
            ],
            [
             0.8,
             "#7fbc41"
            ],
            [
             0.9,
             "#4d9221"
            ],
            [
             1,
             "#276419"
            ]
           ],
           "sequential": [
            [
             0,
             "#0d0887"
            ],
            [
             0.1111111111111111,
             "#46039f"
            ],
            [
             0.2222222222222222,
             "#7201a8"
            ],
            [
             0.3333333333333333,
             "#9c179e"
            ],
            [
             0.4444444444444444,
             "#bd3786"
            ],
            [
             0.5555555555555556,
             "#d8576b"
            ],
            [
             0.6666666666666666,
             "#ed7953"
            ],
            [
             0.7777777777777778,
             "#fb9f3a"
            ],
            [
             0.8888888888888888,
             "#fdca26"
            ],
            [
             1,
             "#f0f921"
            ]
           ],
           "sequentialminus": [
            [
             0,
             "#0d0887"
            ],
            [
             0.1111111111111111,
             "#46039f"
            ],
            [
             0.2222222222222222,
             "#7201a8"
            ],
            [
             0.3333333333333333,
             "#9c179e"
            ],
            [
             0.4444444444444444,
             "#bd3786"
            ],
            [
             0.5555555555555556,
             "#d8576b"
            ],
            [
             0.6666666666666666,
             "#ed7953"
            ],
            [
             0.7777777777777778,
             "#fb9f3a"
            ],
            [
             0.8888888888888888,
             "#fdca26"
            ],
            [
             1,
             "#f0f921"
            ]
           ]
          },
          "colorway": [
           "#636efa",
           "#EF553B",
           "#00cc96",
           "#ab63fa",
           "#FFA15A",
           "#19d3f3",
           "#FF6692",
           "#B6E880",
           "#FF97FF",
           "#FECB52"
          ],
          "font": {
           "color": "#2a3f5f"
          },
          "geo": {
           "bgcolor": "white",
           "lakecolor": "white",
           "landcolor": "#E5ECF6",
           "showlakes": true,
           "showland": true,
           "subunitcolor": "white"
          },
          "hoverlabel": {
           "align": "left"
          },
          "hovermode": "closest",
          "mapbox": {
           "style": "light"
          },
          "paper_bgcolor": "white",
          "plot_bgcolor": "#E5ECF6",
          "polar": {
           "angularaxis": {
            "gridcolor": "white",
            "linecolor": "white",
            "ticks": ""
           },
           "bgcolor": "#E5ECF6",
           "radialaxis": {
            "gridcolor": "white",
            "linecolor": "white",
            "ticks": ""
           }
          },
          "scene": {
           "xaxis": {
            "backgroundcolor": "#E5ECF6",
            "gridcolor": "white",
            "gridwidth": 2,
            "linecolor": "white",
            "showbackground": true,
            "ticks": "",
            "zerolinecolor": "white"
           },
           "yaxis": {
            "backgroundcolor": "#E5ECF6",
            "gridcolor": "white",
            "gridwidth": 2,
            "linecolor": "white",
            "showbackground": true,
            "ticks": "",
            "zerolinecolor": "white"
           },
           "zaxis": {
            "backgroundcolor": "#E5ECF6",
            "gridcolor": "white",
            "gridwidth": 2,
            "linecolor": "white",
            "showbackground": true,
            "ticks": "",
            "zerolinecolor": "white"
           }
          },
          "shapedefaults": {
           "line": {
            "color": "#2a3f5f"
           }
          },
          "ternary": {
           "aaxis": {
            "gridcolor": "white",
            "linecolor": "white",
            "ticks": ""
           },
           "baxis": {
            "gridcolor": "white",
            "linecolor": "white",
            "ticks": ""
           },
           "bgcolor": "#E5ECF6",
           "caxis": {
            "gridcolor": "white",
            "linecolor": "white",
            "ticks": ""
           }
          },
          "title": {
           "x": 0.05
          },
          "xaxis": {
           "automargin": true,
           "gridcolor": "white",
           "linecolor": "white",
           "ticks": "",
           "title": {
            "standoff": 15
           },
           "zerolinecolor": "white",
           "zerolinewidth": 2
          },
          "yaxis": {
           "automargin": true,
           "gridcolor": "white",
           "linecolor": "white",
           "ticks": "",
           "title": {
            "standoff": 15
           },
           "zerolinecolor": "white",
           "zerolinewidth": 2
          }
         }
        },
        "xaxis": {
         "anchor": "y",
         "domain": [
          0,
          1
         ],
         "title": {
          "text": "Category"
         }
        },
        "yaxis": {
         "anchor": "x",
         "domain": [
          0,
          1
         ],
         "title": {
          "text": "Likes"
         }
        }
       }
      }
     },
     "metadata": {},
     "output_type": "display_data"
    }
   ],
   "source": [
    "px.bar(category_most_likes, x='Category', y='Likes')"
   ]
  },
  {
   "cell_type": "markdown",
   "metadata": {},
   "source": [
    "### 5.3 Categories With Most Comments"
   ]
  },
  {
   "cell_type": "code",
   "execution_count": 37,
   "metadata": {},
   "outputs": [
    {
     "data": {
      "text/html": [
       "<div>\n",
       "<style scoped>\n",
       "    .dataframe tbody tr th:only-of-type {\n",
       "        vertical-align: middle;\n",
       "    }\n",
       "\n",
       "    .dataframe tbody tr th {\n",
       "        vertical-align: top;\n",
       "    }\n",
       "\n",
       "    .dataframe thead th {\n",
       "        text-align: right;\n",
       "    }\n",
       "</style>\n",
       "<table border=\"1\" class=\"dataframe\">\n",
       "  <thead>\n",
       "    <tr style=\"text-align: right;\">\n",
       "      <th></th>\n",
       "      <th>Category</th>\n",
       "      <th>Comments</th>\n",
       "    </tr>\n",
       "  </thead>\n",
       "  <tbody>\n",
       "    <tr>\n",
       "      <th>0</th>\n",
       "      <td>Music and dance</td>\n",
       "      <td>319554.0</td>\n",
       "    </tr>\n",
       "    <tr>\n",
       "      <th>1</th>\n",
       "      <td>Animation, Humor</td>\n",
       "      <td>144040.0</td>\n",
       "    </tr>\n",
       "    <tr>\n",
       "      <th>2</th>\n",
       "      <td>Animation, Video games</td>\n",
       "      <td>128745.0</td>\n",
       "    </tr>\n",
       "    <tr>\n",
       "      <th>3</th>\n",
       "      <td>Video games, Humor</td>\n",
       "      <td>82060.0</td>\n",
       "    </tr>\n",
       "    <tr>\n",
       "      <th>4</th>\n",
       "      <td>Humor</td>\n",
       "      <td>51598.0</td>\n",
       "    </tr>\n",
       "    <tr>\n",
       "      <th>5</th>\n",
       "      <td>Movies, Animation</td>\n",
       "      <td>39190.0</td>\n",
       "    </tr>\n",
       "    <tr>\n",
       "      <th>6</th>\n",
       "      <td>Education</td>\n",
       "      <td>36894.0</td>\n",
       "    </tr>\n",
       "    <tr>\n",
       "      <th>7</th>\n",
       "      <td>Food and drink</td>\n",
       "      <td>36641.0</td>\n",
       "    </tr>\n",
       "    <tr>\n",
       "      <th>8</th>\n",
       "      <td>Daily vlogs</td>\n",
       "      <td>36252.0</td>\n",
       "    </tr>\n",
       "    <tr>\n",
       "      <th>9</th>\n",
       "      <td>Movies, Humor</td>\n",
       "      <td>34082.0</td>\n",
       "    </tr>\n",
       "  </tbody>\n",
       "</table>\n",
       "</div>"
      ],
      "text/plain": [
       "                 Category  Comments\n",
       "0         Music and dance  319554.0\n",
       "1        Animation, Humor  144040.0\n",
       "2  Animation, Video games  128745.0\n",
       "3      Video games, Humor   82060.0\n",
       "4                   Humor   51598.0\n",
       "5       Movies, Animation   39190.0\n",
       "6               Education   36894.0\n",
       "7          Food and drink   36641.0\n",
       "8             Daily vlogs   36252.0\n",
       "9           Movies, Humor   34082.0"
      ]
     },
     "execution_count": 37,
     "metadata": {},
     "output_type": "execute_result"
    }
   ],
   "source": [
    "category_most_comments = yt_filled[['Category', 'Comments']].groupby(by='Category').sum().sort_values(by='Comments', ascending=False)[:10].reset_index()\n",
    "category_most_comments"
   ]
  },
  {
   "cell_type": "code",
   "execution_count": 38,
   "metadata": {},
   "outputs": [
    {
     "data": {
      "application/vnd.plotly.v1+json": {
       "config": {
        "plotlyServerURL": "https://plot.ly"
       },
       "data": [
        {
         "alignmentgroup": "True",
         "hovertemplate": "Category=%{x}<br>Comments=%{y}<extra></extra>",
         "legendgroup": "",
         "marker": {
          "color": "#636efa",
          "pattern": {
           "shape": ""
          }
         },
         "name": "",
         "offsetgroup": "",
         "orientation": "v",
         "showlegend": false,
         "textposition": "auto",
         "type": "bar",
         "x": [
          "Music and dance",
          "Animation, Humor",
          "Animation, Video games",
          "Video games, Humor",
          "Humor",
          "Movies, Animation",
          "Education",
          "Food and drink",
          "Daily vlogs",
          "Movies, Humor"
         ],
         "xaxis": "x",
         "y": [
          319554,
          144040,
          128745,
          82060,
          51598,
          39190,
          36894,
          36641,
          36252,
          34082
         ],
         "yaxis": "y"
        }
       ],
       "layout": {
        "barmode": "relative",
        "legend": {
         "tracegroupgap": 0
        },
        "margin": {
         "t": 60
        },
        "template": {
         "data": {
          "bar": [
           {
            "error_x": {
             "color": "#2a3f5f"
            },
            "error_y": {
             "color": "#2a3f5f"
            },
            "marker": {
             "line": {
              "color": "#E5ECF6",
              "width": 0.5
             },
             "pattern": {
              "fillmode": "overlay",
              "size": 10,
              "solidity": 0.2
             }
            },
            "type": "bar"
           }
          ],
          "barpolar": [
           {
            "marker": {
             "line": {
              "color": "#E5ECF6",
              "width": 0.5
             },
             "pattern": {
              "fillmode": "overlay",
              "size": 10,
              "solidity": 0.2
             }
            },
            "type": "barpolar"
           }
          ],
          "carpet": [
           {
            "aaxis": {
             "endlinecolor": "#2a3f5f",
             "gridcolor": "white",
             "linecolor": "white",
             "minorgridcolor": "white",
             "startlinecolor": "#2a3f5f"
            },
            "baxis": {
             "endlinecolor": "#2a3f5f",
             "gridcolor": "white",
             "linecolor": "white",
             "minorgridcolor": "white",
             "startlinecolor": "#2a3f5f"
            },
            "type": "carpet"
           }
          ],
          "choropleth": [
           {
            "colorbar": {
             "outlinewidth": 0,
             "ticks": ""
            },
            "type": "choropleth"
           }
          ],
          "contour": [
           {
            "colorbar": {
             "outlinewidth": 0,
             "ticks": ""
            },
            "colorscale": [
             [
              0,
              "#0d0887"
             ],
             [
              0.1111111111111111,
              "#46039f"
             ],
             [
              0.2222222222222222,
              "#7201a8"
             ],
             [
              0.3333333333333333,
              "#9c179e"
             ],
             [
              0.4444444444444444,
              "#bd3786"
             ],
             [
              0.5555555555555556,
              "#d8576b"
             ],
             [
              0.6666666666666666,
              "#ed7953"
             ],
             [
              0.7777777777777778,
              "#fb9f3a"
             ],
             [
              0.8888888888888888,
              "#fdca26"
             ],
             [
              1,
              "#f0f921"
             ]
            ],
            "type": "contour"
           }
          ],
          "contourcarpet": [
           {
            "colorbar": {
             "outlinewidth": 0,
             "ticks": ""
            },
            "type": "contourcarpet"
           }
          ],
          "heatmap": [
           {
            "colorbar": {
             "outlinewidth": 0,
             "ticks": ""
            },
            "colorscale": [
             [
              0,
              "#0d0887"
             ],
             [
              0.1111111111111111,
              "#46039f"
             ],
             [
              0.2222222222222222,
              "#7201a8"
             ],
             [
              0.3333333333333333,
              "#9c179e"
             ],
             [
              0.4444444444444444,
              "#bd3786"
             ],
             [
              0.5555555555555556,
              "#d8576b"
             ],
             [
              0.6666666666666666,
              "#ed7953"
             ],
             [
              0.7777777777777778,
              "#fb9f3a"
             ],
             [
              0.8888888888888888,
              "#fdca26"
             ],
             [
              1,
              "#f0f921"
             ]
            ],
            "type": "heatmap"
           }
          ],
          "heatmapgl": [
           {
            "colorbar": {
             "outlinewidth": 0,
             "ticks": ""
            },
            "colorscale": [
             [
              0,
              "#0d0887"
             ],
             [
              0.1111111111111111,
              "#46039f"
             ],
             [
              0.2222222222222222,
              "#7201a8"
             ],
             [
              0.3333333333333333,
              "#9c179e"
             ],
             [
              0.4444444444444444,
              "#bd3786"
             ],
             [
              0.5555555555555556,
              "#d8576b"
             ],
             [
              0.6666666666666666,
              "#ed7953"
             ],
             [
              0.7777777777777778,
              "#fb9f3a"
             ],
             [
              0.8888888888888888,
              "#fdca26"
             ],
             [
              1,
              "#f0f921"
             ]
            ],
            "type": "heatmapgl"
           }
          ],
          "histogram": [
           {
            "marker": {
             "pattern": {
              "fillmode": "overlay",
              "size": 10,
              "solidity": 0.2
             }
            },
            "type": "histogram"
           }
          ],
          "histogram2d": [
           {
            "colorbar": {
             "outlinewidth": 0,
             "ticks": ""
            },
            "colorscale": [
             [
              0,
              "#0d0887"
             ],
             [
              0.1111111111111111,
              "#46039f"
             ],
             [
              0.2222222222222222,
              "#7201a8"
             ],
             [
              0.3333333333333333,
              "#9c179e"
             ],
             [
              0.4444444444444444,
              "#bd3786"
             ],
             [
              0.5555555555555556,
              "#d8576b"
             ],
             [
              0.6666666666666666,
              "#ed7953"
             ],
             [
              0.7777777777777778,
              "#fb9f3a"
             ],
             [
              0.8888888888888888,
              "#fdca26"
             ],
             [
              1,
              "#f0f921"
             ]
            ],
            "type": "histogram2d"
           }
          ],
          "histogram2dcontour": [
           {
            "colorbar": {
             "outlinewidth": 0,
             "ticks": ""
            },
            "colorscale": [
             [
              0,
              "#0d0887"
             ],
             [
              0.1111111111111111,
              "#46039f"
             ],
             [
              0.2222222222222222,
              "#7201a8"
             ],
             [
              0.3333333333333333,
              "#9c179e"
             ],
             [
              0.4444444444444444,
              "#bd3786"
             ],
             [
              0.5555555555555556,
              "#d8576b"
             ],
             [
              0.6666666666666666,
              "#ed7953"
             ],
             [
              0.7777777777777778,
              "#fb9f3a"
             ],
             [
              0.8888888888888888,
              "#fdca26"
             ],
             [
              1,
              "#f0f921"
             ]
            ],
            "type": "histogram2dcontour"
           }
          ],
          "mesh3d": [
           {
            "colorbar": {
             "outlinewidth": 0,
             "ticks": ""
            },
            "type": "mesh3d"
           }
          ],
          "parcoords": [
           {
            "line": {
             "colorbar": {
              "outlinewidth": 0,
              "ticks": ""
             }
            },
            "type": "parcoords"
           }
          ],
          "pie": [
           {
            "automargin": true,
            "type": "pie"
           }
          ],
          "scatter": [
           {
            "fillpattern": {
             "fillmode": "overlay",
             "size": 10,
             "solidity": 0.2
            },
            "type": "scatter"
           }
          ],
          "scatter3d": [
           {
            "line": {
             "colorbar": {
              "outlinewidth": 0,
              "ticks": ""
             }
            },
            "marker": {
             "colorbar": {
              "outlinewidth": 0,
              "ticks": ""
             }
            },
            "type": "scatter3d"
           }
          ],
          "scattercarpet": [
           {
            "marker": {
             "colorbar": {
              "outlinewidth": 0,
              "ticks": ""
             }
            },
            "type": "scattercarpet"
           }
          ],
          "scattergeo": [
           {
            "marker": {
             "colorbar": {
              "outlinewidth": 0,
              "ticks": ""
             }
            },
            "type": "scattergeo"
           }
          ],
          "scattergl": [
           {
            "marker": {
             "colorbar": {
              "outlinewidth": 0,
              "ticks": ""
             }
            },
            "type": "scattergl"
           }
          ],
          "scattermapbox": [
           {
            "marker": {
             "colorbar": {
              "outlinewidth": 0,
              "ticks": ""
             }
            },
            "type": "scattermapbox"
           }
          ],
          "scatterpolar": [
           {
            "marker": {
             "colorbar": {
              "outlinewidth": 0,
              "ticks": ""
             }
            },
            "type": "scatterpolar"
           }
          ],
          "scatterpolargl": [
           {
            "marker": {
             "colorbar": {
              "outlinewidth": 0,
              "ticks": ""
             }
            },
            "type": "scatterpolargl"
           }
          ],
          "scatterternary": [
           {
            "marker": {
             "colorbar": {
              "outlinewidth": 0,
              "ticks": ""
             }
            },
            "type": "scatterternary"
           }
          ],
          "surface": [
           {
            "colorbar": {
             "outlinewidth": 0,
             "ticks": ""
            },
            "colorscale": [
             [
              0,
              "#0d0887"
             ],
             [
              0.1111111111111111,
              "#46039f"
             ],
             [
              0.2222222222222222,
              "#7201a8"
             ],
             [
              0.3333333333333333,
              "#9c179e"
             ],
             [
              0.4444444444444444,
              "#bd3786"
             ],
             [
              0.5555555555555556,
              "#d8576b"
             ],
             [
              0.6666666666666666,
              "#ed7953"
             ],
             [
              0.7777777777777778,
              "#fb9f3a"
             ],
             [
              0.8888888888888888,
              "#fdca26"
             ],
             [
              1,
              "#f0f921"
             ]
            ],
            "type": "surface"
           }
          ],
          "table": [
           {
            "cells": {
             "fill": {
              "color": "#EBF0F8"
             },
             "line": {
              "color": "white"
             }
            },
            "header": {
             "fill": {
              "color": "#C8D4E3"
             },
             "line": {
              "color": "white"
             }
            },
            "type": "table"
           }
          ]
         },
         "layout": {
          "annotationdefaults": {
           "arrowcolor": "#2a3f5f",
           "arrowhead": 0,
           "arrowwidth": 1
          },
          "autotypenumbers": "strict",
          "coloraxis": {
           "colorbar": {
            "outlinewidth": 0,
            "ticks": ""
           }
          },
          "colorscale": {
           "diverging": [
            [
             0,
             "#8e0152"
            ],
            [
             0.1,
             "#c51b7d"
            ],
            [
             0.2,
             "#de77ae"
            ],
            [
             0.3,
             "#f1b6da"
            ],
            [
             0.4,
             "#fde0ef"
            ],
            [
             0.5,
             "#f7f7f7"
            ],
            [
             0.6,
             "#e6f5d0"
            ],
            [
             0.7,
             "#b8e186"
            ],
            [
             0.8,
             "#7fbc41"
            ],
            [
             0.9,
             "#4d9221"
            ],
            [
             1,
             "#276419"
            ]
           ],
           "sequential": [
            [
             0,
             "#0d0887"
            ],
            [
             0.1111111111111111,
             "#46039f"
            ],
            [
             0.2222222222222222,
             "#7201a8"
            ],
            [
             0.3333333333333333,
             "#9c179e"
            ],
            [
             0.4444444444444444,
             "#bd3786"
            ],
            [
             0.5555555555555556,
             "#d8576b"
            ],
            [
             0.6666666666666666,
             "#ed7953"
            ],
            [
             0.7777777777777778,
             "#fb9f3a"
            ],
            [
             0.8888888888888888,
             "#fdca26"
            ],
            [
             1,
             "#f0f921"
            ]
           ],
           "sequentialminus": [
            [
             0,
             "#0d0887"
            ],
            [
             0.1111111111111111,
             "#46039f"
            ],
            [
             0.2222222222222222,
             "#7201a8"
            ],
            [
             0.3333333333333333,
             "#9c179e"
            ],
            [
             0.4444444444444444,
             "#bd3786"
            ],
            [
             0.5555555555555556,
             "#d8576b"
            ],
            [
             0.6666666666666666,
             "#ed7953"
            ],
            [
             0.7777777777777778,
             "#fb9f3a"
            ],
            [
             0.8888888888888888,
             "#fdca26"
            ],
            [
             1,
             "#f0f921"
            ]
           ]
          },
          "colorway": [
           "#636efa",
           "#EF553B",
           "#00cc96",
           "#ab63fa",
           "#FFA15A",
           "#19d3f3",
           "#FF6692",
           "#B6E880",
           "#FF97FF",
           "#FECB52"
          ],
          "font": {
           "color": "#2a3f5f"
          },
          "geo": {
           "bgcolor": "white",
           "lakecolor": "white",
           "landcolor": "#E5ECF6",
           "showlakes": true,
           "showland": true,
           "subunitcolor": "white"
          },
          "hoverlabel": {
           "align": "left"
          },
          "hovermode": "closest",
          "mapbox": {
           "style": "light"
          },
          "paper_bgcolor": "white",
          "plot_bgcolor": "#E5ECF6",
          "polar": {
           "angularaxis": {
            "gridcolor": "white",
            "linecolor": "white",
            "ticks": ""
           },
           "bgcolor": "#E5ECF6",
           "radialaxis": {
            "gridcolor": "white",
            "linecolor": "white",
            "ticks": ""
           }
          },
          "scene": {
           "xaxis": {
            "backgroundcolor": "#E5ECF6",
            "gridcolor": "white",
            "gridwidth": 2,
            "linecolor": "white",
            "showbackground": true,
            "ticks": "",
            "zerolinecolor": "white"
           },
           "yaxis": {
            "backgroundcolor": "#E5ECF6",
            "gridcolor": "white",
            "gridwidth": 2,
            "linecolor": "white",
            "showbackground": true,
            "ticks": "",
            "zerolinecolor": "white"
           },
           "zaxis": {
            "backgroundcolor": "#E5ECF6",
            "gridcolor": "white",
            "gridwidth": 2,
            "linecolor": "white",
            "showbackground": true,
            "ticks": "",
            "zerolinecolor": "white"
           }
          },
          "shapedefaults": {
           "line": {
            "color": "#2a3f5f"
           }
          },
          "ternary": {
           "aaxis": {
            "gridcolor": "white",
            "linecolor": "white",
            "ticks": ""
           },
           "baxis": {
            "gridcolor": "white",
            "linecolor": "white",
            "ticks": ""
           },
           "bgcolor": "#E5ECF6",
           "caxis": {
            "gridcolor": "white",
            "linecolor": "white",
            "ticks": ""
           }
          },
          "title": {
           "x": 0.05
          },
          "xaxis": {
           "automargin": true,
           "gridcolor": "white",
           "linecolor": "white",
           "ticks": "",
           "title": {
            "standoff": 15
           },
           "zerolinecolor": "white",
           "zerolinewidth": 2
          },
          "yaxis": {
           "automargin": true,
           "gridcolor": "white",
           "linecolor": "white",
           "ticks": "",
           "title": {
            "standoff": 15
           },
           "zerolinecolor": "white",
           "zerolinewidth": 2
          }
         }
        },
        "xaxis": {
         "anchor": "y",
         "domain": [
          0,
          1
         ],
         "title": {
          "text": "Category"
         }
        },
        "yaxis": {
         "anchor": "x",
         "domain": [
          0,
          1
         ],
         "title": {
          "text": "Comments"
         }
        }
       }
      }
     },
     "metadata": {},
     "output_type": "display_data"
    }
   ],
   "source": [
    "px.bar(category_most_comments, x='Category', y='Comments')"
   ]
  },
  {
   "cell_type": "code",
   "execution_count": null,
   "metadata": {},
   "outputs": [],
   "source": []
  },
  {
   "cell_type": "markdown",
   "metadata": {},
   "source": [
    "## 6. Benchmarking"
   ]
  },
  {
   "cell_type": "markdown",
   "metadata": {},
   "source": [
    "### 6.1 Streamer With Most Subscribers"
   ]
  },
  {
   "cell_type": "code",
   "execution_count": 42,
   "metadata": {},
   "outputs": [
    {
     "data": {
      "text/html": [
       "<div>\n",
       "<style scoped>\n",
       "    .dataframe tbody tr th:only-of-type {\n",
       "        vertical-align: middle;\n",
       "    }\n",
       "\n",
       "    .dataframe tbody tr th {\n",
       "        vertical-align: top;\n",
       "    }\n",
       "\n",
       "    .dataframe thead th {\n",
       "        text-align: right;\n",
       "    }\n",
       "</style>\n",
       "<table border=\"1\" class=\"dataframe\">\n",
       "  <thead>\n",
       "    <tr style=\"text-align: right;\">\n",
       "      <th></th>\n",
       "      <th>Username</th>\n",
       "      <th>Subscribers</th>\n",
       "    </tr>\n",
       "  </thead>\n",
       "  <tbody>\n",
       "    <tr>\n",
       "      <th>0</th>\n",
       "      <td>tseries</td>\n",
       "      <td>249500000.0</td>\n",
       "    </tr>\n",
       "    <tr>\n",
       "      <th>1</th>\n",
       "      <td>MrBeast</td>\n",
       "      <td>183500000.0</td>\n",
       "    </tr>\n",
       "    <tr>\n",
       "      <th>2</th>\n",
       "      <td>CoComelon</td>\n",
       "      <td>165500000.0</td>\n",
       "    </tr>\n",
       "    <tr>\n",
       "      <th>3</th>\n",
       "      <td>SETIndia</td>\n",
       "      <td>162600000.0</td>\n",
       "    </tr>\n",
       "    <tr>\n",
       "      <th>4</th>\n",
       "      <td>KidsDianaShow</td>\n",
       "      <td>113500000.0</td>\n",
       "    </tr>\n",
       "    <tr>\n",
       "      <th>5</th>\n",
       "      <td>PewDiePie</td>\n",
       "      <td>111500000.0</td>\n",
       "    </tr>\n",
       "    <tr>\n",
       "      <th>6</th>\n",
       "      <td>LikeNastyaofficial</td>\n",
       "      <td>107500000.0</td>\n",
       "    </tr>\n",
       "    <tr>\n",
       "      <th>7</th>\n",
       "      <td>VladandNiki</td>\n",
       "      <td>101400000.0</td>\n",
       "    </tr>\n",
       "    <tr>\n",
       "      <th>8</th>\n",
       "      <td>zeemusiccompany</td>\n",
       "      <td>99700000.0</td>\n",
       "    </tr>\n",
       "    <tr>\n",
       "      <th>9</th>\n",
       "      <td>WWE</td>\n",
       "      <td>97200000.0</td>\n",
       "    </tr>\n",
       "  </tbody>\n",
       "</table>\n",
       "</div>"
      ],
      "text/plain": [
       "             Username  Subscribers\n",
       "0             tseries  249500000.0\n",
       "1             MrBeast  183500000.0\n",
       "2           CoComelon  165500000.0\n",
       "3            SETIndia  162600000.0\n",
       "4       KidsDianaShow  113500000.0\n",
       "5           PewDiePie  111500000.0\n",
       "6  LikeNastyaofficial  107500000.0\n",
       "7         VladandNiki  101400000.0\n",
       "8     zeemusiccompany   99700000.0\n",
       "9                 WWE   97200000.0"
      ]
     },
     "execution_count": 42,
     "metadata": {},
     "output_type": "execute_result"
    }
   ],
   "source": [
    "streamer_most_subscribers = yt[['Username', 'Subscribers',]].groupby(by='Username').sum().sort_values(by='Subscribers', ascending=False)[:10].reset_index()\n",
    "streamer_most_subscribers"
   ]
  },
  {
   "cell_type": "code",
   "execution_count": 43,
   "metadata": {},
   "outputs": [
    {
     "data": {
      "application/vnd.plotly.v1+json": {
       "config": {
        "plotlyServerURL": "https://plot.ly"
       },
       "data": [
        {
         "alignmentgroup": "True",
         "hovertemplate": "Username=%{x}<br>Subscribers=%{y}<extra></extra>",
         "legendgroup": "",
         "marker": {
          "color": "#636efa",
          "pattern": {
           "shape": ""
          }
         },
         "name": "",
         "offsetgroup": "",
         "orientation": "v",
         "showlegend": false,
         "textposition": "auto",
         "type": "bar",
         "x": [
          "tseries",
          "MrBeast",
          "CoComelon",
          "SETIndia",
          "KidsDianaShow",
          "PewDiePie",
          "LikeNastyaofficial",
          "VladandNiki",
          "zeemusiccompany",
          "WWE"
         ],
         "xaxis": "x",
         "y": [
          249500000,
          183500000,
          165500000,
          162600000,
          113500000,
          111500000,
          107500000,
          101400000,
          99700000,
          97200000
         ],
         "yaxis": "y"
        }
       ],
       "layout": {
        "barmode": "relative",
        "legend": {
         "tracegroupgap": 0
        },
        "margin": {
         "t": 60
        },
        "template": {
         "data": {
          "bar": [
           {
            "error_x": {
             "color": "#2a3f5f"
            },
            "error_y": {
             "color": "#2a3f5f"
            },
            "marker": {
             "line": {
              "color": "#E5ECF6",
              "width": 0.5
             },
             "pattern": {
              "fillmode": "overlay",
              "size": 10,
              "solidity": 0.2
             }
            },
            "type": "bar"
           }
          ],
          "barpolar": [
           {
            "marker": {
             "line": {
              "color": "#E5ECF6",
              "width": 0.5
             },
             "pattern": {
              "fillmode": "overlay",
              "size": 10,
              "solidity": 0.2
             }
            },
            "type": "barpolar"
           }
          ],
          "carpet": [
           {
            "aaxis": {
             "endlinecolor": "#2a3f5f",
             "gridcolor": "white",
             "linecolor": "white",
             "minorgridcolor": "white",
             "startlinecolor": "#2a3f5f"
            },
            "baxis": {
             "endlinecolor": "#2a3f5f",
             "gridcolor": "white",
             "linecolor": "white",
             "minorgridcolor": "white",
             "startlinecolor": "#2a3f5f"
            },
            "type": "carpet"
           }
          ],
          "choropleth": [
           {
            "colorbar": {
             "outlinewidth": 0,
             "ticks": ""
            },
            "type": "choropleth"
           }
          ],
          "contour": [
           {
            "colorbar": {
             "outlinewidth": 0,
             "ticks": ""
            },
            "colorscale": [
             [
              0,
              "#0d0887"
             ],
             [
              0.1111111111111111,
              "#46039f"
             ],
             [
              0.2222222222222222,
              "#7201a8"
             ],
             [
              0.3333333333333333,
              "#9c179e"
             ],
             [
              0.4444444444444444,
              "#bd3786"
             ],
             [
              0.5555555555555556,
              "#d8576b"
             ],
             [
              0.6666666666666666,
              "#ed7953"
             ],
             [
              0.7777777777777778,
              "#fb9f3a"
             ],
             [
              0.8888888888888888,
              "#fdca26"
             ],
             [
              1,
              "#f0f921"
             ]
            ],
            "type": "contour"
           }
          ],
          "contourcarpet": [
           {
            "colorbar": {
             "outlinewidth": 0,
             "ticks": ""
            },
            "type": "contourcarpet"
           }
          ],
          "heatmap": [
           {
            "colorbar": {
             "outlinewidth": 0,
             "ticks": ""
            },
            "colorscale": [
             [
              0,
              "#0d0887"
             ],
             [
              0.1111111111111111,
              "#46039f"
             ],
             [
              0.2222222222222222,
              "#7201a8"
             ],
             [
              0.3333333333333333,
              "#9c179e"
             ],
             [
              0.4444444444444444,
              "#bd3786"
             ],
             [
              0.5555555555555556,
              "#d8576b"
             ],
             [
              0.6666666666666666,
              "#ed7953"
             ],
             [
              0.7777777777777778,
              "#fb9f3a"
             ],
             [
              0.8888888888888888,
              "#fdca26"
             ],
             [
              1,
              "#f0f921"
             ]
            ],
            "type": "heatmap"
           }
          ],
          "heatmapgl": [
           {
            "colorbar": {
             "outlinewidth": 0,
             "ticks": ""
            },
            "colorscale": [
             [
              0,
              "#0d0887"
             ],
             [
              0.1111111111111111,
              "#46039f"
             ],
             [
              0.2222222222222222,
              "#7201a8"
             ],
             [
              0.3333333333333333,
              "#9c179e"
             ],
             [
              0.4444444444444444,
              "#bd3786"
             ],
             [
              0.5555555555555556,
              "#d8576b"
             ],
             [
              0.6666666666666666,
              "#ed7953"
             ],
             [
              0.7777777777777778,
              "#fb9f3a"
             ],
             [
              0.8888888888888888,
              "#fdca26"
             ],
             [
              1,
              "#f0f921"
             ]
            ],
            "type": "heatmapgl"
           }
          ],
          "histogram": [
           {
            "marker": {
             "pattern": {
              "fillmode": "overlay",
              "size": 10,
              "solidity": 0.2
             }
            },
            "type": "histogram"
           }
          ],
          "histogram2d": [
           {
            "colorbar": {
             "outlinewidth": 0,
             "ticks": ""
            },
            "colorscale": [
             [
              0,
              "#0d0887"
             ],
             [
              0.1111111111111111,
              "#46039f"
             ],
             [
              0.2222222222222222,
              "#7201a8"
             ],
             [
              0.3333333333333333,
              "#9c179e"
             ],
             [
              0.4444444444444444,
              "#bd3786"
             ],
             [
              0.5555555555555556,
              "#d8576b"
             ],
             [
              0.6666666666666666,
              "#ed7953"
             ],
             [
              0.7777777777777778,
              "#fb9f3a"
             ],
             [
              0.8888888888888888,
              "#fdca26"
             ],
             [
              1,
              "#f0f921"
             ]
            ],
            "type": "histogram2d"
           }
          ],
          "histogram2dcontour": [
           {
            "colorbar": {
             "outlinewidth": 0,
             "ticks": ""
            },
            "colorscale": [
             [
              0,
              "#0d0887"
             ],
             [
              0.1111111111111111,
              "#46039f"
             ],
             [
              0.2222222222222222,
              "#7201a8"
             ],
             [
              0.3333333333333333,
              "#9c179e"
             ],
             [
              0.4444444444444444,
              "#bd3786"
             ],
             [
              0.5555555555555556,
              "#d8576b"
             ],
             [
              0.6666666666666666,
              "#ed7953"
             ],
             [
              0.7777777777777778,
              "#fb9f3a"
             ],
             [
              0.8888888888888888,
              "#fdca26"
             ],
             [
              1,
              "#f0f921"
             ]
            ],
            "type": "histogram2dcontour"
           }
          ],
          "mesh3d": [
           {
            "colorbar": {
             "outlinewidth": 0,
             "ticks": ""
            },
            "type": "mesh3d"
           }
          ],
          "parcoords": [
           {
            "line": {
             "colorbar": {
              "outlinewidth": 0,
              "ticks": ""
             }
            },
            "type": "parcoords"
           }
          ],
          "pie": [
           {
            "automargin": true,
            "type": "pie"
           }
          ],
          "scatter": [
           {
            "fillpattern": {
             "fillmode": "overlay",
             "size": 10,
             "solidity": 0.2
            },
            "type": "scatter"
           }
          ],
          "scatter3d": [
           {
            "line": {
             "colorbar": {
              "outlinewidth": 0,
              "ticks": ""
             }
            },
            "marker": {
             "colorbar": {
              "outlinewidth": 0,
              "ticks": ""
             }
            },
            "type": "scatter3d"
           }
          ],
          "scattercarpet": [
           {
            "marker": {
             "colorbar": {
              "outlinewidth": 0,
              "ticks": ""
             }
            },
            "type": "scattercarpet"
           }
          ],
          "scattergeo": [
           {
            "marker": {
             "colorbar": {
              "outlinewidth": 0,
              "ticks": ""
             }
            },
            "type": "scattergeo"
           }
          ],
          "scattergl": [
           {
            "marker": {
             "colorbar": {
              "outlinewidth": 0,
              "ticks": ""
             }
            },
            "type": "scattergl"
           }
          ],
          "scattermapbox": [
           {
            "marker": {
             "colorbar": {
              "outlinewidth": 0,
              "ticks": ""
             }
            },
            "type": "scattermapbox"
           }
          ],
          "scatterpolar": [
           {
            "marker": {
             "colorbar": {
              "outlinewidth": 0,
              "ticks": ""
             }
            },
            "type": "scatterpolar"
           }
          ],
          "scatterpolargl": [
           {
            "marker": {
             "colorbar": {
              "outlinewidth": 0,
              "ticks": ""
             }
            },
            "type": "scatterpolargl"
           }
          ],
          "scatterternary": [
           {
            "marker": {
             "colorbar": {
              "outlinewidth": 0,
              "ticks": ""
             }
            },
            "type": "scatterternary"
           }
          ],
          "surface": [
           {
            "colorbar": {
             "outlinewidth": 0,
             "ticks": ""
            },
            "colorscale": [
             [
              0,
              "#0d0887"
             ],
             [
              0.1111111111111111,
              "#46039f"
             ],
             [
              0.2222222222222222,
              "#7201a8"
             ],
             [
              0.3333333333333333,
              "#9c179e"
             ],
             [
              0.4444444444444444,
              "#bd3786"
             ],
             [
              0.5555555555555556,
              "#d8576b"
             ],
             [
              0.6666666666666666,
              "#ed7953"
             ],
             [
              0.7777777777777778,
              "#fb9f3a"
             ],
             [
              0.8888888888888888,
              "#fdca26"
             ],
             [
              1,
              "#f0f921"
             ]
            ],
            "type": "surface"
           }
          ],
          "table": [
           {
            "cells": {
             "fill": {
              "color": "#EBF0F8"
             },
             "line": {
              "color": "white"
             }
            },
            "header": {
             "fill": {
              "color": "#C8D4E3"
             },
             "line": {
              "color": "white"
             }
            },
            "type": "table"
           }
          ]
         },
         "layout": {
          "annotationdefaults": {
           "arrowcolor": "#2a3f5f",
           "arrowhead": 0,
           "arrowwidth": 1
          },
          "autotypenumbers": "strict",
          "coloraxis": {
           "colorbar": {
            "outlinewidth": 0,
            "ticks": ""
           }
          },
          "colorscale": {
           "diverging": [
            [
             0,
             "#8e0152"
            ],
            [
             0.1,
             "#c51b7d"
            ],
            [
             0.2,
             "#de77ae"
            ],
            [
             0.3,
             "#f1b6da"
            ],
            [
             0.4,
             "#fde0ef"
            ],
            [
             0.5,
             "#f7f7f7"
            ],
            [
             0.6,
             "#e6f5d0"
            ],
            [
             0.7,
             "#b8e186"
            ],
            [
             0.8,
             "#7fbc41"
            ],
            [
             0.9,
             "#4d9221"
            ],
            [
             1,
             "#276419"
            ]
           ],
           "sequential": [
            [
             0,
             "#0d0887"
            ],
            [
             0.1111111111111111,
             "#46039f"
            ],
            [
             0.2222222222222222,
             "#7201a8"
            ],
            [
             0.3333333333333333,
             "#9c179e"
            ],
            [
             0.4444444444444444,
             "#bd3786"
            ],
            [
             0.5555555555555556,
             "#d8576b"
            ],
            [
             0.6666666666666666,
             "#ed7953"
            ],
            [
             0.7777777777777778,
             "#fb9f3a"
            ],
            [
             0.8888888888888888,
             "#fdca26"
            ],
            [
             1,
             "#f0f921"
            ]
           ],
           "sequentialminus": [
            [
             0,
             "#0d0887"
            ],
            [
             0.1111111111111111,
             "#46039f"
            ],
            [
             0.2222222222222222,
             "#7201a8"
            ],
            [
             0.3333333333333333,
             "#9c179e"
            ],
            [
             0.4444444444444444,
             "#bd3786"
            ],
            [
             0.5555555555555556,
             "#d8576b"
            ],
            [
             0.6666666666666666,
             "#ed7953"
            ],
            [
             0.7777777777777778,
             "#fb9f3a"
            ],
            [
             0.8888888888888888,
             "#fdca26"
            ],
            [
             1,
             "#f0f921"
            ]
           ]
          },
          "colorway": [
           "#636efa",
           "#EF553B",
           "#00cc96",
           "#ab63fa",
           "#FFA15A",
           "#19d3f3",
           "#FF6692",
           "#B6E880",
           "#FF97FF",
           "#FECB52"
          ],
          "font": {
           "color": "#2a3f5f"
          },
          "geo": {
           "bgcolor": "white",
           "lakecolor": "white",
           "landcolor": "#E5ECF6",
           "showlakes": true,
           "showland": true,
           "subunitcolor": "white"
          },
          "hoverlabel": {
           "align": "left"
          },
          "hovermode": "closest",
          "mapbox": {
           "style": "light"
          },
          "paper_bgcolor": "white",
          "plot_bgcolor": "#E5ECF6",
          "polar": {
           "angularaxis": {
            "gridcolor": "white",
            "linecolor": "white",
            "ticks": ""
           },
           "bgcolor": "#E5ECF6",
           "radialaxis": {
            "gridcolor": "white",
            "linecolor": "white",
            "ticks": ""
           }
          },
          "scene": {
           "xaxis": {
            "backgroundcolor": "#E5ECF6",
            "gridcolor": "white",
            "gridwidth": 2,
            "linecolor": "white",
            "showbackground": true,
            "ticks": "",
            "zerolinecolor": "white"
           },
           "yaxis": {
            "backgroundcolor": "#E5ECF6",
            "gridcolor": "white",
            "gridwidth": 2,
            "linecolor": "white",
            "showbackground": true,
            "ticks": "",
            "zerolinecolor": "white"
           },
           "zaxis": {
            "backgroundcolor": "#E5ECF6",
            "gridcolor": "white",
            "gridwidth": 2,
            "linecolor": "white",
            "showbackground": true,
            "ticks": "",
            "zerolinecolor": "white"
           }
          },
          "shapedefaults": {
           "line": {
            "color": "#2a3f5f"
           }
          },
          "ternary": {
           "aaxis": {
            "gridcolor": "white",
            "linecolor": "white",
            "ticks": ""
           },
           "baxis": {
            "gridcolor": "white",
            "linecolor": "white",
            "ticks": ""
           },
           "bgcolor": "#E5ECF6",
           "caxis": {
            "gridcolor": "white",
            "linecolor": "white",
            "ticks": ""
           }
          },
          "title": {
           "x": 0.05
          },
          "xaxis": {
           "automargin": true,
           "gridcolor": "white",
           "linecolor": "white",
           "ticks": "",
           "title": {
            "standoff": 15
           },
           "zerolinecolor": "white",
           "zerolinewidth": 2
          },
          "yaxis": {
           "automargin": true,
           "gridcolor": "white",
           "linecolor": "white",
           "ticks": "",
           "title": {
            "standoff": 15
           },
           "zerolinecolor": "white",
           "zerolinewidth": 2
          }
         }
        },
        "xaxis": {
         "anchor": "y",
         "domain": [
          0,
          1
         ],
         "title": {
          "text": "Username"
         }
        },
        "yaxis": {
         "anchor": "x",
         "domain": [
          0,
          1
         ],
         "title": {
          "text": "Subscribers"
         }
        }
       }
      }
     },
     "metadata": {},
     "output_type": "display_data"
    }
   ],
   "source": [
    "px.bar(streamer_most_subscribers, x='Username', y='Subscribers')"
   ]
  },
  {
   "cell_type": "markdown",
   "metadata": {},
   "source": [
    "### 6.2 Streamer With Most Visits"
   ]
  },
  {
   "cell_type": "code",
   "execution_count": 44,
   "metadata": {},
   "outputs": [
    {
     "data": {
      "text/html": [
       "<div>\n",
       "<style scoped>\n",
       "    .dataframe tbody tr th:only-of-type {\n",
       "        vertical-align: middle;\n",
       "    }\n",
       "\n",
       "    .dataframe tbody tr th {\n",
       "        vertical-align: top;\n",
       "    }\n",
       "\n",
       "    .dataframe thead th {\n",
       "        text-align: right;\n",
       "    }\n",
       "</style>\n",
       "<table border=\"1\" class=\"dataframe\">\n",
       "  <thead>\n",
       "    <tr style=\"text-align: right;\">\n",
       "      <th></th>\n",
       "      <th>Username</th>\n",
       "      <th>Visits</th>\n",
       "    </tr>\n",
       "  </thead>\n",
       "  <tbody>\n",
       "    <tr>\n",
       "      <th>0</th>\n",
       "      <td>MrBeast</td>\n",
       "      <td>117400000.0</td>\n",
       "    </tr>\n",
       "    <tr>\n",
       "      <th>1</th>\n",
       "      <td>MrBeast2</td>\n",
       "      <td>83100000.0</td>\n",
       "    </tr>\n",
       "    <tr>\n",
       "      <th>2</th>\n",
       "      <td>DaFuqBoom</td>\n",
       "      <td>52700000.0</td>\n",
       "    </tr>\n",
       "    <tr>\n",
       "      <th>3</th>\n",
       "      <td>VillageCookingChannel</td>\n",
       "      <td>21500000.0</td>\n",
       "    </tr>\n",
       "    <tr>\n",
       "      <th>4</th>\n",
       "      <td>BeastPhilanthropy</td>\n",
       "      <td>21500000.0</td>\n",
       "    </tr>\n",
       "    <tr>\n",
       "      <th>5</th>\n",
       "      <td>jaanvipatel</td>\n",
       "      <td>19100000.0</td>\n",
       "    </tr>\n",
       "    <tr>\n",
       "      <th>6</th>\n",
       "      <td>_vector_</td>\n",
       "      <td>15400000.0</td>\n",
       "    </tr>\n",
       "    <tr>\n",
       "      <th>7</th>\n",
       "      <td>dojacat</td>\n",
       "      <td>13600000.0</td>\n",
       "    </tr>\n",
       "    <tr>\n",
       "      <th>8</th>\n",
       "      <td>alfredolarin</td>\n",
       "      <td>12900000.0</td>\n",
       "    </tr>\n",
       "    <tr>\n",
       "      <th>9</th>\n",
       "      <td>NickPro</td>\n",
       "      <td>12200000.0</td>\n",
       "    </tr>\n",
       "  </tbody>\n",
       "</table>\n",
       "</div>"
      ],
      "text/plain": [
       "                Username       Visits\n",
       "0                MrBeast  117400000.0\n",
       "1               MrBeast2   83100000.0\n",
       "2              DaFuqBoom   52700000.0\n",
       "3  VillageCookingChannel   21500000.0\n",
       "4      BeastPhilanthropy   21500000.0\n",
       "5            jaanvipatel   19100000.0\n",
       "6               _vector_   15400000.0\n",
       "7                dojacat   13600000.0\n",
       "8           alfredolarin   12900000.0\n",
       "9                NickPro   12200000.0"
      ]
     },
     "execution_count": 44,
     "metadata": {},
     "output_type": "execute_result"
    }
   ],
   "source": [
    "streamer_most_visits = yt[['Username', 'Visits',]].groupby(by='Username').sum().sort_values(by='Visits', ascending=False)[:10].reset_index()\n",
    "streamer_most_visits"
   ]
  },
  {
   "cell_type": "code",
   "execution_count": 45,
   "metadata": {},
   "outputs": [
    {
     "data": {
      "application/vnd.plotly.v1+json": {
       "config": {
        "plotlyServerURL": "https://plot.ly"
       },
       "data": [
        {
         "alignmentgroup": "True",
         "hovertemplate": "Username=%{x}<br>Visits=%{y}<extra></extra>",
         "legendgroup": "",
         "marker": {
          "color": "#636efa",
          "pattern": {
           "shape": ""
          }
         },
         "name": "",
         "offsetgroup": "",
         "orientation": "v",
         "showlegend": false,
         "textposition": "auto",
         "type": "bar",
         "x": [
          "MrBeast",
          "MrBeast2",
          "DaFuqBoom",
          "VillageCookingChannel",
          "BeastPhilanthropy",
          "jaanvipatel",
          "_vector_",
          "dojacat",
          "alfredolarin",
          "NickPro"
         ],
         "xaxis": "x",
         "y": [
          117400000,
          83100000,
          52700000,
          21500000,
          21500000,
          19100000,
          15400000,
          13600000,
          12900000,
          12200000
         ],
         "yaxis": "y"
        }
       ],
       "layout": {
        "barmode": "relative",
        "legend": {
         "tracegroupgap": 0
        },
        "margin": {
         "t": 60
        },
        "template": {
         "data": {
          "bar": [
           {
            "error_x": {
             "color": "#2a3f5f"
            },
            "error_y": {
             "color": "#2a3f5f"
            },
            "marker": {
             "line": {
              "color": "#E5ECF6",
              "width": 0.5
             },
             "pattern": {
              "fillmode": "overlay",
              "size": 10,
              "solidity": 0.2
             }
            },
            "type": "bar"
           }
          ],
          "barpolar": [
           {
            "marker": {
             "line": {
              "color": "#E5ECF6",
              "width": 0.5
             },
             "pattern": {
              "fillmode": "overlay",
              "size": 10,
              "solidity": 0.2
             }
            },
            "type": "barpolar"
           }
          ],
          "carpet": [
           {
            "aaxis": {
             "endlinecolor": "#2a3f5f",
             "gridcolor": "white",
             "linecolor": "white",
             "minorgridcolor": "white",
             "startlinecolor": "#2a3f5f"
            },
            "baxis": {
             "endlinecolor": "#2a3f5f",
             "gridcolor": "white",
             "linecolor": "white",
             "minorgridcolor": "white",
             "startlinecolor": "#2a3f5f"
            },
            "type": "carpet"
           }
          ],
          "choropleth": [
           {
            "colorbar": {
             "outlinewidth": 0,
             "ticks": ""
            },
            "type": "choropleth"
           }
          ],
          "contour": [
           {
            "colorbar": {
             "outlinewidth": 0,
             "ticks": ""
            },
            "colorscale": [
             [
              0,
              "#0d0887"
             ],
             [
              0.1111111111111111,
              "#46039f"
             ],
             [
              0.2222222222222222,
              "#7201a8"
             ],
             [
              0.3333333333333333,
              "#9c179e"
             ],
             [
              0.4444444444444444,
              "#bd3786"
             ],
             [
              0.5555555555555556,
              "#d8576b"
             ],
             [
              0.6666666666666666,
              "#ed7953"
             ],
             [
              0.7777777777777778,
              "#fb9f3a"
             ],
             [
              0.8888888888888888,
              "#fdca26"
             ],
             [
              1,
              "#f0f921"
             ]
            ],
            "type": "contour"
           }
          ],
          "contourcarpet": [
           {
            "colorbar": {
             "outlinewidth": 0,
             "ticks": ""
            },
            "type": "contourcarpet"
           }
          ],
          "heatmap": [
           {
            "colorbar": {
             "outlinewidth": 0,
             "ticks": ""
            },
            "colorscale": [
             [
              0,
              "#0d0887"
             ],
             [
              0.1111111111111111,
              "#46039f"
             ],
             [
              0.2222222222222222,
              "#7201a8"
             ],
             [
              0.3333333333333333,
              "#9c179e"
             ],
             [
              0.4444444444444444,
              "#bd3786"
             ],
             [
              0.5555555555555556,
              "#d8576b"
             ],
             [
              0.6666666666666666,
              "#ed7953"
             ],
             [
              0.7777777777777778,
              "#fb9f3a"
             ],
             [
              0.8888888888888888,
              "#fdca26"
             ],
             [
              1,
              "#f0f921"
             ]
            ],
            "type": "heatmap"
           }
          ],
          "heatmapgl": [
           {
            "colorbar": {
             "outlinewidth": 0,
             "ticks": ""
            },
            "colorscale": [
             [
              0,
              "#0d0887"
             ],
             [
              0.1111111111111111,
              "#46039f"
             ],
             [
              0.2222222222222222,
              "#7201a8"
             ],
             [
              0.3333333333333333,
              "#9c179e"
             ],
             [
              0.4444444444444444,
              "#bd3786"
             ],
             [
              0.5555555555555556,
              "#d8576b"
             ],
             [
              0.6666666666666666,
              "#ed7953"
             ],
             [
              0.7777777777777778,
              "#fb9f3a"
             ],
             [
              0.8888888888888888,
              "#fdca26"
             ],
             [
              1,
              "#f0f921"
             ]
            ],
            "type": "heatmapgl"
           }
          ],
          "histogram": [
           {
            "marker": {
             "pattern": {
              "fillmode": "overlay",
              "size": 10,
              "solidity": 0.2
             }
            },
            "type": "histogram"
           }
          ],
          "histogram2d": [
           {
            "colorbar": {
             "outlinewidth": 0,
             "ticks": ""
            },
            "colorscale": [
             [
              0,
              "#0d0887"
             ],
             [
              0.1111111111111111,
              "#46039f"
             ],
             [
              0.2222222222222222,
              "#7201a8"
             ],
             [
              0.3333333333333333,
              "#9c179e"
             ],
             [
              0.4444444444444444,
              "#bd3786"
             ],
             [
              0.5555555555555556,
              "#d8576b"
             ],
             [
              0.6666666666666666,
              "#ed7953"
             ],
             [
              0.7777777777777778,
              "#fb9f3a"
             ],
             [
              0.8888888888888888,
              "#fdca26"
             ],
             [
              1,
              "#f0f921"
             ]
            ],
            "type": "histogram2d"
           }
          ],
          "histogram2dcontour": [
           {
            "colorbar": {
             "outlinewidth": 0,
             "ticks": ""
            },
            "colorscale": [
             [
              0,
              "#0d0887"
             ],
             [
              0.1111111111111111,
              "#46039f"
             ],
             [
              0.2222222222222222,
              "#7201a8"
             ],
             [
              0.3333333333333333,
              "#9c179e"
             ],
             [
              0.4444444444444444,
              "#bd3786"
             ],
             [
              0.5555555555555556,
              "#d8576b"
             ],
             [
              0.6666666666666666,
              "#ed7953"
             ],
             [
              0.7777777777777778,
              "#fb9f3a"
             ],
             [
              0.8888888888888888,
              "#fdca26"
             ],
             [
              1,
              "#f0f921"
             ]
            ],
            "type": "histogram2dcontour"
           }
          ],
          "mesh3d": [
           {
            "colorbar": {
             "outlinewidth": 0,
             "ticks": ""
            },
            "type": "mesh3d"
           }
          ],
          "parcoords": [
           {
            "line": {
             "colorbar": {
              "outlinewidth": 0,
              "ticks": ""
             }
            },
            "type": "parcoords"
           }
          ],
          "pie": [
           {
            "automargin": true,
            "type": "pie"
           }
          ],
          "scatter": [
           {
            "fillpattern": {
             "fillmode": "overlay",
             "size": 10,
             "solidity": 0.2
            },
            "type": "scatter"
           }
          ],
          "scatter3d": [
           {
            "line": {
             "colorbar": {
              "outlinewidth": 0,
              "ticks": ""
             }
            },
            "marker": {
             "colorbar": {
              "outlinewidth": 0,
              "ticks": ""
             }
            },
            "type": "scatter3d"
           }
          ],
          "scattercarpet": [
           {
            "marker": {
             "colorbar": {
              "outlinewidth": 0,
              "ticks": ""
             }
            },
            "type": "scattercarpet"
           }
          ],
          "scattergeo": [
           {
            "marker": {
             "colorbar": {
              "outlinewidth": 0,
              "ticks": ""
             }
            },
            "type": "scattergeo"
           }
          ],
          "scattergl": [
           {
            "marker": {
             "colorbar": {
              "outlinewidth": 0,
              "ticks": ""
             }
            },
            "type": "scattergl"
           }
          ],
          "scattermapbox": [
           {
            "marker": {
             "colorbar": {
              "outlinewidth": 0,
              "ticks": ""
             }
            },
            "type": "scattermapbox"
           }
          ],
          "scatterpolar": [
           {
            "marker": {
             "colorbar": {
              "outlinewidth": 0,
              "ticks": ""
             }
            },
            "type": "scatterpolar"
           }
          ],
          "scatterpolargl": [
           {
            "marker": {
             "colorbar": {
              "outlinewidth": 0,
              "ticks": ""
             }
            },
            "type": "scatterpolargl"
           }
          ],
          "scatterternary": [
           {
            "marker": {
             "colorbar": {
              "outlinewidth": 0,
              "ticks": ""
             }
            },
            "type": "scatterternary"
           }
          ],
          "surface": [
           {
            "colorbar": {
             "outlinewidth": 0,
             "ticks": ""
            },
            "colorscale": [
             [
              0,
              "#0d0887"
             ],
             [
              0.1111111111111111,
              "#46039f"
             ],
             [
              0.2222222222222222,
              "#7201a8"
             ],
             [
              0.3333333333333333,
              "#9c179e"
             ],
             [
              0.4444444444444444,
              "#bd3786"
             ],
             [
              0.5555555555555556,
              "#d8576b"
             ],
             [
              0.6666666666666666,
              "#ed7953"
             ],
             [
              0.7777777777777778,
              "#fb9f3a"
             ],
             [
              0.8888888888888888,
              "#fdca26"
             ],
             [
              1,
              "#f0f921"
             ]
            ],
            "type": "surface"
           }
          ],
          "table": [
           {
            "cells": {
             "fill": {
              "color": "#EBF0F8"
             },
             "line": {
              "color": "white"
             }
            },
            "header": {
             "fill": {
              "color": "#C8D4E3"
             },
             "line": {
              "color": "white"
             }
            },
            "type": "table"
           }
          ]
         },
         "layout": {
          "annotationdefaults": {
           "arrowcolor": "#2a3f5f",
           "arrowhead": 0,
           "arrowwidth": 1
          },
          "autotypenumbers": "strict",
          "coloraxis": {
           "colorbar": {
            "outlinewidth": 0,
            "ticks": ""
           }
          },
          "colorscale": {
           "diverging": [
            [
             0,
             "#8e0152"
            ],
            [
             0.1,
             "#c51b7d"
            ],
            [
             0.2,
             "#de77ae"
            ],
            [
             0.3,
             "#f1b6da"
            ],
            [
             0.4,
             "#fde0ef"
            ],
            [
             0.5,
             "#f7f7f7"
            ],
            [
             0.6,
             "#e6f5d0"
            ],
            [
             0.7,
             "#b8e186"
            ],
            [
             0.8,
             "#7fbc41"
            ],
            [
             0.9,
             "#4d9221"
            ],
            [
             1,
             "#276419"
            ]
           ],
           "sequential": [
            [
             0,
             "#0d0887"
            ],
            [
             0.1111111111111111,
             "#46039f"
            ],
            [
             0.2222222222222222,
             "#7201a8"
            ],
            [
             0.3333333333333333,
             "#9c179e"
            ],
            [
             0.4444444444444444,
             "#bd3786"
            ],
            [
             0.5555555555555556,
             "#d8576b"
            ],
            [
             0.6666666666666666,
             "#ed7953"
            ],
            [
             0.7777777777777778,
             "#fb9f3a"
            ],
            [
             0.8888888888888888,
             "#fdca26"
            ],
            [
             1,
             "#f0f921"
            ]
           ],
           "sequentialminus": [
            [
             0,
             "#0d0887"
            ],
            [
             0.1111111111111111,
             "#46039f"
            ],
            [
             0.2222222222222222,
             "#7201a8"
            ],
            [
             0.3333333333333333,
             "#9c179e"
            ],
            [
             0.4444444444444444,
             "#bd3786"
            ],
            [
             0.5555555555555556,
             "#d8576b"
            ],
            [
             0.6666666666666666,
             "#ed7953"
            ],
            [
             0.7777777777777778,
             "#fb9f3a"
            ],
            [
             0.8888888888888888,
             "#fdca26"
            ],
            [
             1,
             "#f0f921"
            ]
           ]
          },
          "colorway": [
           "#636efa",
           "#EF553B",
           "#00cc96",
           "#ab63fa",
           "#FFA15A",
           "#19d3f3",
           "#FF6692",
           "#B6E880",
           "#FF97FF",
           "#FECB52"
          ],
          "font": {
           "color": "#2a3f5f"
          },
          "geo": {
           "bgcolor": "white",
           "lakecolor": "white",
           "landcolor": "#E5ECF6",
           "showlakes": true,
           "showland": true,
           "subunitcolor": "white"
          },
          "hoverlabel": {
           "align": "left"
          },
          "hovermode": "closest",
          "mapbox": {
           "style": "light"
          },
          "paper_bgcolor": "white",
          "plot_bgcolor": "#E5ECF6",
          "polar": {
           "angularaxis": {
            "gridcolor": "white",
            "linecolor": "white",
            "ticks": ""
           },
           "bgcolor": "#E5ECF6",
           "radialaxis": {
            "gridcolor": "white",
            "linecolor": "white",
            "ticks": ""
           }
          },
          "scene": {
           "xaxis": {
            "backgroundcolor": "#E5ECF6",
            "gridcolor": "white",
            "gridwidth": 2,
            "linecolor": "white",
            "showbackground": true,
            "ticks": "",
            "zerolinecolor": "white"
           },
           "yaxis": {
            "backgroundcolor": "#E5ECF6",
            "gridcolor": "white",
            "gridwidth": 2,
            "linecolor": "white",
            "showbackground": true,
            "ticks": "",
            "zerolinecolor": "white"
           },
           "zaxis": {
            "backgroundcolor": "#E5ECF6",
            "gridcolor": "white",
            "gridwidth": 2,
            "linecolor": "white",
            "showbackground": true,
            "ticks": "",
            "zerolinecolor": "white"
           }
          },
          "shapedefaults": {
           "line": {
            "color": "#2a3f5f"
           }
          },
          "ternary": {
           "aaxis": {
            "gridcolor": "white",
            "linecolor": "white",
            "ticks": ""
           },
           "baxis": {
            "gridcolor": "white",
            "linecolor": "white",
            "ticks": ""
           },
           "bgcolor": "#E5ECF6",
           "caxis": {
            "gridcolor": "white",
            "linecolor": "white",
            "ticks": ""
           }
          },
          "title": {
           "x": 0.05
          },
          "xaxis": {
           "automargin": true,
           "gridcolor": "white",
           "linecolor": "white",
           "ticks": "",
           "title": {
            "standoff": 15
           },
           "zerolinecolor": "white",
           "zerolinewidth": 2
          },
          "yaxis": {
           "automargin": true,
           "gridcolor": "white",
           "linecolor": "white",
           "ticks": "",
           "title": {
            "standoff": 15
           },
           "zerolinecolor": "white",
           "zerolinewidth": 2
          }
         }
        },
        "xaxis": {
         "anchor": "y",
         "domain": [
          0,
          1
         ],
         "title": {
          "text": "Username"
         }
        },
        "yaxis": {
         "anchor": "x",
         "domain": [
          0,
          1
         ],
         "title": {
          "text": "Visits"
         }
        }
       }
      }
     },
     "metadata": {},
     "output_type": "display_data"
    }
   ],
   "source": [
    "px.bar(streamer_most_visits, x='Username', y='Visits')"
   ]
  },
  {
   "cell_type": "markdown",
   "metadata": {},
   "source": [
    "### 6.2 Streamer With Most Likes"
   ]
  },
  {
   "cell_type": "code",
   "execution_count": 47,
   "metadata": {},
   "outputs": [
    {
     "data": {
      "text/html": [
       "<div>\n",
       "<style scoped>\n",
       "    .dataframe tbody tr th:only-of-type {\n",
       "        vertical-align: middle;\n",
       "    }\n",
       "\n",
       "    .dataframe tbody tr th {\n",
       "        vertical-align: top;\n",
       "    }\n",
       "\n",
       "    .dataframe thead th {\n",
       "        text-align: right;\n",
       "    }\n",
       "</style>\n",
       "<table border=\"1\" class=\"dataframe\">\n",
       "  <thead>\n",
       "    <tr style=\"text-align: right;\">\n",
       "      <th></th>\n",
       "      <th>Username</th>\n",
       "      <th>Likes</th>\n",
       "    </tr>\n",
       "  </thead>\n",
       "  <tbody>\n",
       "    <tr>\n",
       "      <th>0</th>\n",
       "      <td>MrBeast</td>\n",
       "      <td>5300000.0</td>\n",
       "    </tr>\n",
       "    <tr>\n",
       "      <th>1</th>\n",
       "      <td>MrBeast2</td>\n",
       "      <td>5000000.0</td>\n",
       "    </tr>\n",
       "    <tr>\n",
       "      <th>2</th>\n",
       "      <td>DaFuqBoom</td>\n",
       "      <td>1700000.0</td>\n",
       "    </tr>\n",
       "    <tr>\n",
       "      <th>3</th>\n",
       "      <td>triggeredinsaan</td>\n",
       "      <td>1400000.0</td>\n",
       "    </tr>\n",
       "    <tr>\n",
       "      <th>4</th>\n",
       "      <td>Mythpat</td>\n",
       "      <td>1200000.0</td>\n",
       "    </tr>\n",
       "    <tr>\n",
       "      <th>5</th>\n",
       "      <td>BeastPhilanthropy</td>\n",
       "      <td>952100.0</td>\n",
       "    </tr>\n",
       "    <tr>\n",
       "      <th>6</th>\n",
       "      <td>_vector_</td>\n",
       "      <td>712400.0</td>\n",
       "    </tr>\n",
       "    <tr>\n",
       "      <th>7</th>\n",
       "      <td>alfredolarin</td>\n",
       "      <td>707600.0</td>\n",
       "    </tr>\n",
       "    <tr>\n",
       "      <th>8</th>\n",
       "      <td>MRINDIANHACKER</td>\n",
       "      <td>617400.0</td>\n",
       "    </tr>\n",
       "    <tr>\n",
       "      <th>9</th>\n",
       "      <td>alanbecker</td>\n",
       "      <td>582600.0</td>\n",
       "    </tr>\n",
       "  </tbody>\n",
       "</table>\n",
       "</div>"
      ],
      "text/plain": [
       "            Username      Likes\n",
       "0            MrBeast  5300000.0\n",
       "1           MrBeast2  5000000.0\n",
       "2          DaFuqBoom  1700000.0\n",
       "3    triggeredinsaan  1400000.0\n",
       "4            Mythpat  1200000.0\n",
       "5  BeastPhilanthropy   952100.0\n",
       "6           _vector_   712400.0\n",
       "7       alfredolarin   707600.0\n",
       "8     MRINDIANHACKER   617400.0\n",
       "9         alanbecker   582600.0"
      ]
     },
     "execution_count": 47,
     "metadata": {},
     "output_type": "execute_result"
    }
   ],
   "source": [
    "streamer_most_likes = yt[['Username', 'Likes',]].groupby(by='Username').sum().sort_values(by='Likes', ascending=False)[:10].reset_index()\n",
    "streamer_most_likes"
   ]
  },
  {
   "cell_type": "code",
   "execution_count": 48,
   "metadata": {},
   "outputs": [
    {
     "data": {
      "application/vnd.plotly.v1+json": {
       "config": {
        "plotlyServerURL": "https://plot.ly"
       },
       "data": [
        {
         "alignmentgroup": "True",
         "hovertemplate": "Username=%{x}<br>Likes=%{y}<extra></extra>",
         "legendgroup": "",
         "marker": {
          "color": "#636efa",
          "pattern": {
           "shape": ""
          }
         },
         "name": "",
         "offsetgroup": "",
         "orientation": "v",
         "showlegend": false,
         "textposition": "auto",
         "type": "bar",
         "x": [
          "MrBeast",
          "MrBeast2",
          "DaFuqBoom",
          "triggeredinsaan",
          "Mythpat",
          "BeastPhilanthropy",
          "_vector_",
          "alfredolarin",
          "MRINDIANHACKER",
          "alanbecker"
         ],
         "xaxis": "x",
         "y": [
          5300000,
          5000000,
          1700000,
          1400000,
          1200000,
          952100,
          712400,
          707600,
          617400,
          582600
         ],
         "yaxis": "y"
        }
       ],
       "layout": {
        "barmode": "relative",
        "legend": {
         "tracegroupgap": 0
        },
        "margin": {
         "t": 60
        },
        "template": {
         "data": {
          "bar": [
           {
            "error_x": {
             "color": "#2a3f5f"
            },
            "error_y": {
             "color": "#2a3f5f"
            },
            "marker": {
             "line": {
              "color": "#E5ECF6",
              "width": 0.5
             },
             "pattern": {
              "fillmode": "overlay",
              "size": 10,
              "solidity": 0.2
             }
            },
            "type": "bar"
           }
          ],
          "barpolar": [
           {
            "marker": {
             "line": {
              "color": "#E5ECF6",
              "width": 0.5
             },
             "pattern": {
              "fillmode": "overlay",
              "size": 10,
              "solidity": 0.2
             }
            },
            "type": "barpolar"
           }
          ],
          "carpet": [
           {
            "aaxis": {
             "endlinecolor": "#2a3f5f",
             "gridcolor": "white",
             "linecolor": "white",
             "minorgridcolor": "white",
             "startlinecolor": "#2a3f5f"
            },
            "baxis": {
             "endlinecolor": "#2a3f5f",
             "gridcolor": "white",
             "linecolor": "white",
             "minorgridcolor": "white",
             "startlinecolor": "#2a3f5f"
            },
            "type": "carpet"
           }
          ],
          "choropleth": [
           {
            "colorbar": {
             "outlinewidth": 0,
             "ticks": ""
            },
            "type": "choropleth"
           }
          ],
          "contour": [
           {
            "colorbar": {
             "outlinewidth": 0,
             "ticks": ""
            },
            "colorscale": [
             [
              0,
              "#0d0887"
             ],
             [
              0.1111111111111111,
              "#46039f"
             ],
             [
              0.2222222222222222,
              "#7201a8"
             ],
             [
              0.3333333333333333,
              "#9c179e"
             ],
             [
              0.4444444444444444,
              "#bd3786"
             ],
             [
              0.5555555555555556,
              "#d8576b"
             ],
             [
              0.6666666666666666,
              "#ed7953"
             ],
             [
              0.7777777777777778,
              "#fb9f3a"
             ],
             [
              0.8888888888888888,
              "#fdca26"
             ],
             [
              1,
              "#f0f921"
             ]
            ],
            "type": "contour"
           }
          ],
          "contourcarpet": [
           {
            "colorbar": {
             "outlinewidth": 0,
             "ticks": ""
            },
            "type": "contourcarpet"
           }
          ],
          "heatmap": [
           {
            "colorbar": {
             "outlinewidth": 0,
             "ticks": ""
            },
            "colorscale": [
             [
              0,
              "#0d0887"
             ],
             [
              0.1111111111111111,
              "#46039f"
             ],
             [
              0.2222222222222222,
              "#7201a8"
             ],
             [
              0.3333333333333333,
              "#9c179e"
             ],
             [
              0.4444444444444444,
              "#bd3786"
             ],
             [
              0.5555555555555556,
              "#d8576b"
             ],
             [
              0.6666666666666666,
              "#ed7953"
             ],
             [
              0.7777777777777778,
              "#fb9f3a"
             ],
             [
              0.8888888888888888,
              "#fdca26"
             ],
             [
              1,
              "#f0f921"
             ]
            ],
            "type": "heatmap"
           }
          ],
          "heatmapgl": [
           {
            "colorbar": {
             "outlinewidth": 0,
             "ticks": ""
            },
            "colorscale": [
             [
              0,
              "#0d0887"
             ],
             [
              0.1111111111111111,
              "#46039f"
             ],
             [
              0.2222222222222222,
              "#7201a8"
             ],
             [
              0.3333333333333333,
              "#9c179e"
             ],
             [
              0.4444444444444444,
              "#bd3786"
             ],
             [
              0.5555555555555556,
              "#d8576b"
             ],
             [
              0.6666666666666666,
              "#ed7953"
             ],
             [
              0.7777777777777778,
              "#fb9f3a"
             ],
             [
              0.8888888888888888,
              "#fdca26"
             ],
             [
              1,
              "#f0f921"
             ]
            ],
            "type": "heatmapgl"
           }
          ],
          "histogram": [
           {
            "marker": {
             "pattern": {
              "fillmode": "overlay",
              "size": 10,
              "solidity": 0.2
             }
            },
            "type": "histogram"
           }
          ],
          "histogram2d": [
           {
            "colorbar": {
             "outlinewidth": 0,
             "ticks": ""
            },
            "colorscale": [
             [
              0,
              "#0d0887"
             ],
             [
              0.1111111111111111,
              "#46039f"
             ],
             [
              0.2222222222222222,
              "#7201a8"
             ],
             [
              0.3333333333333333,
              "#9c179e"
             ],
             [
              0.4444444444444444,
              "#bd3786"
             ],
             [
              0.5555555555555556,
              "#d8576b"
             ],
             [
              0.6666666666666666,
              "#ed7953"
             ],
             [
              0.7777777777777778,
              "#fb9f3a"
             ],
             [
              0.8888888888888888,
              "#fdca26"
             ],
             [
              1,
              "#f0f921"
             ]
            ],
            "type": "histogram2d"
           }
          ],
          "histogram2dcontour": [
           {
            "colorbar": {
             "outlinewidth": 0,
             "ticks": ""
            },
            "colorscale": [
             [
              0,
              "#0d0887"
             ],
             [
              0.1111111111111111,
              "#46039f"
             ],
             [
              0.2222222222222222,
              "#7201a8"
             ],
             [
              0.3333333333333333,
              "#9c179e"
             ],
             [
              0.4444444444444444,
              "#bd3786"
             ],
             [
              0.5555555555555556,
              "#d8576b"
             ],
             [
              0.6666666666666666,
              "#ed7953"
             ],
             [
              0.7777777777777778,
              "#fb9f3a"
             ],
             [
              0.8888888888888888,
              "#fdca26"
             ],
             [
              1,
              "#f0f921"
             ]
            ],
            "type": "histogram2dcontour"
           }
          ],
          "mesh3d": [
           {
            "colorbar": {
             "outlinewidth": 0,
             "ticks": ""
            },
            "type": "mesh3d"
           }
          ],
          "parcoords": [
           {
            "line": {
             "colorbar": {
              "outlinewidth": 0,
              "ticks": ""
             }
            },
            "type": "parcoords"
           }
          ],
          "pie": [
           {
            "automargin": true,
            "type": "pie"
           }
          ],
          "scatter": [
           {
            "fillpattern": {
             "fillmode": "overlay",
             "size": 10,
             "solidity": 0.2
            },
            "type": "scatter"
           }
          ],
          "scatter3d": [
           {
            "line": {
             "colorbar": {
              "outlinewidth": 0,
              "ticks": ""
             }
            },
            "marker": {
             "colorbar": {
              "outlinewidth": 0,
              "ticks": ""
             }
            },
            "type": "scatter3d"
           }
          ],
          "scattercarpet": [
           {
            "marker": {
             "colorbar": {
              "outlinewidth": 0,
              "ticks": ""
             }
            },
            "type": "scattercarpet"
           }
          ],
          "scattergeo": [
           {
            "marker": {
             "colorbar": {
              "outlinewidth": 0,
              "ticks": ""
             }
            },
            "type": "scattergeo"
           }
          ],
          "scattergl": [
           {
            "marker": {
             "colorbar": {
              "outlinewidth": 0,
              "ticks": ""
             }
            },
            "type": "scattergl"
           }
          ],
          "scattermapbox": [
           {
            "marker": {
             "colorbar": {
              "outlinewidth": 0,
              "ticks": ""
             }
            },
            "type": "scattermapbox"
           }
          ],
          "scatterpolar": [
           {
            "marker": {
             "colorbar": {
              "outlinewidth": 0,
              "ticks": ""
             }
            },
            "type": "scatterpolar"
           }
          ],
          "scatterpolargl": [
           {
            "marker": {
             "colorbar": {
              "outlinewidth": 0,
              "ticks": ""
             }
            },
            "type": "scatterpolargl"
           }
          ],
          "scatterternary": [
           {
            "marker": {
             "colorbar": {
              "outlinewidth": 0,
              "ticks": ""
             }
            },
            "type": "scatterternary"
           }
          ],
          "surface": [
           {
            "colorbar": {
             "outlinewidth": 0,
             "ticks": ""
            },
            "colorscale": [
             [
              0,
              "#0d0887"
             ],
             [
              0.1111111111111111,
              "#46039f"
             ],
             [
              0.2222222222222222,
              "#7201a8"
             ],
             [
              0.3333333333333333,
              "#9c179e"
             ],
             [
              0.4444444444444444,
              "#bd3786"
             ],
             [
              0.5555555555555556,
              "#d8576b"
             ],
             [
              0.6666666666666666,
              "#ed7953"
             ],
             [
              0.7777777777777778,
              "#fb9f3a"
             ],
             [
              0.8888888888888888,
              "#fdca26"
             ],
             [
              1,
              "#f0f921"
             ]
            ],
            "type": "surface"
           }
          ],
          "table": [
           {
            "cells": {
             "fill": {
              "color": "#EBF0F8"
             },
             "line": {
              "color": "white"
             }
            },
            "header": {
             "fill": {
              "color": "#C8D4E3"
             },
             "line": {
              "color": "white"
             }
            },
            "type": "table"
           }
          ]
         },
         "layout": {
          "annotationdefaults": {
           "arrowcolor": "#2a3f5f",
           "arrowhead": 0,
           "arrowwidth": 1
          },
          "autotypenumbers": "strict",
          "coloraxis": {
           "colorbar": {
            "outlinewidth": 0,
            "ticks": ""
           }
          },
          "colorscale": {
           "diverging": [
            [
             0,
             "#8e0152"
            ],
            [
             0.1,
             "#c51b7d"
            ],
            [
             0.2,
             "#de77ae"
            ],
            [
             0.3,
             "#f1b6da"
            ],
            [
             0.4,
             "#fde0ef"
            ],
            [
             0.5,
             "#f7f7f7"
            ],
            [
             0.6,
             "#e6f5d0"
            ],
            [
             0.7,
             "#b8e186"
            ],
            [
             0.8,
             "#7fbc41"
            ],
            [
             0.9,
             "#4d9221"
            ],
            [
             1,
             "#276419"
            ]
           ],
           "sequential": [
            [
             0,
             "#0d0887"
            ],
            [
             0.1111111111111111,
             "#46039f"
            ],
            [
             0.2222222222222222,
             "#7201a8"
            ],
            [
             0.3333333333333333,
             "#9c179e"
            ],
            [
             0.4444444444444444,
             "#bd3786"
            ],
            [
             0.5555555555555556,
             "#d8576b"
            ],
            [
             0.6666666666666666,
             "#ed7953"
            ],
            [
             0.7777777777777778,
             "#fb9f3a"
            ],
            [
             0.8888888888888888,
             "#fdca26"
            ],
            [
             1,
             "#f0f921"
            ]
           ],
           "sequentialminus": [
            [
             0,
             "#0d0887"
            ],
            [
             0.1111111111111111,
             "#46039f"
            ],
            [
             0.2222222222222222,
             "#7201a8"
            ],
            [
             0.3333333333333333,
             "#9c179e"
            ],
            [
             0.4444444444444444,
             "#bd3786"
            ],
            [
             0.5555555555555556,
             "#d8576b"
            ],
            [
             0.6666666666666666,
             "#ed7953"
            ],
            [
             0.7777777777777778,
             "#fb9f3a"
            ],
            [
             0.8888888888888888,
             "#fdca26"
            ],
            [
             1,
             "#f0f921"
            ]
           ]
          },
          "colorway": [
           "#636efa",
           "#EF553B",
           "#00cc96",
           "#ab63fa",
           "#FFA15A",
           "#19d3f3",
           "#FF6692",
           "#B6E880",
           "#FF97FF",
           "#FECB52"
          ],
          "font": {
           "color": "#2a3f5f"
          },
          "geo": {
           "bgcolor": "white",
           "lakecolor": "white",
           "landcolor": "#E5ECF6",
           "showlakes": true,
           "showland": true,
           "subunitcolor": "white"
          },
          "hoverlabel": {
           "align": "left"
          },
          "hovermode": "closest",
          "mapbox": {
           "style": "light"
          },
          "paper_bgcolor": "white",
          "plot_bgcolor": "#E5ECF6",
          "polar": {
           "angularaxis": {
            "gridcolor": "white",
            "linecolor": "white",
            "ticks": ""
           },
           "bgcolor": "#E5ECF6",
           "radialaxis": {
            "gridcolor": "white",
            "linecolor": "white",
            "ticks": ""
           }
          },
          "scene": {
           "xaxis": {
            "backgroundcolor": "#E5ECF6",
            "gridcolor": "white",
            "gridwidth": 2,
            "linecolor": "white",
            "showbackground": true,
            "ticks": "",
            "zerolinecolor": "white"
           },
           "yaxis": {
            "backgroundcolor": "#E5ECF6",
            "gridcolor": "white",
            "gridwidth": 2,
            "linecolor": "white",
            "showbackground": true,
            "ticks": "",
            "zerolinecolor": "white"
           },
           "zaxis": {
            "backgroundcolor": "#E5ECF6",
            "gridcolor": "white",
            "gridwidth": 2,
            "linecolor": "white",
            "showbackground": true,
            "ticks": "",
            "zerolinecolor": "white"
           }
          },
          "shapedefaults": {
           "line": {
            "color": "#2a3f5f"
           }
          },
          "ternary": {
           "aaxis": {
            "gridcolor": "white",
            "linecolor": "white",
            "ticks": ""
           },
           "baxis": {
            "gridcolor": "white",
            "linecolor": "white",
            "ticks": ""
           },
           "bgcolor": "#E5ECF6",
           "caxis": {
            "gridcolor": "white",
            "linecolor": "white",
            "ticks": ""
           }
          },
          "title": {
           "x": 0.05
          },
          "xaxis": {
           "automargin": true,
           "gridcolor": "white",
           "linecolor": "white",
           "ticks": "",
           "title": {
            "standoff": 15
           },
           "zerolinecolor": "white",
           "zerolinewidth": 2
          },
          "yaxis": {
           "automargin": true,
           "gridcolor": "white",
           "linecolor": "white",
           "ticks": "",
           "title": {
            "standoff": 15
           },
           "zerolinecolor": "white",
           "zerolinewidth": 2
          }
         }
        },
        "xaxis": {
         "anchor": "y",
         "domain": [
          0,
          1
         ],
         "title": {
          "text": "Username"
         }
        },
        "yaxis": {
         "anchor": "x",
         "domain": [
          0,
          1
         ],
         "title": {
          "text": "Likes"
         }
        }
       }
      }
     },
     "metadata": {},
     "output_type": "display_data"
    }
   ],
   "source": [
    "px.bar(streamer_most_likes, x='Username', y='Likes')"
   ]
  },
  {
   "cell_type": "markdown",
   "metadata": {},
   "source": [
    "### 6.2 Streamer With Most Comments"
   ]
  },
  {
   "cell_type": "code",
   "execution_count": 49,
   "metadata": {},
   "outputs": [
    {
     "data": {
      "text/html": [
       "<div>\n",
       "<style scoped>\n",
       "    .dataframe tbody tr th:only-of-type {\n",
       "        vertical-align: middle;\n",
       "    }\n",
       "\n",
       "    .dataframe tbody tr th {\n",
       "        vertical-align: top;\n",
       "    }\n",
       "\n",
       "    .dataframe thead th {\n",
       "        text-align: right;\n",
       "    }\n",
       "</style>\n",
       "<table border=\"1\" class=\"dataframe\">\n",
       "  <thead>\n",
       "    <tr style=\"text-align: right;\">\n",
       "      <th></th>\n",
       "      <th>Username</th>\n",
       "      <th>Comments</th>\n",
       "    </tr>\n",
       "  </thead>\n",
       "  <tbody>\n",
       "    <tr>\n",
       "      <th>0</th>\n",
       "      <td>BispoBrunoLeonardo</td>\n",
       "      <td>154000.0</td>\n",
       "    </tr>\n",
       "    <tr>\n",
       "      <th>1</th>\n",
       "      <td>DaFuqBoom</td>\n",
       "      <td>82800.0</td>\n",
       "    </tr>\n",
       "    <tr>\n",
       "      <th>2</th>\n",
       "      <td>dojacat</td>\n",
       "      <td>73000.0</td>\n",
       "    </tr>\n",
       "    <tr>\n",
       "      <th>3</th>\n",
       "      <td>DanTDM</td>\n",
       "      <td>52500.0</td>\n",
       "    </tr>\n",
       "    <tr>\n",
       "      <th>4</th>\n",
       "      <td>triggeredinsaan</td>\n",
       "      <td>38000.0</td>\n",
       "    </tr>\n",
       "    <tr>\n",
       "      <th>5</th>\n",
       "      <td>MRINDIANHACKER</td>\n",
       "      <td>26000.0</td>\n",
       "    </tr>\n",
       "    <tr>\n",
       "      <th>6</th>\n",
       "      <td>BeastPhilanthropy</td>\n",
       "      <td>24000.0</td>\n",
       "    </tr>\n",
       "    <tr>\n",
       "      <th>7</th>\n",
       "      <td>A4a4a4a4</td>\n",
       "      <td>22000.0</td>\n",
       "    </tr>\n",
       "    <tr>\n",
       "      <th>8</th>\n",
       "      <td>dream</td>\n",
       "      <td>19000.0</td>\n",
       "    </tr>\n",
       "    <tr>\n",
       "      <th>9</th>\n",
       "      <td>MrBeast</td>\n",
       "      <td>18500.0</td>\n",
       "    </tr>\n",
       "  </tbody>\n",
       "</table>\n",
       "</div>"
      ],
      "text/plain": [
       "             Username  Comments\n",
       "0  BispoBrunoLeonardo  154000.0\n",
       "1           DaFuqBoom   82800.0\n",
       "2             dojacat   73000.0\n",
       "3              DanTDM   52500.0\n",
       "4     triggeredinsaan   38000.0\n",
       "5      MRINDIANHACKER   26000.0\n",
       "6   BeastPhilanthropy   24000.0\n",
       "7            A4a4a4a4   22000.0\n",
       "8               dream   19000.0\n",
       "9             MrBeast   18500.0"
      ]
     },
     "execution_count": 49,
     "metadata": {},
     "output_type": "execute_result"
    }
   ],
   "source": [
    "streamer_most_comments = yt[['Username', 'Comments',]].groupby(by='Username').sum().sort_values(by='Comments', ascending=False)[:10].reset_index()\n",
    "streamer_most_comments"
   ]
  },
  {
   "cell_type": "code",
   "execution_count": 50,
   "metadata": {},
   "outputs": [
    {
     "data": {
      "application/vnd.plotly.v1+json": {
       "config": {
        "plotlyServerURL": "https://plot.ly"
       },
       "data": [
        {
         "alignmentgroup": "True",
         "hovertemplate": "Username=%{x}<br>Comments=%{y}<extra></extra>",
         "legendgroup": "",
         "marker": {
          "color": "#636efa",
          "pattern": {
           "shape": ""
          }
         },
         "name": "",
         "offsetgroup": "",
         "orientation": "v",
         "showlegend": false,
         "textposition": "auto",
         "type": "bar",
         "x": [
          "BispoBrunoLeonardo",
          "DaFuqBoom",
          "dojacat",
          "DanTDM",
          "triggeredinsaan",
          "MRINDIANHACKER",
          "BeastPhilanthropy",
          "A4a4a4a4",
          "dream",
          "MrBeast"
         ],
         "xaxis": "x",
         "y": [
          154000,
          82800,
          73000,
          52500,
          38000,
          26000,
          24000,
          22000,
          19000,
          18500
         ],
         "yaxis": "y"
        }
       ],
       "layout": {
        "barmode": "relative",
        "legend": {
         "tracegroupgap": 0
        },
        "margin": {
         "t": 60
        },
        "template": {
         "data": {
          "bar": [
           {
            "error_x": {
             "color": "#2a3f5f"
            },
            "error_y": {
             "color": "#2a3f5f"
            },
            "marker": {
             "line": {
              "color": "#E5ECF6",
              "width": 0.5
             },
             "pattern": {
              "fillmode": "overlay",
              "size": 10,
              "solidity": 0.2
             }
            },
            "type": "bar"
           }
          ],
          "barpolar": [
           {
            "marker": {
             "line": {
              "color": "#E5ECF6",
              "width": 0.5
             },
             "pattern": {
              "fillmode": "overlay",
              "size": 10,
              "solidity": 0.2
             }
            },
            "type": "barpolar"
           }
          ],
          "carpet": [
           {
            "aaxis": {
             "endlinecolor": "#2a3f5f",
             "gridcolor": "white",
             "linecolor": "white",
             "minorgridcolor": "white",
             "startlinecolor": "#2a3f5f"
            },
            "baxis": {
             "endlinecolor": "#2a3f5f",
             "gridcolor": "white",
             "linecolor": "white",
             "minorgridcolor": "white",
             "startlinecolor": "#2a3f5f"
            },
            "type": "carpet"
           }
          ],
          "choropleth": [
           {
            "colorbar": {
             "outlinewidth": 0,
             "ticks": ""
            },
            "type": "choropleth"
           }
          ],
          "contour": [
           {
            "colorbar": {
             "outlinewidth": 0,
             "ticks": ""
            },
            "colorscale": [
             [
              0,
              "#0d0887"
             ],
             [
              0.1111111111111111,
              "#46039f"
             ],
             [
              0.2222222222222222,
              "#7201a8"
             ],
             [
              0.3333333333333333,
              "#9c179e"
             ],
             [
              0.4444444444444444,
              "#bd3786"
             ],
             [
              0.5555555555555556,
              "#d8576b"
             ],
             [
              0.6666666666666666,
              "#ed7953"
             ],
             [
              0.7777777777777778,
              "#fb9f3a"
             ],
             [
              0.8888888888888888,
              "#fdca26"
             ],
             [
              1,
              "#f0f921"
             ]
            ],
            "type": "contour"
           }
          ],
          "contourcarpet": [
           {
            "colorbar": {
             "outlinewidth": 0,
             "ticks": ""
            },
            "type": "contourcarpet"
           }
          ],
          "heatmap": [
           {
            "colorbar": {
             "outlinewidth": 0,
             "ticks": ""
            },
            "colorscale": [
             [
              0,
              "#0d0887"
             ],
             [
              0.1111111111111111,
              "#46039f"
             ],
             [
              0.2222222222222222,
              "#7201a8"
             ],
             [
              0.3333333333333333,
              "#9c179e"
             ],
             [
              0.4444444444444444,
              "#bd3786"
             ],
             [
              0.5555555555555556,
              "#d8576b"
             ],
             [
              0.6666666666666666,
              "#ed7953"
             ],
             [
              0.7777777777777778,
              "#fb9f3a"
             ],
             [
              0.8888888888888888,
              "#fdca26"
             ],
             [
              1,
              "#f0f921"
             ]
            ],
            "type": "heatmap"
           }
          ],
          "heatmapgl": [
           {
            "colorbar": {
             "outlinewidth": 0,
             "ticks": ""
            },
            "colorscale": [
             [
              0,
              "#0d0887"
             ],
             [
              0.1111111111111111,
              "#46039f"
             ],
             [
              0.2222222222222222,
              "#7201a8"
             ],
             [
              0.3333333333333333,
              "#9c179e"
             ],
             [
              0.4444444444444444,
              "#bd3786"
             ],
             [
              0.5555555555555556,
              "#d8576b"
             ],
             [
              0.6666666666666666,
              "#ed7953"
             ],
             [
              0.7777777777777778,
              "#fb9f3a"
             ],
             [
              0.8888888888888888,
              "#fdca26"
             ],
             [
              1,
              "#f0f921"
             ]
            ],
            "type": "heatmapgl"
           }
          ],
          "histogram": [
           {
            "marker": {
             "pattern": {
              "fillmode": "overlay",
              "size": 10,
              "solidity": 0.2
             }
            },
            "type": "histogram"
           }
          ],
          "histogram2d": [
           {
            "colorbar": {
             "outlinewidth": 0,
             "ticks": ""
            },
            "colorscale": [
             [
              0,
              "#0d0887"
             ],
             [
              0.1111111111111111,
              "#46039f"
             ],
             [
              0.2222222222222222,
              "#7201a8"
             ],
             [
              0.3333333333333333,
              "#9c179e"
             ],
             [
              0.4444444444444444,
              "#bd3786"
             ],
             [
              0.5555555555555556,
              "#d8576b"
             ],
             [
              0.6666666666666666,
              "#ed7953"
             ],
             [
              0.7777777777777778,
              "#fb9f3a"
             ],
             [
              0.8888888888888888,
              "#fdca26"
             ],
             [
              1,
              "#f0f921"
             ]
            ],
            "type": "histogram2d"
           }
          ],
          "histogram2dcontour": [
           {
            "colorbar": {
             "outlinewidth": 0,
             "ticks": ""
            },
            "colorscale": [
             [
              0,
              "#0d0887"
             ],
             [
              0.1111111111111111,
              "#46039f"
             ],
             [
              0.2222222222222222,
              "#7201a8"
             ],
             [
              0.3333333333333333,
              "#9c179e"
             ],
             [
              0.4444444444444444,
              "#bd3786"
             ],
             [
              0.5555555555555556,
              "#d8576b"
             ],
             [
              0.6666666666666666,
              "#ed7953"
             ],
             [
              0.7777777777777778,
              "#fb9f3a"
             ],
             [
              0.8888888888888888,
              "#fdca26"
             ],
             [
              1,
              "#f0f921"
             ]
            ],
            "type": "histogram2dcontour"
           }
          ],
          "mesh3d": [
           {
            "colorbar": {
             "outlinewidth": 0,
             "ticks": ""
            },
            "type": "mesh3d"
           }
          ],
          "parcoords": [
           {
            "line": {
             "colorbar": {
              "outlinewidth": 0,
              "ticks": ""
             }
            },
            "type": "parcoords"
           }
          ],
          "pie": [
           {
            "automargin": true,
            "type": "pie"
           }
          ],
          "scatter": [
           {
            "fillpattern": {
             "fillmode": "overlay",
             "size": 10,
             "solidity": 0.2
            },
            "type": "scatter"
           }
          ],
          "scatter3d": [
           {
            "line": {
             "colorbar": {
              "outlinewidth": 0,
              "ticks": ""
             }
            },
            "marker": {
             "colorbar": {
              "outlinewidth": 0,
              "ticks": ""
             }
            },
            "type": "scatter3d"
           }
          ],
          "scattercarpet": [
           {
            "marker": {
             "colorbar": {
              "outlinewidth": 0,
              "ticks": ""
             }
            },
            "type": "scattercarpet"
           }
          ],
          "scattergeo": [
           {
            "marker": {
             "colorbar": {
              "outlinewidth": 0,
              "ticks": ""
             }
            },
            "type": "scattergeo"
           }
          ],
          "scattergl": [
           {
            "marker": {
             "colorbar": {
              "outlinewidth": 0,
              "ticks": ""
             }
            },
            "type": "scattergl"
           }
          ],
          "scattermapbox": [
           {
            "marker": {
             "colorbar": {
              "outlinewidth": 0,
              "ticks": ""
             }
            },
            "type": "scattermapbox"
           }
          ],
          "scatterpolar": [
           {
            "marker": {
             "colorbar": {
              "outlinewidth": 0,
              "ticks": ""
             }
            },
            "type": "scatterpolar"
           }
          ],
          "scatterpolargl": [
           {
            "marker": {
             "colorbar": {
              "outlinewidth": 0,
              "ticks": ""
             }
            },
            "type": "scatterpolargl"
           }
          ],
          "scatterternary": [
           {
            "marker": {
             "colorbar": {
              "outlinewidth": 0,
              "ticks": ""
             }
            },
            "type": "scatterternary"
           }
          ],
          "surface": [
           {
            "colorbar": {
             "outlinewidth": 0,
             "ticks": ""
            },
            "colorscale": [
             [
              0,
              "#0d0887"
             ],
             [
              0.1111111111111111,
              "#46039f"
             ],
             [
              0.2222222222222222,
              "#7201a8"
             ],
             [
              0.3333333333333333,
              "#9c179e"
             ],
             [
              0.4444444444444444,
              "#bd3786"
             ],
             [
              0.5555555555555556,
              "#d8576b"
             ],
             [
              0.6666666666666666,
              "#ed7953"
             ],
             [
              0.7777777777777778,
              "#fb9f3a"
             ],
             [
              0.8888888888888888,
              "#fdca26"
             ],
             [
              1,
              "#f0f921"
             ]
            ],
            "type": "surface"
           }
          ],
          "table": [
           {
            "cells": {
             "fill": {
              "color": "#EBF0F8"
             },
             "line": {
              "color": "white"
             }
            },
            "header": {
             "fill": {
              "color": "#C8D4E3"
             },
             "line": {
              "color": "white"
             }
            },
            "type": "table"
           }
          ]
         },
         "layout": {
          "annotationdefaults": {
           "arrowcolor": "#2a3f5f",
           "arrowhead": 0,
           "arrowwidth": 1
          },
          "autotypenumbers": "strict",
          "coloraxis": {
           "colorbar": {
            "outlinewidth": 0,
            "ticks": ""
           }
          },
          "colorscale": {
           "diverging": [
            [
             0,
             "#8e0152"
            ],
            [
             0.1,
             "#c51b7d"
            ],
            [
             0.2,
             "#de77ae"
            ],
            [
             0.3,
             "#f1b6da"
            ],
            [
             0.4,
             "#fde0ef"
            ],
            [
             0.5,
             "#f7f7f7"
            ],
            [
             0.6,
             "#e6f5d0"
            ],
            [
             0.7,
             "#b8e186"
            ],
            [
             0.8,
             "#7fbc41"
            ],
            [
             0.9,
             "#4d9221"
            ],
            [
             1,
             "#276419"
            ]
           ],
           "sequential": [
            [
             0,
             "#0d0887"
            ],
            [
             0.1111111111111111,
             "#46039f"
            ],
            [
             0.2222222222222222,
             "#7201a8"
            ],
            [
             0.3333333333333333,
             "#9c179e"
            ],
            [
             0.4444444444444444,
             "#bd3786"
            ],
            [
             0.5555555555555556,
             "#d8576b"
            ],
            [
             0.6666666666666666,
             "#ed7953"
            ],
            [
             0.7777777777777778,
             "#fb9f3a"
            ],
            [
             0.8888888888888888,
             "#fdca26"
            ],
            [
             1,
             "#f0f921"
            ]
           ],
           "sequentialminus": [
            [
             0,
             "#0d0887"
            ],
            [
             0.1111111111111111,
             "#46039f"
            ],
            [
             0.2222222222222222,
             "#7201a8"
            ],
            [
             0.3333333333333333,
             "#9c179e"
            ],
            [
             0.4444444444444444,
             "#bd3786"
            ],
            [
             0.5555555555555556,
             "#d8576b"
            ],
            [
             0.6666666666666666,
             "#ed7953"
            ],
            [
             0.7777777777777778,
             "#fb9f3a"
            ],
            [
             0.8888888888888888,
             "#fdca26"
            ],
            [
             1,
             "#f0f921"
            ]
           ]
          },
          "colorway": [
           "#636efa",
           "#EF553B",
           "#00cc96",
           "#ab63fa",
           "#FFA15A",
           "#19d3f3",
           "#FF6692",
           "#B6E880",
           "#FF97FF",
           "#FECB52"
          ],
          "font": {
           "color": "#2a3f5f"
          },
          "geo": {
           "bgcolor": "white",
           "lakecolor": "white",
           "landcolor": "#E5ECF6",
           "showlakes": true,
           "showland": true,
           "subunitcolor": "white"
          },
          "hoverlabel": {
           "align": "left"
          },
          "hovermode": "closest",
          "mapbox": {
           "style": "light"
          },
          "paper_bgcolor": "white",
          "plot_bgcolor": "#E5ECF6",
          "polar": {
           "angularaxis": {
            "gridcolor": "white",
            "linecolor": "white",
            "ticks": ""
           },
           "bgcolor": "#E5ECF6",
           "radialaxis": {
            "gridcolor": "white",
            "linecolor": "white",
            "ticks": ""
           }
          },
          "scene": {
           "xaxis": {
            "backgroundcolor": "#E5ECF6",
            "gridcolor": "white",
            "gridwidth": 2,
            "linecolor": "white",
            "showbackground": true,
            "ticks": "",
            "zerolinecolor": "white"
           },
           "yaxis": {
            "backgroundcolor": "#E5ECF6",
            "gridcolor": "white",
            "gridwidth": 2,
            "linecolor": "white",
            "showbackground": true,
            "ticks": "",
            "zerolinecolor": "white"
           },
           "zaxis": {
            "backgroundcolor": "#E5ECF6",
            "gridcolor": "white",
            "gridwidth": 2,
            "linecolor": "white",
            "showbackground": true,
            "ticks": "",
            "zerolinecolor": "white"
           }
          },
          "shapedefaults": {
           "line": {
            "color": "#2a3f5f"
           }
          },
          "ternary": {
           "aaxis": {
            "gridcolor": "white",
            "linecolor": "white",
            "ticks": ""
           },
           "baxis": {
            "gridcolor": "white",
            "linecolor": "white",
            "ticks": ""
           },
           "bgcolor": "#E5ECF6",
           "caxis": {
            "gridcolor": "white",
            "linecolor": "white",
            "ticks": ""
           }
          },
          "title": {
           "x": 0.05
          },
          "xaxis": {
           "automargin": true,
           "gridcolor": "white",
           "linecolor": "white",
           "ticks": "",
           "title": {
            "standoff": 15
           },
           "zerolinecolor": "white",
           "zerolinewidth": 2
          },
          "yaxis": {
           "automargin": true,
           "gridcolor": "white",
           "linecolor": "white",
           "ticks": "",
           "title": {
            "standoff": 15
           },
           "zerolinecolor": "white",
           "zerolinewidth": 2
          }
         }
        },
        "xaxis": {
         "anchor": "y",
         "domain": [
          0,
          1
         ],
         "title": {
          "text": "Username"
         }
        },
        "yaxis": {
         "anchor": "x",
         "domain": [
          0,
          1
         ],
         "title": {
          "text": "Comments"
         }
        }
       }
      }
     },
     "metadata": {},
     "output_type": "display_data"
    }
   ],
   "source": [
    "px.bar(streamer_most_comments, x='Username', y='Comments')"
   ]
  },
  {
   "cell_type": "code",
   "execution_count": null,
   "metadata": {},
   "outputs": [],
   "source": []
  }
 ],
 "metadata": {
  "kernelspec": {
   "display_name": "Python 3",
   "language": "python",
   "name": "python3"
  },
  "language_info": {
   "codemirror_mode": {
    "name": "ipython",
    "version": 3
   },
   "file_extension": ".py",
   "mimetype": "text/x-python",
   "name": "python",
   "nbconvert_exporter": "python",
   "pygments_lexer": "ipython3",
   "version": "3.12.2"
  }
 },
 "nbformat": 4,
 "nbformat_minor": 2
}
